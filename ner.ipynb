{
  "cells": [
    {
      "cell_type": "markdown",
      "metadata": {
        "id": "aaasuNCiOBnF"
      },
      "source": [
        "# ディープラーニングによる自然言語処理: 固有表現認識モデルの実装"
      ]
    },
    {
      "cell_type": "markdown",
      "metadata": {
        "id": "zWHrIRahkI-g"
      },
      "source": [
        "## 環境のセットアップ"
      ]
    },
    {
      "cell_type": "markdown",
      "metadata": {
        "id": "SUjcZ6D4uzLU"
      },
      "source": [
        "本ノートブックの実行に必要なパッケージをインストールします。"
      ]
    },
    {
      "cell_type": "code",
      "execution_count": null,
      "metadata": {
        "colab": {
          "base_uri": "https://localhost:8080/",
          "height": 1000
        },
        "id": "O1YitZFWN9dC",
        "outputId": "e821fb3c-e8c5-4feb-e28d-636b38a56a40"
      },
      "outputs": [
        {
          "output_type": "stream",
          "name": "stdout",
          "text": [
            "Collecting allennlp==2.9.2\n",
            "  Downloading allennlp-2.9.2-py3-none-any.whl (719 kB)\n",
            "\u001b[K     |████████████████████████████████| 719 kB 5.2 MB/s \n",
            "\u001b[?25hCollecting allennlp-models==2.9.0\n",
            "  Downloading allennlp_models-2.9.0-py3-none-any.whl (463 kB)\n",
            "\u001b[K     |████████████████████████████████| 463 kB 52.0 MB/s \n",
            "\u001b[?25hCollecting google-cloud-storage==2.1.0\n",
            "  Downloading google_cloud_storage-2.1.0-py2.py3-none-any.whl (106 kB)\n",
            "\u001b[K     |████████████████████████████████| 106 kB 95.5 MB/s \n",
            "\u001b[?25hCollecting transformers<4.18,>=4.1\n",
            "  Downloading transformers-4.17.0-py3-none-any.whl (3.8 MB)\n",
            "\u001b[K     |████████████████████████████████| 3.8 MB 54.1 MB/s \n",
            "\u001b[?25hRequirement already satisfied: numpy in /usr/local/lib/python3.7/dist-packages (from allennlp==2.9.2) (1.21.5)\n",
            "Requirement already satisfied: lmdb in /usr/local/lib/python3.7/dist-packages (from allennlp==2.9.2) (0.99)\n",
            "Requirement already satisfied: more-itertools in /usr/local/lib/python3.7/dist-packages (from allennlp==2.9.2) (8.12.0)\n",
            "Requirement already satisfied: termcolor==1.1.0 in /usr/local/lib/python3.7/dist-packages (from allennlp==2.9.2) (1.1.0)\n",
            "Requirement already satisfied: scikit-learn in /usr/local/lib/python3.7/dist-packages (from allennlp==2.9.2) (1.0.2)\n",
            "Collecting sentencepiece\n",
            "  Downloading sentencepiece-0.1.96-cp37-cp37m-manylinux_2_17_x86_64.manylinux2014_x86_64.whl (1.2 MB)\n",
            "\u001b[K     |████████████████████████████████| 1.2 MB 30.6 MB/s \n",
            "\u001b[?25hCollecting fairscale==0.4.6\n",
            "  Downloading fairscale-0.4.6.tar.gz (248 kB)\n",
            "\u001b[K     |████████████████████████████████| 248 kB 29.4 MB/s \n",
            "\u001b[?25h  Installing build dependencies ... \u001b[?25l\u001b[?25hdone\n",
            "  Getting requirements to build wheel ... \u001b[?25l\u001b[?25hdone\n",
            "  Installing backend dependencies ... \u001b[?25l\u001b[?25hdone\n",
            "    Preparing wheel metadata ... \u001b[?25l\u001b[?25hdone\n",
            "Requirement already satisfied: torch<1.12.0,>=1.6.0 in /usr/local/lib/python3.7/dist-packages (from allennlp==2.9.2) (1.10.0+cu111)\n",
            "Collecting jsonnet>=0.10.0\n",
            "  Downloading jsonnet-0.18.0.tar.gz (592 kB)\n",
            "\u001b[K     |████████████████████████████████| 592 kB 63.8 MB/s \n",
            "\u001b[?25hCollecting wandb<0.13.0,>=0.10.0\n",
            "  Downloading wandb-0.12.14-py2.py3-none-any.whl (1.8 MB)\n",
            "\u001b[K     |████████████████████████████████| 1.8 MB 52.6 MB/s \n",
            "\u001b[?25hRequirement already satisfied: dill in /usr/local/lib/python3.7/dist-packages (from allennlp==2.9.2) (0.3.4)\n",
            "Collecting tensorboardX>=1.2\n",
            "  Downloading tensorboardX-2.5-py2.py3-none-any.whl (125 kB)\n",
            "\u001b[K     |████████████████████████████████| 125 kB 74.5 MB/s \n",
            "\u001b[?25hRequirement already satisfied: pytest in /usr/local/lib/python3.7/dist-packages (from allennlp==2.9.2) (3.6.4)\n",
            "Requirement already satisfied: nltk in /usr/local/lib/python3.7/dist-packages (from allennlp==2.9.2) (3.2.5)\n",
            "Requirement already satisfied: scipy in /usr/local/lib/python3.7/dist-packages (from allennlp==2.9.2) (1.4.1)\n",
            "Requirement already satisfied: h5py in /usr/local/lib/python3.7/dist-packages (from allennlp==2.9.2) (3.1.0)\n",
            "Requirement already satisfied: requests>=2.18 in /usr/local/lib/python3.7/dist-packages (from allennlp==2.9.2) (2.23.0)\n",
            "Collecting base58\n",
            "  Downloading base58-2.1.1-py3-none-any.whl (5.6 kB)\n",
            "Collecting cached-path<1.2.0,>=1.0.2\n",
            "  Downloading cached_path-1.1.2-py3-none-any.whl (26 kB)\n",
            "Collecting huggingface-hub>=0.0.16\n",
            "  Downloading huggingface_hub-0.5.1-py3-none-any.whl (77 kB)\n",
            "\u001b[K     |████████████████████████████████| 77 kB 9.5 MB/s \n",
            "\u001b[?25hRequirement already satisfied: tqdm>=4.62 in /usr/local/lib/python3.7/dist-packages (from allennlp==2.9.2) (4.63.0)\n",
            "Requirement already satisfied: spacy<3.3,>=2.1.0 in /usr/local/lib/python3.7/dist-packages (from allennlp==2.9.2) (2.2.4)\n",
            "Requirement already satisfied: filelock<3.7,>=3.3 in /usr/local/lib/python3.7/dist-packages (from allennlp==2.9.2) (3.6.0)\n",
            "Requirement already satisfied: torchvision<0.13.0,>=0.8.1 in /usr/local/lib/python3.7/dist-packages (from allennlp==2.9.2) (0.11.1+cu111)\n",
            "Collecting datasets\n",
            "  Downloading datasets-2.0.0-py3-none-any.whl (325 kB)\n",
            "\u001b[K     |████████████████████████████████| 325 kB 76.6 MB/s \n",
            "\u001b[?25hCollecting conllu==4.4.1\n",
            "  Downloading conllu-4.4.1-py2.py3-none-any.whl (15 kB)\n",
            "Collecting ftfy\n",
            "  Downloading ftfy-6.1.1-py3-none-any.whl (53 kB)\n",
            "\u001b[K     |████████████████████████████████| 53 kB 2.5 MB/s \n",
            "\u001b[?25hCollecting py-rouge==1.1\n",
            "  Downloading py_rouge-1.1-py3-none-any.whl (56 kB)\n",
            "\u001b[K     |████████████████████████████████| 56 kB 6.3 MB/s \n",
            "\u001b[?25hCollecting nltk\n",
            "  Downloading nltk-3.7-py3-none-any.whl (1.5 MB)\n",
            "\u001b[K     |████████████████████████████████| 1.5 MB 49.0 MB/s \n",
            "\u001b[?25hCollecting word2number>=1.1\n",
            "  Downloading word2number-1.1.zip (9.7 kB)\n",
            "Requirement already satisfied: protobuf in /usr/local/lib/python3.7/dist-packages (from google-cloud-storage==2.1.0) (3.17.3)\n",
            "Collecting google-api-core<3.0dev,>=1.29.0\n",
            "  Downloading google_api_core-2.7.1-py3-none-any.whl (114 kB)\n",
            "\u001b[K     |████████████████████████████████| 114 kB 69.8 MB/s \n",
            "\u001b[?25hCollecting google-resumable-media>=1.3.0\n",
            "  Downloading google_resumable_media-2.3.2-py2.py3-none-any.whl (76 kB)\n",
            "\u001b[K     |████████████████████████████████| 76 kB 7.9 MB/s \n",
            "\u001b[?25hRequirement already satisfied: google-auth<3.0dev,>=1.25.0 in /usr/local/lib/python3.7/dist-packages (from google-cloud-storage==2.1.0) (1.35.0)\n",
            "Collecting google-cloud-core<3.0dev,>=1.6.0\n",
            "  Downloading google_cloud_core-2.2.3-py2.py3-none-any.whl (29 kB)\n",
            "Collecting boto3<2.0,>=1.0\n",
            "  Downloading boto3-1.21.37-py3-none-any.whl (132 kB)\n",
            "\u001b[K     |████████████████████████████████| 132 kB 60.5 MB/s \n",
            "\u001b[?25hCollecting botocore<1.25.0,>=1.24.37\n",
            "  Downloading botocore-1.24.37-py3-none-any.whl (8.7 MB)\n",
            "\u001b[K     |████████████████████████████████| 8.7 MB 48.9 MB/s \n",
            "\u001b[?25hCollecting s3transfer<0.6.0,>=0.5.0\n",
            "  Downloading s3transfer-0.5.2-py3-none-any.whl (79 kB)\n",
            "\u001b[K     |████████████████████████████████| 79 kB 10.8 MB/s \n",
            "\u001b[?25hCollecting jmespath<2.0.0,>=0.7.1\n",
            "  Downloading jmespath-1.0.0-py3-none-any.whl (23 kB)\n",
            "Collecting urllib3<1.27,>=1.25.4\n",
            "  Downloading urllib3-1.26.9-py2.py3-none-any.whl (138 kB)\n",
            "\u001b[K     |████████████████████████████████| 138 kB 79.1 MB/s \n",
            "\u001b[?25hRequirement already satisfied: python-dateutil<3.0.0,>=2.1 in /usr/local/lib/python3.7/dist-packages (from botocore<1.25.0,>=1.24.37->boto3<2.0,>=1.0->cached-path<1.2.0,>=1.0.2->allennlp==2.9.2) (2.8.2)\n",
            "Requirement already satisfied: googleapis-common-protos<2.0dev,>=1.52.0 in /usr/local/lib/python3.7/dist-packages (from google-api-core<3.0dev,>=1.29.0->google-cloud-storage==2.1.0) (1.56.0)\n",
            "Requirement already satisfied: six>=1.9.0 in /usr/local/lib/python3.7/dist-packages (from google-auth<3.0dev,>=1.25.0->google-cloud-storage==2.1.0) (1.15.0)\n",
            "Requirement already satisfied: setuptools>=40.3.0 in /usr/local/lib/python3.7/dist-packages (from google-auth<3.0dev,>=1.25.0->google-cloud-storage==2.1.0) (57.4.0)\n",
            "Requirement already satisfied: cachetools<5.0,>=2.0.0 in /usr/local/lib/python3.7/dist-packages (from google-auth<3.0dev,>=1.25.0->google-cloud-storage==2.1.0) (4.2.4)\n",
            "Requirement already satisfied: rsa<5,>=3.1.4 in /usr/local/lib/python3.7/dist-packages (from google-auth<3.0dev,>=1.25.0->google-cloud-storage==2.1.0) (4.8)\n",
            "Requirement already satisfied: pyasn1-modules>=0.2.1 in /usr/local/lib/python3.7/dist-packages (from google-auth<3.0dev,>=1.25.0->google-cloud-storage==2.1.0) (0.2.8)\n",
            "Collecting google-crc32c<2.0dev,>=1.0\n",
            "  Downloading google_crc32c-1.3.0-cp37-cp37m-manylinux_2_12_x86_64.manylinux2010_x86_64.whl (38 kB)\n",
            "Requirement already satisfied: typing-extensions>=3.7.4.3 in /usr/local/lib/python3.7/dist-packages (from huggingface-hub>=0.0.16->allennlp==2.9.2) (3.10.0.2)\n",
            "Requirement already satisfied: importlib-metadata in /usr/local/lib/python3.7/dist-packages (from huggingface-hub>=0.0.16->allennlp==2.9.2) (4.11.3)\n",
            "Requirement already satisfied: packaging>=20.9 in /usr/local/lib/python3.7/dist-packages (from huggingface-hub>=0.0.16->allennlp==2.9.2) (21.3)\n",
            "Requirement already satisfied: pyyaml in /usr/local/lib/python3.7/dist-packages (from huggingface-hub>=0.0.16->allennlp==2.9.2) (3.13)\n",
            "Requirement already satisfied: joblib in /usr/local/lib/python3.7/dist-packages (from nltk->allennlp==2.9.2) (1.1.0)\n",
            "Requirement already satisfied: click in /usr/local/lib/python3.7/dist-packages (from nltk->allennlp==2.9.2) (7.1.2)\n",
            "Collecting regex>=2021.8.3\n",
            "  Downloading regex-2022.3.15-cp37-cp37m-manylinux_2_17_x86_64.manylinux2014_x86_64.whl (749 kB)\n",
            "\u001b[K     |████████████████████████████████| 749 kB 60.3 MB/s \n",
            "\u001b[?25hRequirement already satisfied: pyparsing!=3.0.5,>=2.0.2 in /usr/local/lib/python3.7/dist-packages (from packaging>=20.9->huggingface-hub>=0.0.16->allennlp==2.9.2) (3.0.7)\n",
            "Requirement already satisfied: pyasn1<0.5.0,>=0.4.6 in /usr/local/lib/python3.7/dist-packages (from pyasn1-modules>=0.2.1->google-auth<3.0dev,>=1.25.0->google-cloud-storage==2.1.0) (0.4.8)\n",
            "Collecting urllib3<1.27,>=1.25.4\n",
            "  Downloading urllib3-1.25.11-py2.py3-none-any.whl (127 kB)\n",
            "\u001b[K     |████████████████████████████████| 127 kB 73.6 MB/s \n",
            "\u001b[?25hRequirement already satisfied: certifi>=2017.4.17 in /usr/local/lib/python3.7/dist-packages (from requests>=2.18->allennlp==2.9.2) (2021.10.8)\n",
            "Requirement already satisfied: chardet<4,>=3.0.2 in /usr/local/lib/python3.7/dist-packages (from requests>=2.18->allennlp==2.9.2) (3.0.4)\n",
            "Requirement already satisfied: idna<3,>=2.5 in /usr/local/lib/python3.7/dist-packages (from requests>=2.18->allennlp==2.9.2) (2.10)\n",
            "Requirement already satisfied: wasabi<1.1.0,>=0.4.0 in /usr/local/lib/python3.7/dist-packages (from spacy<3.3,>=2.1.0->allennlp==2.9.2) (0.9.0)\n",
            "Requirement already satisfied: catalogue<1.1.0,>=0.0.7 in /usr/local/lib/python3.7/dist-packages (from spacy<3.3,>=2.1.0->allennlp==2.9.2) (1.0.0)\n",
            "Requirement already satisfied: cymem<2.1.0,>=2.0.2 in /usr/local/lib/python3.7/dist-packages (from spacy<3.3,>=2.1.0->allennlp==2.9.2) (2.0.6)\n",
            "Requirement already satisfied: thinc==7.4.0 in /usr/local/lib/python3.7/dist-packages (from spacy<3.3,>=2.1.0->allennlp==2.9.2) (7.4.0)\n",
            "Requirement already satisfied: plac<1.2.0,>=0.9.6 in /usr/local/lib/python3.7/dist-packages (from spacy<3.3,>=2.1.0->allennlp==2.9.2) (1.1.3)\n",
            "Requirement already satisfied: preshed<3.1.0,>=3.0.2 in /usr/local/lib/python3.7/dist-packages (from spacy<3.3,>=2.1.0->allennlp==2.9.2) (3.0.6)\n",
            "Requirement already satisfied: murmurhash<1.1.0,>=0.28.0 in /usr/local/lib/python3.7/dist-packages (from spacy<3.3,>=2.1.0->allennlp==2.9.2) (1.0.6)\n",
            "Requirement already satisfied: blis<0.5.0,>=0.4.0 in /usr/local/lib/python3.7/dist-packages (from spacy<3.3,>=2.1.0->allennlp==2.9.2) (0.4.1)\n",
            "Requirement already satisfied: srsly<1.1.0,>=1.0.2 in /usr/local/lib/python3.7/dist-packages (from spacy<3.3,>=2.1.0->allennlp==2.9.2) (1.0.5)\n",
            "Requirement already satisfied: zipp>=0.5 in /usr/local/lib/python3.7/dist-packages (from importlib-metadata->huggingface-hub>=0.0.16->allennlp==2.9.2) (3.7.0)\n",
            "Requirement already satisfied: pillow!=8.3.0,>=5.3.0 in /usr/local/lib/python3.7/dist-packages (from torchvision<0.13.0,>=0.8.1->allennlp==2.9.2) (7.1.2)\n",
            "Collecting pyyaml\n",
            "  Downloading PyYAML-6.0-cp37-cp37m-manylinux_2_5_x86_64.manylinux1_x86_64.manylinux_2_12_x86_64.manylinux2010_x86_64.whl (596 kB)\n",
            "\u001b[K     |████████████████████████████████| 596 kB 65.4 MB/s \n",
            "\u001b[?25hCollecting sacremoses\n",
            "  Downloading sacremoses-0.0.49-py3-none-any.whl (895 kB)\n",
            "\u001b[K     |████████████████████████████████| 895 kB 64.0 MB/s \n",
            "\u001b[?25hCollecting tokenizers!=0.11.3,>=0.11.1\n",
            "  Downloading tokenizers-0.11.6-cp37-cp37m-manylinux_2_12_x86_64.manylinux2010_x86_64.whl (6.5 MB)\n",
            "\u001b[K     |████████████████████████████████| 6.5 MB 54.5 MB/s \n",
            "\u001b[?25hCollecting GitPython>=1.0.0\n",
            "  Downloading GitPython-3.1.27-py3-none-any.whl (181 kB)\n",
            "\u001b[K     |████████████████████████████████| 181 kB 70.0 MB/s \n",
            "\u001b[?25hCollecting sentry-sdk>=1.0.0\n",
            "  Downloading sentry_sdk-1.5.8-py2.py3-none-any.whl (144 kB)\n",
            "\u001b[K     |████████████████████████████████| 144 kB 73.3 MB/s \n",
            "\u001b[?25hRequirement already satisfied: promise<3,>=2.0 in /usr/local/lib/python3.7/dist-packages (from wandb<0.13.0,>=0.10.0->allennlp==2.9.2) (2.3)\n",
            "Collecting pathtools\n",
            "  Downloading pathtools-0.1.2.tar.gz (11 kB)\n",
            "Collecting shortuuid>=0.5.0\n",
            "  Downloading shortuuid-1.0.8-py3-none-any.whl (9.5 kB)\n",
            "Collecting setproctitle\n",
            "  Downloading setproctitle-1.2.2-cp37-cp37m-manylinux1_x86_64.whl (36 kB)\n",
            "Collecting docker-pycreds>=0.4.0\n",
            "  Downloading docker_pycreds-0.4.0-py2.py3-none-any.whl (9.0 kB)\n",
            "Requirement already satisfied: psutil>=5.0.0 in /usr/local/lib/python3.7/dist-packages (from wandb<0.13.0,>=0.10.0->allennlp==2.9.2) (5.4.8)\n",
            "Collecting gitdb<5,>=4.0.1\n",
            "  Downloading gitdb-4.0.9-py3-none-any.whl (63 kB)\n",
            "\u001b[K     |████████████████████████████████| 63 kB 2.3 MB/s \n",
            "\u001b[?25hCollecting smmap<6,>=3.0.1\n",
            "  Downloading smmap-5.0.0-py3-none-any.whl (24 kB)\n",
            "Collecting aiohttp\n",
            "  Downloading aiohttp-3.8.1-cp37-cp37m-manylinux_2_5_x86_64.manylinux1_x86_64.manylinux_2_12_x86_64.manylinux2010_x86_64.whl (1.1 MB)\n",
            "\u001b[K     |████████████████████████████████| 1.1 MB 51.6 MB/s \n",
            "\u001b[?25hCollecting responses<0.19\n",
            "  Downloading responses-0.18.0-py3-none-any.whl (38 kB)\n",
            "Requirement already satisfied: pyarrow>=5.0.0 in /usr/local/lib/python3.7/dist-packages (from datasets->allennlp-models==2.9.0) (6.0.1)\n",
            "Collecting fsspec[http]>=2021.05.0\n",
            "  Downloading fsspec-2022.3.0-py3-none-any.whl (136 kB)\n",
            "\u001b[K     |████████████████████████████████| 136 kB 31.7 MB/s \n",
            "\u001b[?25hRequirement already satisfied: pandas in /usr/local/lib/python3.7/dist-packages (from datasets->allennlp-models==2.9.0) (1.3.5)\n",
            "Requirement already satisfied: multiprocess in /usr/local/lib/python3.7/dist-packages (from datasets->allennlp-models==2.9.0) (0.70.12.2)\n",
            "Collecting xxhash\n",
            "  Downloading xxhash-3.0.0-cp37-cp37m-manylinux_2_17_x86_64.manylinux2014_x86_64.whl (212 kB)\n",
            "\u001b[K     |████████████████████████████████| 212 kB 65.2 MB/s \n",
            "\u001b[?25hCollecting yarl<2.0,>=1.0\n",
            "  Downloading yarl-1.7.2-cp37-cp37m-manylinux_2_5_x86_64.manylinux1_x86_64.manylinux_2_12_x86_64.manylinux2010_x86_64.whl (271 kB)\n",
            "\u001b[K     |████████████████████████████████| 271 kB 70.5 MB/s \n",
            "\u001b[?25hCollecting aiosignal>=1.1.2\n",
            "  Downloading aiosignal-1.2.0-py3-none-any.whl (8.2 kB)\n",
            "Requirement already satisfied: attrs>=17.3.0 in /usr/local/lib/python3.7/dist-packages (from aiohttp->datasets->allennlp-models==2.9.0) (21.4.0)\n",
            "Requirement already satisfied: charset-normalizer<3.0,>=2.0 in /usr/local/lib/python3.7/dist-packages (from aiohttp->datasets->allennlp-models==2.9.0) (2.0.12)\n",
            "Collecting frozenlist>=1.1.1\n",
            "  Downloading frozenlist-1.3.0-cp37-cp37m-manylinux_2_5_x86_64.manylinux1_x86_64.manylinux_2_17_x86_64.manylinux2014_x86_64.whl (144 kB)\n",
            "\u001b[K     |████████████████████████████████| 144 kB 76.4 MB/s \n",
            "\u001b[?25hCollecting multidict<7.0,>=4.5\n",
            "  Downloading multidict-6.0.2-cp37-cp37m-manylinux_2_17_x86_64.manylinux2014_x86_64.whl (94 kB)\n",
            "\u001b[K     |████████████████████████████████| 94 kB 4.5 MB/s \n",
            "\u001b[?25hCollecting asynctest==0.13.0\n",
            "  Downloading asynctest-0.13.0-py3-none-any.whl (26 kB)\n",
            "Collecting async-timeout<5.0,>=4.0.0a3\n",
            "  Downloading async_timeout-4.0.2-py3-none-any.whl (5.8 kB)\n",
            "Requirement already satisfied: wcwidth>=0.2.5 in /usr/local/lib/python3.7/dist-packages (from ftfy->allennlp-models==2.9.0) (0.2.5)\n",
            "Requirement already satisfied: cached-property in /usr/local/lib/python3.7/dist-packages (from h5py->allennlp==2.9.2) (1.5.2)\n",
            "Requirement already satisfied: pytz>=2017.3 in /usr/local/lib/python3.7/dist-packages (from pandas->datasets->allennlp-models==2.9.0) (2018.9)\n",
            "Requirement already satisfied: atomicwrites>=1.0 in /usr/local/lib/python3.7/dist-packages (from pytest->allennlp==2.9.2) (1.4.0)\n",
            "Requirement already satisfied: pluggy<0.8,>=0.5 in /usr/local/lib/python3.7/dist-packages (from pytest->allennlp==2.9.2) (0.7.1)\n",
            "Requirement already satisfied: py>=1.5.0 in /usr/local/lib/python3.7/dist-packages (from pytest->allennlp==2.9.2) (1.11.0)\n",
            "Requirement already satisfied: threadpoolctl>=2.0.0 in /usr/local/lib/python3.7/dist-packages (from scikit-learn->allennlp==2.9.2) (3.1.0)\n",
            "Building wheels for collected packages: fairscale, jsonnet, word2number, pathtools\n",
            "  Building wheel for fairscale (PEP 517) ... \u001b[?25l\u001b[?25hdone\n",
            "  Created wheel for fairscale: filename=fairscale-0.4.6-py3-none-any.whl size=307252 sha256=3072ab29f47e87954122e44fb7bd714d7457ec58a768395dee438bc8fba5fc7a\n",
            "  Stored in directory: /root/.cache/pip/wheels/4e/4f/0b/94c29ea06dfad93260cb0377855f87b7b863312317a7f69fe7\n",
            "  Building wheel for jsonnet (setup.py) ... \u001b[?25l\u001b[?25hdone\n",
            "  Created wheel for jsonnet: filename=jsonnet-0.18.0-cp37-cp37m-linux_x86_64.whl size=3994567 sha256=e443277f766139171d3ab0c1c91b5e7f9ea32e059b2345a5ee955060af7689a3\n",
            "  Stored in directory: /root/.cache/pip/wheels/a9/63/f9/a653f9c21575e6ff271ee6a49939aa002005174cea6c35919d\n",
            "  Building wheel for word2number (setup.py) ... \u001b[?25l\u001b[?25hdone\n",
            "  Created wheel for word2number: filename=word2number-1.1-py3-none-any.whl size=5582 sha256=30658a8cb3874780a5aa64cf1f0ac69313045329a0290f5faa12239f2d20191e\n",
            "  Stored in directory: /root/.cache/pip/wheels/4b/c3/77/a5f48aeb0d3efb7cd5ad61cbd3da30bbf9ffc9662b07c9f879\n",
            "  Building wheel for pathtools (setup.py) ... \u001b[?25l\u001b[?25hdone\n",
            "  Created wheel for pathtools: filename=pathtools-0.1.2-py3-none-any.whl size=8806 sha256=4e876d00d7c862c7e83083b2c20c12a57898b6d75b49156d4f131e02ddd85ec3\n",
            "  Stored in directory: /root/.cache/pip/wheels/3e/31/09/fa59cef12cdcfecc627b3d24273699f390e71828921b2cbba2\n",
            "Successfully built fairscale jsonnet word2number pathtools\n",
            "Installing collected packages: urllib3, jmespath, smmap, multidict, google-crc32c, google-api-core, frozenlist, botocore, yarl, s3transfer, regex, pyyaml, google-resumable-media, google-cloud-core, gitdb, asynctest, async-timeout, aiosignal, tokenizers, shortuuid, setproctitle, sentry-sdk, sacremoses, pathtools, huggingface-hub, google-cloud-storage, GitPython, fsspec, docker-pycreds, boto3, aiohttp, xxhash, wandb, transformers, tensorboardX, sentencepiece, responses, nltk, jsonnet, fairscale, cached-path, base58, word2number, py-rouge, ftfy, datasets, conllu, allennlp, allennlp-models\n",
            "  Attempting uninstall: urllib3\n",
            "    Found existing installation: urllib3 1.24.3\n",
            "    Uninstalling urllib3-1.24.3:\n",
            "      Successfully uninstalled urllib3-1.24.3\n",
            "  Attempting uninstall: google-api-core\n",
            "    Found existing installation: google-api-core 1.26.3\n",
            "    Uninstalling google-api-core-1.26.3:\n",
            "      Successfully uninstalled google-api-core-1.26.3\n",
            "  Attempting uninstall: regex\n",
            "    Found existing installation: regex 2019.12.20\n",
            "    Uninstalling regex-2019.12.20:\n",
            "      Successfully uninstalled regex-2019.12.20\n",
            "  Attempting uninstall: pyyaml\n",
            "    Found existing installation: PyYAML 3.13\n",
            "    Uninstalling PyYAML-3.13:\n",
            "      Successfully uninstalled PyYAML-3.13\n",
            "  Attempting uninstall: google-resumable-media\n",
            "    Found existing installation: google-resumable-media 0.4.1\n",
            "    Uninstalling google-resumable-media-0.4.1:\n",
            "      Successfully uninstalled google-resumable-media-0.4.1\n",
            "  Attempting uninstall: google-cloud-core\n",
            "    Found existing installation: google-cloud-core 1.0.3\n",
            "    Uninstalling google-cloud-core-1.0.3:\n",
            "      Successfully uninstalled google-cloud-core-1.0.3\n",
            "  Attempting uninstall: google-cloud-storage\n",
            "    Found existing installation: google-cloud-storage 1.18.1\n",
            "    Uninstalling google-cloud-storage-1.18.1:\n",
            "      Successfully uninstalled google-cloud-storage-1.18.1\n",
            "  Attempting uninstall: nltk\n",
            "    Found existing installation: nltk 3.2.5\n",
            "    Uninstalling nltk-3.2.5:\n",
            "      Successfully uninstalled nltk-3.2.5\n",
            "\u001b[31mERROR: pip's dependency resolver does not currently take into account all the packages that are installed. This behaviour is the source of the following dependency conflicts.\n",
            "google-cloud-translate 1.5.0 requires google-api-core[grpc]<2.0.0dev,>=1.6.0, but you have google-api-core 2.7.1 which is incompatible.\n",
            "google-cloud-translate 1.5.0 requires google-cloud-core<2.0dev,>=1.0.0, but you have google-cloud-core 2.2.3 which is incompatible.\n",
            "google-cloud-language 1.2.0 requires google-api-core[grpc]<2.0.0dev,>=1.6.0, but you have google-api-core 2.7.1 which is incompatible.\n",
            "google-cloud-firestore 1.7.0 requires google-api-core[grpc]<2.0.0dev,>=1.14.0, but you have google-api-core 2.7.1 which is incompatible.\n",
            "google-cloud-firestore 1.7.0 requires google-cloud-core<2.0dev,>=1.0.3, but you have google-cloud-core 2.2.3 which is incompatible.\n",
            "google-cloud-datastore 1.8.0 requires google-api-core[grpc]<2.0.0dev,>=1.6.0, but you have google-api-core 2.7.1 which is incompatible.\n",
            "google-cloud-datastore 1.8.0 requires google-cloud-core<2.0dev,>=1.0.0, but you have google-cloud-core 2.2.3 which is incompatible.\n",
            "google-cloud-bigquery 1.21.0 requires google-cloud-core<2.0dev,>=1.0.3, but you have google-cloud-core 2.2.3 which is incompatible.\n",
            "google-cloud-bigquery 1.21.0 requires google-resumable-media!=0.4.0,<0.5.0dev,>=0.3.1, but you have google-resumable-media 2.3.2 which is incompatible.\n",
            "google-cloud-bigquery-storage 1.1.0 requires google-api-core[grpc]<2.0.0dev,>=1.14.0, but you have google-api-core 2.7.1 which is incompatible.\n",
            "firebase-admin 4.4.0 requires google-api-core[grpc]<2.0.0dev,>=1.14.0; platform_python_implementation != \"PyPy\", but you have google-api-core 2.7.1 which is incompatible.\n",
            "datascience 0.10.6 requires folium==0.2.1, but you have folium 0.8.3 which is incompatible.\u001b[0m\n",
            "Successfully installed GitPython-3.1.27 aiohttp-3.8.1 aiosignal-1.2.0 allennlp-2.9.2 allennlp-models-2.9.0 async-timeout-4.0.2 asynctest-0.13.0 base58-2.1.1 boto3-1.21.37 botocore-1.24.37 cached-path-1.1.2 conllu-4.4.1 datasets-2.0.0 docker-pycreds-0.4.0 fairscale-0.4.6 frozenlist-1.3.0 fsspec-2022.3.0 ftfy-6.1.1 gitdb-4.0.9 google-api-core-2.7.1 google-cloud-core-2.2.3 google-cloud-storage-2.1.0 google-crc32c-1.3.0 google-resumable-media-2.3.2 huggingface-hub-0.5.1 jmespath-1.0.0 jsonnet-0.18.0 multidict-6.0.2 nltk-3.7 pathtools-0.1.2 py-rouge-1.1 pyyaml-6.0 regex-2022.3.15 responses-0.18.0 s3transfer-0.5.2 sacremoses-0.0.49 sentencepiece-0.1.96 sentry-sdk-1.5.8 setproctitle-1.2.2 shortuuid-1.0.8 smmap-5.0.0 tensorboardX-2.5 tokenizers-0.11.6 transformers-4.17.0 urllib3-1.25.11 wandb-0.12.14 word2number-1.1 xxhash-3.0.0 yarl-1.7.2\n"
          ]
        },
        {
          "output_type": "display_data",
          "data": {
            "application/vnd.colab-display-data+json": {
              "pip_warning": {
                "packages": [
                  "google"
                ]
              }
            }
          },
          "metadata": {}
        },
        {
          "output_type": "stream",
          "name": "stdout",
          "text": [
            "Collecting fugashi[unidic]\n",
            "  Downloading fugashi-1.1.2-cp37-cp37m-manylinux_2_17_x86_64.manylinux2014_x86_64.whl (568 kB)\n",
            "\u001b[?25l\r\u001b[K     |▋                               | 10 kB 20.6 MB/s eta 0:00:01\r\u001b[K     |█▏                              | 20 kB 20.4 MB/s eta 0:00:01\r\u001b[K     |█▊                              | 30 kB 10.4 MB/s eta 0:00:01\r\u001b[K     |██▎                             | 40 kB 4.3 MB/s eta 0:00:01\r\u001b[K     |██▉                             | 51 kB 4.4 MB/s eta 0:00:01\r\u001b[K     |███▌                            | 61 kB 5.2 MB/s eta 0:00:01\r\u001b[K     |████                            | 71 kB 5.3 MB/s eta 0:00:01\r\u001b[K     |████▋                           | 81 kB 5.4 MB/s eta 0:00:01\r\u001b[K     |█████▏                          | 92 kB 6.0 MB/s eta 0:00:01\r\u001b[K     |█████▊                          | 102 kB 5.1 MB/s eta 0:00:01\r\u001b[K     |██████▍                         | 112 kB 5.1 MB/s eta 0:00:01\r\u001b[K     |███████                         | 122 kB 5.1 MB/s eta 0:00:01\r\u001b[K     |███████▌                        | 133 kB 5.1 MB/s eta 0:00:01\r\u001b[K     |████████                        | 143 kB 5.1 MB/s eta 0:00:01\r\u001b[K     |████████▋                       | 153 kB 5.1 MB/s eta 0:00:01\r\u001b[K     |█████████▎                      | 163 kB 5.1 MB/s eta 0:00:01\r\u001b[K     |█████████▉                      | 174 kB 5.1 MB/s eta 0:00:01\r\u001b[K     |██████████▍                     | 184 kB 5.1 MB/s eta 0:00:01\r\u001b[K     |███████████                     | 194 kB 5.1 MB/s eta 0:00:01\r\u001b[K     |███████████▌                    | 204 kB 5.1 MB/s eta 0:00:01\r\u001b[K     |████████████                    | 215 kB 5.1 MB/s eta 0:00:01\r\u001b[K     |████████████▊                   | 225 kB 5.1 MB/s eta 0:00:01\r\u001b[K     |█████████████▎                  | 235 kB 5.1 MB/s eta 0:00:01\r\u001b[K     |█████████████▉                  | 245 kB 5.1 MB/s eta 0:00:01\r\u001b[K     |██████████████▍                 | 256 kB 5.1 MB/s eta 0:00:01\r\u001b[K     |███████████████                 | 266 kB 5.1 MB/s eta 0:00:01\r\u001b[K     |███████████████▋                | 276 kB 5.1 MB/s eta 0:00:01\r\u001b[K     |████████████████▏               | 286 kB 5.1 MB/s eta 0:00:01\r\u001b[K     |████████████████▊               | 296 kB 5.1 MB/s eta 0:00:01\r\u001b[K     |█████████████████▎              | 307 kB 5.1 MB/s eta 0:00:01\r\u001b[K     |█████████████████▉              | 317 kB 5.1 MB/s eta 0:00:01\r\u001b[K     |██████████████████▌             | 327 kB 5.1 MB/s eta 0:00:01\r\u001b[K     |███████████████████             | 337 kB 5.1 MB/s eta 0:00:01\r\u001b[K     |███████████████████▋            | 348 kB 5.1 MB/s eta 0:00:01\r\u001b[K     |████████████████████▏           | 358 kB 5.1 MB/s eta 0:00:01\r\u001b[K     |████████████████████▊           | 368 kB 5.1 MB/s eta 0:00:01\r\u001b[K     |█████████████████████▍          | 378 kB 5.1 MB/s eta 0:00:01\r\u001b[K     |██████████████████████          | 389 kB 5.1 MB/s eta 0:00:01\r\u001b[K     |██████████████████████▌         | 399 kB 5.1 MB/s eta 0:00:01\r\u001b[K     |███████████████████████         | 409 kB 5.1 MB/s eta 0:00:01\r\u001b[K     |███████████████████████▋        | 419 kB 5.1 MB/s eta 0:00:01\r\u001b[K     |████████████████████████▏       | 430 kB 5.1 MB/s eta 0:00:01\r\u001b[K     |████████████████████████▉       | 440 kB 5.1 MB/s eta 0:00:01\r\u001b[K     |█████████████████████████▍      | 450 kB 5.1 MB/s eta 0:00:01\r\u001b[K     |██████████████████████████      | 460 kB 5.1 MB/s eta 0:00:01\r\u001b[K     |██████████████████████████▌     | 471 kB 5.1 MB/s eta 0:00:01\r\u001b[K     |███████████████████████████     | 481 kB 5.1 MB/s eta 0:00:01\r\u001b[K     |███████████████████████████▊    | 491 kB 5.1 MB/s eta 0:00:01\r\u001b[K     |████████████████████████████▎   | 501 kB 5.1 MB/s eta 0:00:01\r\u001b[K     |████████████████████████████▉   | 512 kB 5.1 MB/s eta 0:00:01\r\u001b[K     |█████████████████████████████▍  | 522 kB 5.1 MB/s eta 0:00:01\r\u001b[K     |██████████████████████████████  | 532 kB 5.1 MB/s eta 0:00:01\r\u001b[K     |██████████████████████████████▋ | 542 kB 5.1 MB/s eta 0:00:01\r\u001b[K     |███████████████████████████████▏| 552 kB 5.1 MB/s eta 0:00:01\r\u001b[K     |███████████████████████████████▊| 563 kB 5.1 MB/s eta 0:00:01\r\u001b[K     |████████████████████████████████| 568 kB 5.1 MB/s \n",
            "\u001b[?25hCollecting unidic\n",
            "  Downloading unidic-1.1.0.tar.gz (7.7 kB)\n",
            "Requirement already satisfied: requests<3.0.0,>=2.22.0 in /usr/local/lib/python3.7/dist-packages (from unidic->fugashi[unidic]) (2.23.0)\n",
            "Requirement already satisfied: tqdm<5.0.0,>=4.41.1 in /usr/local/lib/python3.7/dist-packages (from unidic->fugashi[unidic]) (4.63.0)\n",
            "Requirement already satisfied: wasabi<1.0.0,>=0.6.0 in /usr/local/lib/python3.7/dist-packages (from unidic->fugashi[unidic]) (0.9.0)\n",
            "Requirement already satisfied: plac<2.0.0,>=1.1.3 in /usr/local/lib/python3.7/dist-packages (from unidic->fugashi[unidic]) (1.1.3)\n",
            "Requirement already satisfied: idna<3,>=2.5 in /usr/local/lib/python3.7/dist-packages (from requests<3.0.0,>=2.22.0->unidic->fugashi[unidic]) (2.10)\n",
            "Requirement already satisfied: urllib3!=1.25.0,!=1.25.1,<1.26,>=1.21.1 in /usr/local/lib/python3.7/dist-packages (from requests<3.0.0,>=2.22.0->unidic->fugashi[unidic]) (1.25.11)\n",
            "Requirement already satisfied: certifi>=2017.4.17 in /usr/local/lib/python3.7/dist-packages (from requests<3.0.0,>=2.22.0->unidic->fugashi[unidic]) (2021.10.8)\n",
            "Requirement already satisfied: chardet<4,>=3.0.2 in /usr/local/lib/python3.7/dist-packages (from requests<3.0.0,>=2.22.0->unidic->fugashi[unidic]) (3.0.4)\n",
            "Building wheels for collected packages: unidic\n",
            "  Building wheel for unidic (setup.py) ... \u001b[?25l\u001b[?25hdone\n",
            "  Created wheel for unidic: filename=unidic-1.1.0-py3-none-any.whl size=7426 sha256=6def872292c8da9f8757f1d82dee63b928b2b965c1f97beac153938a0ff92ff0\n",
            "  Stored in directory: /root/.cache/pip/wheels/ce/4d/f1/170bb74b559ca338113c0315c9805e16dfd0a12411ec6b1122\n",
            "Successfully built unidic\n",
            "Installing collected packages: unidic, fugashi\n",
            "Successfully installed fugashi-1.1.2 unidic-1.1.0\n",
            "download url: https://cotonoha-dic.s3-ap-northeast-1.amazonaws.com/unidic-3.1.0.zip\n",
            "Dictionary version: 3.1.0+2021-08-31\n",
            "Downloading UniDic v3.1.0+2021-08-31...\n",
            "unidic-3.1.0.zip: 100% 526M/526M [00:28<00:00, 18.4MB/s]\n",
            "Finished download.\n",
            "Downloaded UniDic v3.1.0+2021-08-31 to /usr/local/lib/python3.7/dist-packages/unidic/dicdir\n",
            "Collecting pyknp==0.5.0\n",
            "  Downloading pyknp-0.5.0-py3-none-any.whl (42 kB)\n",
            "\u001b[K     |████████████████████████████████| 42 kB 635 kB/s \n",
            "\u001b[?25hCollecting spacy==3.0.6\n",
            "  Downloading spacy-3.0.6-cp37-cp37m-manylinux2014_x86_64.whl (12.8 MB)\n",
            "\u001b[K     |████████████████████████████████| 12.8 MB 8.1 MB/s \n",
            "\u001b[?25hRequirement already satisfied: six in /usr/local/lib/python3.7/dist-packages (from pyknp==0.5.0) (1.15.0)\n",
            "Requirement already satisfied: tqdm<5.0.0,>=4.38.0 in /usr/local/lib/python3.7/dist-packages (from spacy==3.0.6) (4.63.0)\n",
            "Collecting pathy>=0.3.5\n",
            "  Downloading pathy-0.6.1-py3-none-any.whl (42 kB)\n",
            "\u001b[K     |████████████████████████████████| 42 kB 1.8 MB/s \n",
            "\u001b[?25hCollecting srsly<3.0.0,>=2.4.1\n",
            "  Downloading srsly-2.4.2-cp37-cp37m-manylinux_2_17_x86_64.manylinux2014_x86_64.whl (451 kB)\n",
            "\u001b[K     |████████████████████████████████| 451 kB 60.2 MB/s \n",
            "\u001b[?25hCollecting typer<0.4.0,>=0.3.0\n",
            "  Downloading typer-0.3.2-py3-none-any.whl (21 kB)\n",
            "Requirement already satisfied: preshed<3.1.0,>=3.0.2 in /usr/local/lib/python3.7/dist-packages (from spacy==3.0.6) (3.0.6)\n",
            "Collecting thinc<8.1.0,>=8.0.3\n",
            "  Downloading thinc-8.0.15-cp37-cp37m-manylinux_2_17_x86_64.manylinux2014_x86_64.whl (653 kB)\n",
            "\u001b[K     |████████████████████████████████| 653 kB 29.9 MB/s \n",
            "\u001b[?25hCollecting pydantic<1.8.0,>=1.7.1\n",
            "  Downloading pydantic-1.7.4-cp37-cp37m-manylinux2014_x86_64.whl (9.1 MB)\n",
            "\u001b[K     |████████████████████████████████| 9.1 MB 51.1 MB/s \n",
            "\u001b[?25hRequirement already satisfied: cymem<2.1.0,>=2.0.2 in /usr/local/lib/python3.7/dist-packages (from spacy==3.0.6) (2.0.6)\n",
            "Requirement already satisfied: murmurhash<1.1.0,>=0.28.0 in /usr/local/lib/python3.7/dist-packages (from spacy==3.0.6) (1.0.6)\n",
            "Collecting spacy-legacy<3.1.0,>=3.0.4\n",
            "  Downloading spacy_legacy-3.0.9-py2.py3-none-any.whl (20 kB)\n",
            "Requirement already satisfied: packaging>=20.0 in /usr/local/lib/python3.7/dist-packages (from spacy==3.0.6) (21.3)\n",
            "Requirement already satisfied: setuptools in /usr/local/lib/python3.7/dist-packages (from spacy==3.0.6) (57.4.0)\n",
            "Collecting catalogue<2.1.0,>=2.0.3\n",
            "  Downloading catalogue-2.0.7-py3-none-any.whl (17 kB)\n",
            "Requirement already satisfied: wasabi<1.1.0,>=0.8.1 in /usr/local/lib/python3.7/dist-packages (from spacy==3.0.6) (0.9.0)\n",
            "Requirement already satisfied: jinja2 in /usr/local/lib/python3.7/dist-packages (from spacy==3.0.6) (2.11.3)\n",
            "Requirement already satisfied: typing-extensions<4.0.0.0,>=3.7.4 in /usr/local/lib/python3.7/dist-packages (from spacy==3.0.6) (3.10.0.2)\n",
            "Requirement already satisfied: requests<3.0.0,>=2.13.0 in /usr/local/lib/python3.7/dist-packages (from spacy==3.0.6) (2.23.0)\n",
            "Requirement already satisfied: blis<0.8.0,>=0.4.0 in /usr/local/lib/python3.7/dist-packages (from spacy==3.0.6) (0.4.1)\n",
            "Requirement already satisfied: numpy>=1.15.0 in /usr/local/lib/python3.7/dist-packages (from spacy==3.0.6) (1.21.5)\n",
            "Requirement already satisfied: zipp>=0.5 in /usr/local/lib/python3.7/dist-packages (from catalogue<2.1.0,>=2.0.3->spacy==3.0.6) (3.7.0)\n",
            "Requirement already satisfied: pyparsing!=3.0.5,>=2.0.2 in /usr/local/lib/python3.7/dist-packages (from packaging>=20.0->spacy==3.0.6) (3.0.7)\n",
            "Requirement already satisfied: smart-open<6.0.0,>=5.0.0 in /usr/local/lib/python3.7/dist-packages (from pathy>=0.3.5->spacy==3.0.6) (5.2.1)\n",
            "Requirement already satisfied: urllib3!=1.25.0,!=1.25.1,<1.26,>=1.21.1 in /usr/local/lib/python3.7/dist-packages (from requests<3.0.0,>=2.13.0->spacy==3.0.6) (1.25.11)\n",
            "Requirement already satisfied: chardet<4,>=3.0.2 in /usr/local/lib/python3.7/dist-packages (from requests<3.0.0,>=2.13.0->spacy==3.0.6) (3.0.4)\n",
            "Requirement already satisfied: certifi>=2017.4.17 in /usr/local/lib/python3.7/dist-packages (from requests<3.0.0,>=2.13.0->spacy==3.0.6) (2021.10.8)\n",
            "Requirement already satisfied: idna<3,>=2.5 in /usr/local/lib/python3.7/dist-packages (from requests<3.0.0,>=2.13.0->spacy==3.0.6) (2.10)\n",
            "Requirement already satisfied: click<7.2.0,>=7.1.1 in /usr/local/lib/python3.7/dist-packages (from typer<0.4.0,>=0.3.0->spacy==3.0.6) (7.1.2)\n",
            "Requirement already satisfied: MarkupSafe>=0.23 in /usr/local/lib/python3.7/dist-packages (from jinja2->spacy==3.0.6) (2.0.1)\n",
            "Installing collected packages: catalogue, typer, srsly, pydantic, thinc, spacy-legacy, pathy, spacy, pyknp\n",
            "  Attempting uninstall: catalogue\n",
            "    Found existing installation: catalogue 1.0.0\n",
            "    Uninstalling catalogue-1.0.0:\n",
            "      Successfully uninstalled catalogue-1.0.0\n",
            "  Attempting uninstall: srsly\n",
            "    Found existing installation: srsly 1.0.5\n",
            "    Uninstalling srsly-1.0.5:\n",
            "      Successfully uninstalled srsly-1.0.5\n",
            "  Attempting uninstall: thinc\n",
            "    Found existing installation: thinc 7.4.0\n",
            "    Uninstalling thinc-7.4.0:\n",
            "      Successfully uninstalled thinc-7.4.0\n",
            "  Attempting uninstall: spacy\n",
            "    Found existing installation: spacy 2.2.4\n",
            "    Uninstalling spacy-2.2.4:\n",
            "      Successfully uninstalled spacy-2.2.4\n",
            "Successfully installed catalogue-2.0.7 pathy-0.6.1 pydantic-1.7.4 pyknp-0.5.0 spacy-3.0.6 spacy-legacy-3.0.9 srsly-2.4.2 thinc-8.0.15 typer-0.3.2\n"
          ]
        }
      ],
      "source": [
        "# AllenNLPをインストール\n",
        "!pip install allennlp==2.9.2 allennlp-models==2.9.0 google-cloud-storage==2.1.0\n",
        "# fugashiをUniDicの依存ライブラリを含めてインストール\n",
        "!pip install fugashi[unidic]\n",
        "# UniDicの辞書ファイルをダウンロード\n",
        "!python -m unidic download\n",
        "# PyKNPとSpaCyをインストール\n",
        "!pip install pyknp==0.5.0 spacy==3.0.6"
      ]
    },
    {
      "cell_type": "markdown",
      "metadata": {
        "id": "w-rX41OYgSsN"
      },
      "source": [
        "## データセットのセットアップ"
      ]
    },
    {
      "cell_type": "markdown",
      "metadata": {
        "id": "kUwwnajtkWeE"
      },
      "source": [
        "### データセットのダウンロード"
      ]
    },
    {
      "cell_type": "code",
      "execution_count": null,
      "metadata": {
        "colab": {
          "base_uri": "https://localhost:8080/"
        },
        "id": "Uk2LyvT1PS9V",
        "outputId": "dc6b1ceb-42cb-46e9-ce7d-705788238c04"
      },
      "outputs": [
        {
          "output_type": "stream",
          "name": "stdout",
          "text": [
            "Cloning into 'data/kwdlc/repo'...\n",
            "remote: Enumerating objects: 22523, done.\u001b[K\n",
            "remote: Counting objects: 100% (22523/22523), done.\u001b[K\n",
            "remote: Compressing objects: 100% (6736/6736), done.\u001b[K\n",
            "remote: Total 22523 (delta 15841), reused 22461 (delta 15783), pack-reused 0\n",
            "Receiving objects: 100% (22523/22523), 16.30 MiB | 19.73 MiB/s, done.\n",
            "Resolving deltas: 100% (15841/15841), done.\n"
          ]
        }
      ],
      "source": [
        "!mkdir -p data/kwdlc\n",
        "!git clone https://github.com/ku-nlp/KWDLC.git data/kwdlc/repo"
      ]
    },
    {
      "cell_type": "markdown",
      "metadata": {
        "id": "nj6sbj0NkaPr"
      },
      "source": [
        "### データセットをCoNLL-2003形式に変換"
      ]
    },
    {
      "cell_type": "code",
      "execution_count": null,
      "metadata": {
        "id": "xJu1sveykpqp"
      },
      "outputs": [],
      "source": [
        "import glob\n",
        "import random\n",
        "import re\n",
        "from pyknp import BList\n",
        "\n",
        "def add_ne_tag_to_mrphs(sentence):\n",
        "    \"\"\"基本句に付与されている固有表現ラベルを各形態素に付与\"\"\"\n",
        "    # 文（sentence）に含まれる基本句（tag）を順に処理\n",
        "    for tag in sentence.tag_list():\n",
        "        # 基本句に<NE:LOCATION:新宿区役所>のような形式で付与されている固有表現ラベルを\n",
        "        # 正規表現を使って抜き出す\n",
        "        match = re.search(r\"<NE:(.+?):(.+?)>\", tag.fstring)\n",
        "\n",
        "        # 固有表現ラベルがなかった場合は飛ばす\n",
        "        if not match:\n",
        "            continue\n",
        "\n",
        "        # 固有表現の型（例:LOCATION）と文字列（新宿区役所）を\n",
        "        # それぞれne_type, ne_textに格納\n",
        "        ne_type, ne_text = match.groups()\n",
        "\n",
        "        # 曖昧性が高いなどの理由によりラベル付けが困難なものにはOPTIONALラベルが\n",
        "        # 付与されており、このラベルは対象としない\n",
        "        if ne_type == \"OPTIONAL\":\n",
        "            continue\n",
        "\n",
        "        # 基本句に含まれる形態素を逆順に処理\n",
        "        for mrph in reversed(tag.mrph_list()):\n",
        "            # 固有表現末尾の形態素を探す\n",
        "            if not ne_text.endswith(mrph.midasi):\n",
        "                continue\n",
        "\n",
        "            # 固有表現の末尾の形態素から逆順に文中の形態素を辿っていき\n",
        "            # 固有表現に含まれる全ての形態素のID列を得る\n",
        "            ne_mrph_ids = []\n",
        "            ne_string = \"\"\n",
        "            for i in range(mrph.mrph_id, -1, -1):\n",
        "                ne_mrph_ids.insert(0, i)\n",
        "                ne_string = sentence.mrph_list()[i].midasi + ne_string\n",
        "                if ne_string == ne_text:\n",
        "                    break\n",
        "\n",
        "            # 各形態素に固有表現ラベルを付与\n",
        "            for i, ne_mrph_id in enumerate(ne_mrph_ids):\n",
        "                target_mrph = sentence.mrph_list()[ne_mrph_id]\n",
        "                # 固有表現の先頭はラベルB、それ以外はラベルI\n",
        "                target_mrph.fstring += \"<NE:{}:{}/>\".format(\n",
        "                    ne_type, \"B\" if i == 0 else \"I\")\n",
        "\n",
        "def write_file(out_file, documents):\n",
        "    \"\"\"データセットをファイルに書き出す\"\"\"\n",
        "    with open(out_file, \"w\") as f:\n",
        "        for document in documents:\n",
        "            for sentence in document:\n",
        "                for mrph in sentence.mrph_list():\n",
        "                    match = re.search(r\"<NE:(.+?):([BI])/>\", mrph.fstring)\n",
        "                    if match:\n",
        "                        # B-PERSONのような形式の固有表現ラベルを作成\n",
        "                        ne_tag = \"{}-{}\".format(match.group(2), match.group(1))\n",
        "                    else:\n",
        "                        # 固有表現ラベルが無い場合は\"O\"ラベルを付与\n",
        "                        ne_tag = \"O\"\n",
        "                    # 1カラム目に単語、4カラム目に固有表現ラベルを書く\n",
        "                    # それ以外のカラムは利用しない\n",
        "                    f.write(\"{} N/A N/A {}\\n\".format(mrph.midasi, ne_tag))\n",
        "                f.write(\"\\n\")\n",
        "\n",
        "documents = []\n",
        "# データセットに含まれる各ファイルを順に読み込む\n",
        "for doc_file in sorted(glob.glob(\"data/kwdlc/repo/knp/*/*\", recursive=True)):\n",
        "    sentences = []\n",
        "    with open(doc_file) as f:\n",
        "        # ファイルに含まれる文とその固有表現ラベルを読み込む\n",
        "        buf = \"\"\n",
        "        for line in f:\n",
        "            buf += line\n",
        "            # EOSは文末を示す\n",
        "            if \"EOS\" in line:\n",
        "                sentence = BList(buf)\n",
        "                add_ne_tag_to_mrphs(sentence)\n",
        "                sentences.append(sentence)\n",
        "                buf = \"\"\n",
        "    documents.append(sentences)\n",
        "\n",
        "# データセットをランダムに並べ替える\n",
        "random.seed(1234)\n",
        "random.shuffle(documents)\n",
        "\n",
        "# データセットの80%を訓練データ、10%を検証データ、10%をテストデータとして用いる\n",
        "num_train = int(0.8 * len(documents))\n",
        "num_test = int(0.1 * len(documents))\n",
        "train_documents = documents[:num_train]\n",
        "validation_documents = documents[num_train:-num_test]\n",
        "test_documents = documents[-num_test:]\n",
        "\n",
        "# データセットをファイルに書き込む\n",
        "write_file(\"data/kwdlc/kwdlc_ner_train.txt\", train_documents)\n",
        "write_file(\"data/kwdlc/kwdlc_ner_validation.txt\", validation_documents)\n",
        "write_file(\"data/kwdlc/kwdlc_ner_test.txt\", test_documents)"
      ]
    },
    {
      "cell_type": "code",
      "execution_count": null,
      "metadata": {
        "colab": {
          "base_uri": "https://localhost:8080/"
        },
        "id": "UDmvwoaCiBBj",
        "outputId": "978fd79d-77b8-41c5-aa57-61af79fbeda6"
      },
      "outputs": [
        {
          "output_type": "stream",
          "name": "stdout",
          "text": [
            "data/kwdlc/kwdlc_ner_test.txt\tdata/kwdlc/kwdlc_ner_validation.txt\n",
            "data/kwdlc/kwdlc_ner_train.txt\n"
          ]
        }
      ],
      "source": [
        "!ls data/kwdlc/*.txt"
      ]
    },
    {
      "cell_type": "code",
      "execution_count": null,
      "metadata": {
        "colab": {
          "base_uri": "https://localhost:8080/"
        },
        "id": "uFz6PVe6PvS4",
        "outputId": "74d69993-beb1-4f99-ea02-ee0edb67324e"
      },
      "outputs": [
        {
          "output_type": "stream",
          "name": "stdout",
          "text": [
            "自然 N/A N/A O\n",
            "豊かな N/A N/A O\n",
            "この N/A N/A O\n",
            "場所 N/A N/A O\n",
            "で N/A N/A O\n"
          ]
        }
      ],
      "source": [
        "!head -n5 data/kwdlc/kwdlc_ner_train.txt"
      ]
    },
    {
      "cell_type": "markdown",
      "metadata": {
        "id": "9Px3XgvljMIN"
      },
      "source": [
        "## モデルの実装"
      ]
    },
    {
      "cell_type": "code",
      "execution_count": null,
      "metadata": {
        "id": "a7FzGlVxQAdz"
      },
      "outputs": [],
      "source": [
        "model_config = \"\"\"{\n",
        "    \"random_seed\": 1,\n",
        "    \"pytorch_seed\": 1,\n",
        "    \"train_data_path\": \"data/kwdlc/kwdlc_ner_train.txt\",\n",
        "    \"validation_data_path\": \"data/kwdlc/kwdlc_ner_validation.txt\",\n",
        "    \"dataset_reader\": {\n",
        "        \"type\": \"conll2003\",\n",
        "        \"tag_label\": \"ner\",\n",
        "        \"token_indexers\": {\n",
        "            \"tokens\": {\n",
        "                \"type\": \"single_id\"\n",
        "            }\n",
        "        }\n",
        "    },\n",
        "    \"data_loader\": {\n",
        "        \"batch_size\": 32,\n",
        "        \"shuffle\": true\n",
        "    },\n",
        "    \"validation_data_loader\": {\n",
        "        \"batch_size\": 32,\n",
        "        \"shuffle\": false\n",
        "    },\n",
        "    \"vocabulary\": {},\n",
        "    \"datasets_for_vocab_creation\": [\"train\"],\n",
        "    \"model\": {\n",
        "        \"type\": \"crf_tagger\",\n",
        "        \"label_encoding\": \"BIO\",\n",
        "        \"text_field_embedder\": {\n",
        "            \"token_embedders\": {\n",
        "                \"tokens\": {\n",
        "                    \"type\": \"embedding\",\n",
        "                    \"embedding_dim\": 300,\n",
        "                    \"pretrained_file\": \"https://dl.fbaipublicfiles.com/fasttext/vectors-crawl/cc.ja.300.vec.gz\"\n",
        "                }\n",
        "            }\n",
        "        },\n",
        "        \"encoder\": {\n",
        "           \"type\": \"lstm\",\n",
        "           \"input_size\": 300,\n",
        "           \"hidden_size\": 32,\n",
        "           \"bidirectional\": true\n",
        "        }\n",
        "    },\n",
        "    \"trainer\": {\n",
        "        \"cuda_device\": 0,\n",
        "        \"validation_metric\": \"+f1-measure-overall\",\n",
        "        \"optimizer\": {\n",
        "            \"type\": \"adam\"\n",
        "        },\n",
        "        \"num_epochs\": 10,\n",
        "        \"patience\": 3,\n",
        "        \"callbacks\": [\n",
        "            {\n",
        "                \"type\": \"tensorboard\"\n",
        "            }\n",
        "        ]\n",
        "    }\n",
        "}\"\"\"\n",
        "with open(\"kwdlc_ner.jsonnet\", \"w\") as f:\n",
        "  f.write(model_config)"
      ]
    },
    {
      "cell_type": "markdown",
      "metadata": {
        "id": "4ovD6BLW3IDm"
      },
      "source": [
        "## モデルの訓練"
      ]
    },
    {
      "cell_type": "code",
      "execution_count": null,
      "metadata": {
        "colab": {
          "base_uri": "https://localhost:8080/"
        },
        "id": "SwVdMdpDRTgv",
        "outputId": "f2740811-64d1-4dcf-82d5-06aee62bfb2d"
      },
      "outputs": [
        {
          "output_type": "stream",
          "name": "stdout",
          "text": [
            "[nltk_data] Downloading package punkt to /root/nltk_data...\n",
            "[nltk_data]   Unzipping tokenizers/punkt.zip.\n",
            "[nltk_data] Downloading package wordnet to /root/nltk_data...\n",
            "[nltk_data]   Unzipping corpora/wordnet.zip.\n",
            "2022-04-10 14:49:37,348 - INFO - allennlp.common.plugins - Plugin allennlp_models available\n",
            "2022-04-10 14:49:37,384 - INFO - allennlp.common.params - evaluation = None\n",
            "2022-04-10 14:49:37,384 - INFO - allennlp.common.params - include_in_archive = None\n",
            "2022-04-10 14:49:37,385 - INFO - allennlp.common.params - random_seed = 1\n",
            "2022-04-10 14:49:37,385 - INFO - allennlp.common.params - numpy_seed = 1337\n",
            "2022-04-10 14:49:37,385 - INFO - allennlp.common.params - pytorch_seed = 1\n",
            "2022-04-10 14:49:37,387 - INFO - allennlp.common.checks - Pytorch version: 1.10.0+cu111\n",
            "2022-04-10 14:49:37,388 - INFO - allennlp.common.params - type = default\n",
            "2022-04-10 14:49:37,388 - INFO - allennlp.common.params - dataset_reader.type = conll2003\n",
            "2022-04-10 14:49:37,389 - INFO - allennlp.common.params - dataset_reader.max_instances = None\n",
            "2022-04-10 14:49:37,389 - INFO - allennlp.common.params - dataset_reader.manual_distributed_sharding = False\n",
            "2022-04-10 14:49:37,389 - INFO - allennlp.common.params - dataset_reader.manual_multiprocess_sharding = False\n",
            "2022-04-10 14:49:37,389 - INFO - allennlp.common.params - dataset_reader.token_indexers.tokens.type = single_id\n",
            "2022-04-10 14:49:37,389 - INFO - allennlp.common.params - dataset_reader.token_indexers.tokens.namespace = tokens\n",
            "2022-04-10 14:49:37,389 - INFO - allennlp.common.params - dataset_reader.token_indexers.tokens.lowercase_tokens = False\n",
            "2022-04-10 14:49:37,390 - INFO - allennlp.common.params - dataset_reader.token_indexers.tokens.start_tokens = None\n",
            "2022-04-10 14:49:37,390 - INFO - allennlp.common.params - dataset_reader.token_indexers.tokens.end_tokens = None\n",
            "2022-04-10 14:49:37,390 - INFO - allennlp.common.params - dataset_reader.token_indexers.tokens.feature_name = text\n",
            "2022-04-10 14:49:37,390 - INFO - allennlp.common.params - dataset_reader.token_indexers.tokens.default_value = THIS IS A REALLY UNLIKELY VALUE THAT HAS TO BE A STRING\n",
            "2022-04-10 14:49:37,390 - INFO - allennlp.common.params - dataset_reader.token_indexers.tokens.token_min_padding_length = 0\n",
            "2022-04-10 14:49:37,390 - INFO - allennlp.common.params - dataset_reader.tag_label = ner\n",
            "2022-04-10 14:49:37,390 - INFO - allennlp.common.params - dataset_reader.feature_labels = ()\n",
            "2022-04-10 14:49:37,390 - INFO - allennlp.common.params - dataset_reader.convert_to_coding_scheme = None\n",
            "2022-04-10 14:49:37,390 - INFO - allennlp.common.params - dataset_reader.label_namespace = labels\n",
            "2022-04-10 14:49:37,390 - INFO - allennlp.common.params - train_data_path = data/kwdlc/kwdlc_ner_train.txt\n",
            "2022-04-10 14:49:37,391 - INFO - allennlp.common.params - datasets_for_vocab_creation = ['train']\n",
            "2022-04-10 14:49:37,391 - INFO - allennlp.common.params - validation_dataset_reader = None\n",
            "2022-04-10 14:49:37,391 - INFO - allennlp.common.params - validation_data_path = data/kwdlc/kwdlc_ner_validation.txt\n",
            "2022-04-10 14:49:37,392 - INFO - allennlp.common.params - test_data_path = None\n",
            "2022-04-10 14:49:37,392 - INFO - allennlp.common.params - evaluate_on_test = False\n",
            "2022-04-10 14:49:37,392 - INFO - allennlp.common.params - batch_weight_key = \n",
            "2022-04-10 14:49:37,392 - INFO - allennlp.common.params - data_loader.type = multiprocess\n",
            "2022-04-10 14:49:37,392 - INFO - allennlp.common.params - data_loader.batch_size = 32\n",
            "2022-04-10 14:49:37,392 - INFO - allennlp.common.params - data_loader.drop_last = False\n",
            "2022-04-10 14:49:37,392 - INFO - allennlp.common.params - data_loader.shuffle = True\n",
            "2022-04-10 14:49:37,393 - INFO - allennlp.common.params - data_loader.batch_sampler = None\n",
            "2022-04-10 14:49:37,393 - INFO - allennlp.common.params - data_loader.batches_per_epoch = None\n",
            "2022-04-10 14:49:37,393 - INFO - allennlp.common.params - data_loader.num_workers = 0\n",
            "2022-04-10 14:49:37,393 - INFO - allennlp.common.params - data_loader.max_instances_in_memory = None\n",
            "2022-04-10 14:49:37,393 - INFO - allennlp.common.params - data_loader.start_method = fork\n",
            "2022-04-10 14:49:37,393 - INFO - allennlp.common.params - data_loader.cuda_device = None\n",
            "2022-04-10 14:49:37,393 - INFO - allennlp.common.params - data_loader.quiet = False\n",
            "2022-04-10 14:49:37,393 - INFO - allennlp.common.params - data_loader.collate_fn = <allennlp.data.data_loaders.data_collator.DefaultDataCollator object at 0x7ff3b4357190>\n",
            "loading instances: 0it [00:00, ?it/s]2022-04-10 14:49:37,394 - INFO - allennlp.data.dataset_readers.conll2003 - Reading instances from lines in file at: data/kwdlc/kwdlc_ner_train.txt\n",
            "loading instances: 12831it [00:01, 12635.13it/s]\n",
            "2022-04-10 14:49:38,409 - INFO - allennlp.common.params - validation_data_loader.type = multiprocess\n",
            "2022-04-10 14:49:38,410 - INFO - allennlp.common.params - validation_data_loader.batch_size = 32\n",
            "2022-04-10 14:49:38,410 - INFO - allennlp.common.params - validation_data_loader.drop_last = False\n",
            "2022-04-10 14:49:38,410 - INFO - allennlp.common.params - validation_data_loader.shuffle = False\n",
            "2022-04-10 14:49:38,410 - INFO - allennlp.common.params - validation_data_loader.batch_sampler = None\n",
            "2022-04-10 14:49:38,410 - INFO - allennlp.common.params - validation_data_loader.batches_per_epoch = None\n",
            "2022-04-10 14:49:38,410 - INFO - allennlp.common.params - validation_data_loader.num_workers = 0\n",
            "2022-04-10 14:49:38,410 - INFO - allennlp.common.params - validation_data_loader.max_instances_in_memory = None\n",
            "2022-04-10 14:49:38,411 - INFO - allennlp.common.params - validation_data_loader.start_method = fork\n",
            "2022-04-10 14:49:38,411 - INFO - allennlp.common.params - validation_data_loader.cuda_device = None\n",
            "2022-04-10 14:49:38,411 - INFO - allennlp.common.params - validation_data_loader.quiet = False\n",
            "2022-04-10 14:49:38,411 - INFO - allennlp.common.params - validation_data_loader.collate_fn = <allennlp.data.data_loaders.data_collator.DefaultDataCollator object at 0x7ff3b4357190>\n",
            "loading instances: 0it [00:00, ?it/s]2022-04-10 14:49:38,411 - INFO - allennlp.data.dataset_readers.conll2003 - Reading instances from lines in file at: data/kwdlc/kwdlc_ner_validation.txt\n",
            "loading instances: 1613it [00:00, 19869.75it/s]\n",
            "2022-04-10 14:49:38,492 - INFO - allennlp.commands.train - From dataset instances, train will be considered for vocabulary creation.\n",
            "2022-04-10 14:49:38,493 - INFO - allennlp.common.params - type = from_instances\n",
            "2022-04-10 14:49:38,493 - INFO - allennlp.common.params - min_count = None\n",
            "2022-04-10 14:49:38,493 - INFO - allennlp.common.params - max_vocab_size = None\n",
            "2022-04-10 14:49:38,493 - INFO - allennlp.common.params - non_padded_namespaces = ('*tags', '*labels')\n",
            "2022-04-10 14:49:38,493 - INFO - allennlp.common.params - pretrained_files = None\n",
            "2022-04-10 14:49:38,493 - INFO - allennlp.common.params - only_include_pretrained_words = False\n",
            "2022-04-10 14:49:38,494 - INFO - allennlp.common.params - tokens_to_add = None\n",
            "2022-04-10 14:49:38,494 - INFO - allennlp.common.params - min_pretrained_embeddings = None\n",
            "2022-04-10 14:49:38,494 - INFO - allennlp.common.params - padding_token = @@PADDING@@\n",
            "2022-04-10 14:49:38,494 - INFO - allennlp.common.params - oov_token = @@UNKNOWN@@\n",
            "2022-04-10 14:49:38,494 - INFO - allennlp.data.vocabulary - Fitting token dictionary from dataset.\n",
            "building vocab: 12831it [00:00, 71328.37it/s]\n",
            "2022-04-10 14:49:38,703 - INFO - allennlp.common.params - model.type = crf_tagger\n",
            "2022-04-10 14:49:38,703 - INFO - allennlp.common.params - model.regularizer = None\n",
            "2022-04-10 14:49:38,703 - INFO - allennlp.common.params - model.text_field_embedder.type = basic\n",
            "2022-04-10 14:49:38,704 - INFO - allennlp.common.params - model.text_field_embedder.token_embedders.tokens.type = embedding\n",
            "2022-04-10 14:49:38,704 - INFO - allennlp.common.params - model.text_field_embedder.token_embedders.tokens.embedding_dim = 300\n",
            "2022-04-10 14:49:38,704 - INFO - allennlp.common.params - model.text_field_embedder.token_embedders.tokens.num_embeddings = None\n",
            "2022-04-10 14:49:38,704 - INFO - allennlp.common.params - model.text_field_embedder.token_embedders.tokens.projection_dim = None\n",
            "2022-04-10 14:49:38,704 - INFO - allennlp.common.params - model.text_field_embedder.token_embedders.tokens.weight = None\n",
            "2022-04-10 14:49:38,704 - INFO - allennlp.common.params - model.text_field_embedder.token_embedders.tokens.padding_index = None\n",
            "2022-04-10 14:49:38,704 - INFO - allennlp.common.params - model.text_field_embedder.token_embedders.tokens.trainable = True\n",
            "2022-04-10 14:49:38,704 - INFO - allennlp.common.params - model.text_field_embedder.token_embedders.tokens.max_norm = None\n",
            "2022-04-10 14:49:38,705 - INFO - allennlp.common.params - model.text_field_embedder.token_embedders.tokens.norm_type = 2.0\n",
            "2022-04-10 14:49:38,705 - INFO - allennlp.common.params - model.text_field_embedder.token_embedders.tokens.scale_grad_by_freq = False\n",
            "2022-04-10 14:49:38,705 - INFO - allennlp.common.params - model.text_field_embedder.token_embedders.tokens.sparse = False\n",
            "2022-04-10 14:49:38,705 - INFO - allennlp.common.params - model.text_field_embedder.token_embedders.tokens.vocab_namespace = tokens\n",
            "2022-04-10 14:49:38,705 - INFO - allennlp.common.params - model.text_field_embedder.token_embedders.tokens.pretrained_file = https://dl.fbaipublicfiles.com/fasttext/vectors-crawl/cc.ja.300.vec.gz\n",
            "2022-04-10 14:49:38,708 - INFO - allennlp.modules.token_embedders.embedding - Reading pretrained embeddings from file\n",
            "2022-04-10 14:49:39,182 - INFO - cached_path - https://dl.fbaipublicfiles.com/fasttext/vectors-crawl/cc.ja.300.vec.gz not found in cache, downloading to /root/.allennlp/cache/94bbbd2a638db604b4849ed58e593146efa027fc201af77b8926854faf2eb791.e607fb6dbbe417b4690c4459f0735f3c1d0f374a42da3d90d3cf0c71d06cb9e3\n",
            "downloading: 100%|##########| 1.19G/1.19G [00:25<00:00, 49.3MiB/s]\n",
            "2022-04-10 14:50:05,687 - INFO - allennlp.modules.token_embedders.embedding - Recognized a header line in the embedding file with number of tokens: 2000000\n",
            "100%|##########| 2000000/2000000 [00:39<00:00, 50990.25it/s]\n",
            "2022-04-10 14:50:44,937 - INFO - allennlp.modules.token_embedders.embedding - Initializing pre-trained embedding layer\n",
            "2022-04-10 14:50:45,144 - INFO - allennlp.modules.token_embedders.embedding - Pretrained embeddings were found for 15781 out of 20024 tokens\n",
            "2022-04-10 14:50:45,155 - INFO - allennlp.common.params - model.encoder.type = lstm\n",
            "2022-04-10 14:50:45,156 - INFO - allennlp.common.params - model.encoder.input_size = 300\n",
            "2022-04-10 14:50:45,156 - INFO - allennlp.common.params - model.encoder.hidden_size = 32\n",
            "2022-04-10 14:50:45,156 - INFO - allennlp.common.params - model.encoder.num_layers = 1\n",
            "2022-04-10 14:50:45,156 - INFO - allennlp.common.params - model.encoder.bias = True\n",
            "2022-04-10 14:50:45,156 - INFO - allennlp.common.params - model.encoder.dropout = 0.0\n",
            "2022-04-10 14:50:45,156 - INFO - allennlp.common.params - model.encoder.bidirectional = True\n",
            "2022-04-10 14:50:45,156 - INFO - allennlp.common.params - model.encoder.stateful = False\n",
            "2022-04-10 14:50:45,170 - INFO - allennlp.common.params - model.label_namespace = labels\n",
            "2022-04-10 14:50:45,171 - INFO - allennlp.common.params - model.feedforward = None\n",
            "2022-04-10 14:50:45,171 - INFO - allennlp.common.params - model.label_encoding = BIO\n",
            "2022-04-10 14:50:45,171 - INFO - allennlp.common.params - model.include_start_end_transitions = True\n",
            "2022-04-10 14:50:45,171 - INFO - allennlp.common.params - model.constrain_crf_decoding = None\n",
            "2022-04-10 14:50:45,171 - INFO - allennlp.common.params - model.calculate_span_f1 = None\n",
            "2022-04-10 14:50:45,171 - INFO - allennlp.common.params - model.dropout = None\n",
            "2022-04-10 14:50:45,171 - INFO - allennlp.common.params - model.verbose_metrics = False\n",
            "2022-04-10 14:50:45,171 - INFO - allennlp.common.params - model.initializer = <allennlp.nn.initializers.InitializerApplicator object at 0x7ff39ccb2390>\n",
            "2022-04-10 14:50:45,171 - INFO - allennlp.common.params - model.top_k = 1\n",
            "2022-04-10 14:50:45,171 - INFO - allennlp.common.params - model.ignore_loss_on_o_tags = False\n",
            "2022-04-10 14:50:45,179 - INFO - allennlp.nn.initializers - Initializing parameters\n",
            "2022-04-10 14:50:45,179 - INFO - allennlp.nn.initializers - Done initializing parameters; the following parameters are using their default initialization from their code\n",
            "2022-04-10 14:50:45,179 - INFO - allennlp.nn.initializers -    crf._constraint_mask\n",
            "2022-04-10 14:50:45,179 - INFO - allennlp.nn.initializers -    crf.end_transitions\n",
            "2022-04-10 14:50:45,179 - INFO - allennlp.nn.initializers -    crf.start_transitions\n",
            "2022-04-10 14:50:45,179 - INFO - allennlp.nn.initializers -    crf.transitions\n",
            "2022-04-10 14:50:45,180 - INFO - allennlp.nn.initializers -    encoder._module.bias_hh_l0\n",
            "2022-04-10 14:50:45,180 - INFO - allennlp.nn.initializers -    encoder._module.bias_hh_l0_reverse\n",
            "2022-04-10 14:50:45,180 - INFO - allennlp.nn.initializers -    encoder._module.bias_ih_l0\n",
            "2022-04-10 14:50:45,180 - INFO - allennlp.nn.initializers -    encoder._module.bias_ih_l0_reverse\n",
            "2022-04-10 14:50:45,180 - INFO - allennlp.nn.initializers -    encoder._module.weight_hh_l0\n",
            "2022-04-10 14:50:45,180 - INFO - allennlp.nn.initializers -    encoder._module.weight_hh_l0_reverse\n",
            "2022-04-10 14:50:45,180 - INFO - allennlp.nn.initializers -    encoder._module.weight_ih_l0\n",
            "2022-04-10 14:50:45,180 - INFO - allennlp.nn.initializers -    encoder._module.weight_ih_l0_reverse\n",
            "2022-04-10 14:50:45,180 - INFO - allennlp.nn.initializers -    tag_projection_layer._module.bias\n",
            "2022-04-10 14:50:45,180 - INFO - allennlp.nn.initializers -    tag_projection_layer._module.weight\n",
            "2022-04-10 14:50:45,180 - INFO - allennlp.nn.initializers -    text_field_embedder.token_embedder_tokens.weight\n",
            "2022-04-10 14:50:45,766 - INFO - allennlp.common.params - trainer.type = gradient_descent\n",
            "2022-04-10 14:50:45,767 - INFO - allennlp.common.params - trainer.cuda_device = 0\n",
            "2022-04-10 14:50:45,767 - INFO - allennlp.common.params - trainer.distributed = False\n",
            "2022-04-10 14:50:45,767 - INFO - allennlp.common.params - trainer.world_size = 1\n",
            "2022-04-10 14:50:45,767 - INFO - allennlp.common.params - trainer.patience = 3\n",
            "2022-04-10 14:50:45,767 - INFO - allennlp.common.params - trainer.validation_metric = +f1-measure-overall\n",
            "2022-04-10 14:50:45,768 - INFO - allennlp.common.params - trainer.num_epochs = 10\n",
            "2022-04-10 14:50:45,768 - INFO - allennlp.common.params - trainer.grad_norm = False\n",
            "2022-04-10 14:50:45,768 - INFO - allennlp.common.params - trainer.grad_clipping = None\n",
            "2022-04-10 14:50:45,768 - INFO - allennlp.common.params - trainer.num_gradient_accumulation_steps = 1\n",
            "2022-04-10 14:50:45,768 - INFO - allennlp.common.params - trainer.use_amp = False\n",
            "2022-04-10 14:50:45,768 - INFO - allennlp.common.params - trainer.no_grad = None\n",
            "2022-04-10 14:50:45,768 - INFO - allennlp.common.params - trainer.learning_rate_scheduler = None\n",
            "2022-04-10 14:50:45,769 - INFO - allennlp.common.params - trainer.momentum_scheduler = None\n",
            "2022-04-10 14:50:45,769 - INFO - allennlp.common.params - trainer.moving_average = None\n",
            "2022-04-10 14:50:45,769 - INFO - allennlp.common.params - trainer.checkpointer = <allennlp.common.lazy.Lazy object at 0x7ff39d6848d0>\n",
            "2022-04-10 14:50:45,769 - INFO - allennlp.common.params - trainer.enable_default_callbacks = True\n",
            "2022-04-10 14:50:45,769 - INFO - allennlp.common.params - trainer.run_confidence_checks = True\n",
            "2022-04-10 14:50:45,769 - INFO - allennlp.common.params - trainer.grad_scaling = True\n",
            "2022-04-10 14:50:56,545 - INFO - allennlp.common.params - trainer.optimizer.type = adam\n",
            "2022-04-10 14:50:56,545 - INFO - allennlp.common.params - trainer.optimizer.parameter_groups = None\n",
            "2022-04-10 14:50:56,545 - INFO - allennlp.common.params - trainer.optimizer.lr = 0.001\n",
            "2022-04-10 14:50:56,545 - INFO - allennlp.common.params - trainer.optimizer.betas = (0.9, 0.999)\n",
            "2022-04-10 14:50:56,545 - INFO - allennlp.common.params - trainer.optimizer.eps = 1e-08\n",
            "2022-04-10 14:50:56,546 - INFO - allennlp.common.params - trainer.optimizer.weight_decay = 0.0\n",
            "2022-04-10 14:50:56,546 - INFO - allennlp.common.params - trainer.optimizer.amsgrad = False\n",
            "2022-04-10 14:50:56,548 - INFO - allennlp.training.optimizers - Number of trainable parameters: 6094132\n",
            "2022-04-10 14:50:56,548 - INFO - allennlp.common.util - The following parameters are Frozen (without gradient):\n",
            "2022-04-10 14:50:56,548 - INFO - allennlp.common.util - crf._constraint_mask\n",
            "2022-04-10 14:50:56,548 - INFO - allennlp.common.util - The following parameters are Tunable (with gradient):\n",
            "2022-04-10 14:50:56,548 - INFO - allennlp.common.util - text_field_embedder.token_embedder_tokens.weight\n",
            "2022-04-10 14:50:56,549 - INFO - allennlp.common.util - encoder._module.weight_ih_l0\n",
            "2022-04-10 14:50:56,549 - INFO - allennlp.common.util - encoder._module.weight_hh_l0\n",
            "2022-04-10 14:50:56,549 - INFO - allennlp.common.util - encoder._module.bias_ih_l0\n",
            "2022-04-10 14:50:56,549 - INFO - allennlp.common.util - encoder._module.bias_hh_l0\n",
            "2022-04-10 14:50:56,549 - INFO - allennlp.common.util - encoder._module.weight_ih_l0_reverse\n",
            "2022-04-10 14:50:56,549 - INFO - allennlp.common.util - encoder._module.weight_hh_l0_reverse\n",
            "2022-04-10 14:50:56,549 - INFO - allennlp.common.util - encoder._module.bias_ih_l0_reverse\n",
            "2022-04-10 14:50:56,549 - INFO - allennlp.common.util - encoder._module.bias_hh_l0_reverse\n",
            "2022-04-10 14:50:56,549 - INFO - allennlp.common.util - tag_projection_layer._module.weight\n",
            "2022-04-10 14:50:56,549 - INFO - allennlp.common.util - tag_projection_layer._module.bias\n",
            "2022-04-10 14:50:56,549 - INFO - allennlp.common.util - crf.transitions\n",
            "2022-04-10 14:50:56,549 - INFO - allennlp.common.util - crf.start_transitions\n",
            "2022-04-10 14:50:56,549 - INFO - allennlp.common.util - crf.end_transitions\n",
            "2022-04-10 14:50:56,550 - INFO - allennlp.common.params - type = default\n",
            "2022-04-10 14:50:56,550 - INFO - allennlp.common.params - save_completed_epochs = True\n",
            "2022-04-10 14:50:56,550 - INFO - allennlp.common.params - save_every_num_seconds = None\n",
            "2022-04-10 14:50:56,550 - INFO - allennlp.common.params - save_every_num_batches = None\n",
            "2022-04-10 14:50:56,550 - INFO - allennlp.common.params - keep_most_recent_by_count = 2\n",
            "2022-04-10 14:50:56,550 - INFO - allennlp.common.params - keep_most_recent_by_age = None\n",
            "2022-04-10 14:50:56,550 - INFO - allennlp.common.params - trainer.callbacks.0.type = tensorboard\n",
            "2022-04-10 14:50:56,551 - INFO - allennlp.common.params - trainer.callbacks.0.summary_interval = 100\n",
            "2022-04-10 14:50:56,551 - INFO - allennlp.common.params - trainer.callbacks.0.distribution_interval = None\n",
            "2022-04-10 14:50:56,551 - INFO - allennlp.common.params - trainer.callbacks.0.batch_size_interval = None\n",
            "2022-04-10 14:50:56,551 - INFO - allennlp.common.params - trainer.callbacks.0.should_log_parameter_statistics = False\n",
            "2022-04-10 14:50:56,551 - INFO - allennlp.common.params - trainer.callbacks.0.should_log_learning_rate = False\n",
            "2022-04-10 14:50:56,554 - INFO - allennlp.training.gradient_descent_trainer - Beginning training.\n",
            "2022-04-10 14:50:56,554 - INFO - allennlp.training.gradient_descent_trainer - Epoch 0/9\n",
            "2022-04-10 14:50:56,555 - INFO - allennlp.training.gradient_descent_trainer - Worker 0 memory usage: 4.7G\n",
            "/usr/local/lib/python3.7/dist-packages/torch/cuda/memory.py:274: FutureWarning: torch.cuda.reset_max_memory_allocated now calls torch.cuda.reset_peak_memory_stats, which resets /all/ peak memory stats.\n",
            "  FutureWarning)\n",
            "2022-04-10 14:50:56,555 - INFO - allennlp.training.gradient_descent_trainer - GPU 0 memory usage: 24M\n",
            "2022-04-10 14:50:56,555 - INFO - allennlp.training.gradient_descent_trainer - Training\n",
            "  0%|          | 0/401 [00:00<?, ?it/s]2022-04-10 14:50:56,822 - INFO - allennlp.training.callbacks.console_logger - Batch inputs\n",
            "2022-04-10 14:50:56,822 - INFO - allennlp.training.callbacks.console_logger - batch_input/tokens/tokens/tokens (Shape: 32 x 35)\n",
            "tensor([[ 9569,     5,   155,  ...,     0,     0,     0],\n",
            "        [   94,    47,     6,  ...,     0,     0,     0],\n",
            "        [ 4740,    16, 13960,  ...,     0,     0,     0],\n",
            "        ...,\n",
            "        [ 2582,   116,    24,  ...,     0,     0,     0],\n",
            "        [ 4481,  3206,   453,  ...,     0,     0,     0],\n",
            "        [ 5156,  6445,     6,  ...,     0,     0,     0]], device='cuda:0')\n",
            "2022-04-10 14:50:56,825 - INFO - allennlp.training.callbacks.console_logger - Field : \"batch_input/metadata\" : (Length 32 of type \"<class 'dict'>\")\n",
            "2022-04-10 14:50:56,825 - INFO - allennlp.training.callbacks.console_logger - batch_input/tags (Shape: 32 x 35)\n",
            "tensor([[0, 0, 0,  ..., 0, 0, 0],\n",
            "        [0, 0, 0,  ..., 0, 0, 0],\n",
            "        [0, 0, 0,  ..., 0, 0, 0],\n",
            "        ...,\n",
            "        [0, 0, 0,  ..., 0, 0, 0],\n",
            "        [0, 0, 0,  ..., 0, 0, 0],\n",
            "        [0, 0, 0,  ..., 0, 0, 0]], device='cuda:0')\n",
            "accuracy: 0.9214, accuracy3: 0.9285, precision-overall: 0.1042, recall-overall: 0.0969, f1-measure-overall: 0.1004, batch_loss: 96.6807, loss: 206.4413 ||: 100%|##########| 401/401 [00:34<00:00, 11.58it/s]\n",
            "2022-04-10 14:51:31,179 - INFO - allennlp.training.gradient_descent_trainer - Validating\n",
            "  0%|          | 0/51 [00:00<?, ?it/s]2022-04-10 14:51:31,243 - INFO - allennlp.training.callbacks.console_logger - Batch inputs\n",
            "2022-04-10 14:51:31,243 - INFO - allennlp.training.callbacks.console_logger - batch_input/tokens/tokens/tokens (Shape: 32 x 26)\n",
            "tensor([[ 450,   10,  886,  ...,    0,    0,    0],\n",
            "        [ 188,    4,   65,  ...,    0,    0,    0],\n",
            "        [ 576,    5,    6,  ...,    0,    0,    0],\n",
            "        ...,\n",
            "        [2235,    3, 4523,  ...,    0,    0,    0],\n",
            "        [ 566,    3,  241,  ...,    2,    0,    0],\n",
            "        [   1,    1,    6,  ...,    0,    0,    0]], device='cuda:0')\n",
            "2022-04-10 14:51:31,246 - INFO - allennlp.training.callbacks.console_logger - Field : \"batch_input/metadata\" : (Length 32 of type \"<class 'dict'>\")\n",
            "2022-04-10 14:51:31,247 - INFO - allennlp.training.callbacks.console_logger - batch_input/tags (Shape: 32 x 26)\n",
            "tensor([[ 0,  0,  0,  ...,  0,  0,  0],\n",
            "        [ 0,  0,  0,  ...,  0,  0,  0],\n",
            "        [ 0,  0,  0,  ...,  0,  0,  0],\n",
            "        ...,\n",
            "        [ 0,  0,  0,  ...,  0,  0,  0],\n",
            "        [ 0,  0,  0,  ...,  0,  0,  0],\n",
            "        [ 8, 10,  0,  ...,  0,  0,  0]], device='cuda:0')\n",
            "accuracy: 0.9465, accuracy3: 0.9531, precision-overall: 0.5091, recall-overall: 0.2657, f1-measure-overall: 0.3492, batch_loss: 83.6021, loss: 116.0799 ||: 100%|##########| 51/51 [00:03<00:00, 16.16it/s]\n",
            "2022-04-10 14:51:34,338 - INFO - allennlp.training.callbacks.console_logger -                        Training |  Validation\n",
            "2022-04-10 14:51:34,338 - INFO - allennlp.training.callbacks.console_logger - accuracy           |     0.921  |     0.947\n",
            "2022-04-10 14:51:34,339 - INFO - allennlp.training.callbacks.console_logger - accuracy3          |     0.929  |     0.953\n",
            "2022-04-10 14:51:34,339 - INFO - allennlp.training.callbacks.console_logger - f1-measure-overall |     0.100  |     0.349\n",
            "2022-04-10 14:51:34,339 - INFO - allennlp.training.callbacks.console_logger - gpu_0_memory_MB    |    23.568  |       N/A\n",
            "2022-04-10 14:51:34,339 - INFO - allennlp.training.callbacks.console_logger - loss               |   206.441  |   116.080\n",
            "2022-04-10 14:51:34,339 - INFO - allennlp.training.callbacks.console_logger - precision-overall  |     0.104  |     0.509\n",
            "2022-04-10 14:51:34,339 - INFO - allennlp.training.callbacks.console_logger - recall-overall     |     0.097  |     0.266\n",
            "2022-04-10 14:51:34,340 - INFO - allennlp.training.callbacks.console_logger - worker_0_memory_MB |  4794.707  |       N/A\n",
            "2022-04-10 14:51:34,489 - INFO - allennlp.training.gradient_descent_trainer - Epoch duration: 0:00:37.934501\n",
            "2022-04-10 14:51:34,489 - INFO - allennlp.training.gradient_descent_trainer - Estimated training time remaining: 0:05:40\n",
            "2022-04-10 14:51:34,490 - INFO - allennlp.training.gradient_descent_trainer - Epoch 1/9\n",
            "2022-04-10 14:51:34,490 - INFO - allennlp.training.gradient_descent_trainer - Worker 0 memory usage: 4.7G\n",
            "2022-04-10 14:51:34,490 - INFO - allennlp.training.gradient_descent_trainer - GPU 0 memory usage: 139M\n",
            "2022-04-10 14:51:34,490 - INFO - allennlp.training.gradient_descent_trainer - Training\n",
            "accuracy: 0.9624, accuracy3: 0.9656, precision-overall: 0.5212, recall-overall: 0.4421, f1-measure-overall: 0.4784, batch_loss: 39.3088, loss: 67.5788 ||: 100%|##########| 401/401 [00:34<00:00, 11.60it/s]\n",
            "2022-04-10 14:52:09,060 - INFO - allennlp.training.gradient_descent_trainer - Validating\n",
            "accuracy: 0.9554, accuracy3: 0.9602, precision-overall: 0.6360, recall-overall: 0.4021, f1-measure-overall: 0.4927, batch_loss: 61.9325, loss: 84.7471 ||: 100%|##########| 51/51 [00:03<00:00, 16.34it/s]\n",
            "2022-04-10 14:52:12,183 - INFO - allennlp.training.callbacks.console_logger -                        Training |  Validation\n",
            "2022-04-10 14:52:12,183 - INFO - allennlp.training.callbacks.console_logger - accuracy           |     0.962  |     0.955\n",
            "2022-04-10 14:52:12,184 - INFO - allennlp.training.callbacks.console_logger - accuracy3          |     0.966  |     0.960\n",
            "2022-04-10 14:52:12,184 - INFO - allennlp.training.callbacks.console_logger - f1-measure-overall |     0.478  |     0.493\n",
            "2022-04-10 14:52:12,185 - INFO - allennlp.training.callbacks.console_logger - gpu_0_memory_MB    |   139.018  |       N/A\n",
            "2022-04-10 14:52:12,185 - INFO - allennlp.training.callbacks.console_logger - loss               |    67.579  |    84.747\n",
            "2022-04-10 14:52:12,185 - INFO - allennlp.training.callbacks.console_logger - precision-overall  |     0.521  |     0.636\n",
            "2022-04-10 14:52:12,186 - INFO - allennlp.training.callbacks.console_logger - recall-overall     |     0.442  |     0.402\n",
            "2022-04-10 14:52:12,187 - INFO - allennlp.training.callbacks.console_logger - worker_0_memory_MB |  4858.254  |       N/A\n",
            "2022-04-10 14:52:12,324 - INFO - allennlp.training.gradient_descent_trainer - Epoch duration: 0:00:37.834705\n",
            "2022-04-10 14:52:12,325 - INFO - allennlp.training.gradient_descent_trainer - Estimated training time remaining: 0:05:02\n",
            "2022-04-10 14:52:12,325 - INFO - allennlp.training.gradient_descent_trainer - Epoch 2/9\n",
            "2022-04-10 14:52:12,325 - INFO - allennlp.training.gradient_descent_trainer - Worker 0 memory usage: 4.7G\n",
            "2022-04-10 14:52:12,326 - INFO - allennlp.training.gradient_descent_trainer - GPU 0 memory usage: 139M\n",
            "2022-04-10 14:52:12,326 - INFO - allennlp.training.gradient_descent_trainer - Training\n",
            "accuracy: 0.9801, accuracy3: 0.9819, precision-overall: 0.7237, recall-overall: 0.6986, f1-measure-overall: 0.7109, batch_loss: 17.6219, loss: 34.5728 ||: 100%|##########| 401/401 [00:34<00:00, 11.59it/s]\n",
            "2022-04-10 14:52:46,912 - INFO - allennlp.training.gradient_descent_trainer - Validating\n",
            "accuracy: 0.9582, accuracy3: 0.9630, precision-overall: 0.6873, recall-overall: 0.4223, f1-measure-overall: 0.5231, batch_loss: 62.9958, loss: 83.7166 ||: 100%|##########| 51/51 [00:03<00:00, 16.21it/s]\n",
            "2022-04-10 14:52:50,061 - INFO - allennlp.training.callbacks.console_logger -                        Training |  Validation\n",
            "2022-04-10 14:52:50,063 - INFO - allennlp.training.callbacks.console_logger - accuracy           |     0.980  |     0.958\n",
            "2022-04-10 14:52:50,063 - INFO - allennlp.training.callbacks.console_logger - accuracy3          |     0.982  |     0.963\n",
            "2022-04-10 14:52:50,063 - INFO - allennlp.training.callbacks.console_logger - f1-measure-overall |     0.711  |     0.523\n",
            "2022-04-10 14:52:50,063 - INFO - allennlp.training.callbacks.console_logger - gpu_0_memory_MB    |   139.018  |       N/A\n",
            "2022-04-10 14:52:50,063 - INFO - allennlp.training.callbacks.console_logger - loss               |    34.573  |    83.717\n",
            "2022-04-10 14:52:50,063 - INFO - allennlp.training.callbacks.console_logger - precision-overall  |     0.724  |     0.687\n",
            "2022-04-10 14:52:50,064 - INFO - allennlp.training.callbacks.console_logger - recall-overall     |     0.699  |     0.422\n",
            "2022-04-10 14:52:50,064 - INFO - allennlp.training.callbacks.console_logger - worker_0_memory_MB |  4858.254  |       N/A\n",
            "2022-04-10 14:52:50,198 - INFO - allennlp.training.gradient_descent_trainer - Epoch duration: 0:00:37.873569\n",
            "2022-04-10 14:52:50,198 - INFO - allennlp.training.gradient_descent_trainer - Estimated training time remaining: 0:04:24\n",
            "2022-04-10 14:52:50,199 - INFO - allennlp.training.gradient_descent_trainer - Epoch 3/9\n",
            "2022-04-10 14:52:50,199 - INFO - allennlp.training.gradient_descent_trainer - Worker 0 memory usage: 4.7G\n",
            "2022-04-10 14:52:50,199 - INFO - allennlp.training.gradient_descent_trainer - GPU 0 memory usage: 139M\n",
            "2022-04-10 14:52:50,199 - INFO - allennlp.training.gradient_descent_trainer - Training\n",
            "accuracy: 0.9902, accuracy3: 0.9913, precision-overall: 0.8548, recall-overall: 0.8446, f1-measure-overall: 0.8497, batch_loss: 9.2225, loss: 18.2376 ||: 100%|##########| 401/401 [00:34<00:00, 11.65it/s]\n",
            "2022-04-10 14:53:24,614 - INFO - allennlp.training.gradient_descent_trainer - Validating\n",
            "accuracy: 0.9593, accuracy3: 0.9638, precision-overall: 0.6679, recall-overall: 0.4460, f1-measure-overall: 0.5349, batch_loss: 59.0878, loss: 81.7160 ||: 100%|##########| 51/51 [00:03<00:00, 15.94it/s]\n",
            "2022-04-10 14:53:27,815 - INFO - allennlp.training.callbacks.console_logger -                        Training |  Validation\n",
            "2022-04-10 14:53:27,816 - INFO - allennlp.training.callbacks.console_logger - accuracy           |     0.990  |     0.959\n",
            "2022-04-10 14:53:27,817 - INFO - allennlp.training.callbacks.console_logger - accuracy3          |     0.991  |     0.964\n",
            "2022-04-10 14:53:27,817 - INFO - allennlp.training.callbacks.console_logger - f1-measure-overall |     0.850  |     0.535\n",
            "2022-04-10 14:53:27,818 - INFO - allennlp.training.callbacks.console_logger - gpu_0_memory_MB    |   139.018  |       N/A\n",
            "2022-04-10 14:53:27,818 - INFO - allennlp.training.callbacks.console_logger - loss               |    18.238  |    81.716\n",
            "2022-04-10 14:53:27,819 - INFO - allennlp.training.callbacks.console_logger - precision-overall  |     0.855  |     0.668\n",
            "2022-04-10 14:53:27,819 - INFO - allennlp.training.callbacks.console_logger - recall-overall     |     0.845  |     0.446\n",
            "2022-04-10 14:53:27,819 - INFO - allennlp.training.callbacks.console_logger - worker_0_memory_MB |  4858.504  |       N/A\n",
            "2022-04-10 14:53:27,953 - INFO - allennlp.training.gradient_descent_trainer - Epoch duration: 0:00:37.754133\n",
            "2022-04-10 14:53:27,953 - INFO - allennlp.training.gradient_descent_trainer - Estimated training time remaining: 0:03:46\n",
            "2022-04-10 14:53:27,953 - INFO - allennlp.training.gradient_descent_trainer - Epoch 4/9\n",
            "2022-04-10 14:53:27,953 - INFO - allennlp.training.gradient_descent_trainer - Worker 0 memory usage: 4.7G\n",
            "2022-04-10 14:53:27,953 - INFO - allennlp.training.gradient_descent_trainer - GPU 0 memory usage: 139M\n",
            "2022-04-10 14:53:27,954 - INFO - allennlp.training.gradient_descent_trainer - Training\n",
            "accuracy: 0.9950, accuracy3: 0.9956, precision-overall: 0.9222, recall-overall: 0.9179, f1-measure-overall: 0.9201, batch_loss: 8.5987, loss: 10.1364 ||: 100%|##########| 401/401 [00:35<00:00, 11.34it/s]\n",
            "2022-04-10 14:54:03,308 - INFO - allennlp.training.gradient_descent_trainer - Validating\n",
            "accuracy: 0.9599, accuracy3: 0.9643, precision-overall: 0.6724, recall-overall: 0.4626, f1-measure-overall: 0.5481, batch_loss: 58.2022, loss: 83.5079 ||: 100%|##########| 51/51 [00:03<00:00, 15.82it/s]\n",
            "2022-04-10 14:54:06,534 - INFO - allennlp.training.callbacks.console_logger -                        Training |  Validation\n",
            "2022-04-10 14:54:06,535 - INFO - allennlp.training.callbacks.console_logger - accuracy           |     0.995  |     0.960\n",
            "2022-04-10 14:54:06,535 - INFO - allennlp.training.callbacks.console_logger - accuracy3          |     0.996  |     0.964\n",
            "2022-04-10 14:54:06,535 - INFO - allennlp.training.callbacks.console_logger - f1-measure-overall |     0.920  |     0.548\n",
            "2022-04-10 14:54:06,537 - INFO - allennlp.training.callbacks.console_logger - gpu_0_memory_MB    |   139.018  |       N/A\n",
            "2022-04-10 14:54:06,538 - INFO - allennlp.training.callbacks.console_logger - loss               |    10.136  |    83.508\n",
            "2022-04-10 14:54:06,538 - INFO - allennlp.training.callbacks.console_logger - precision-overall  |     0.922  |     0.672\n",
            "2022-04-10 14:54:06,538 - INFO - allennlp.training.callbacks.console_logger - recall-overall     |     0.918  |     0.463\n",
            "2022-04-10 14:54:06,538 - INFO - allennlp.training.callbacks.console_logger - worker_0_memory_MB |  4858.504  |       N/A\n",
            "2022-04-10 14:54:06,679 - INFO - allennlp.training.gradient_descent_trainer - Epoch duration: 0:00:38.725635\n",
            "2022-04-10 14:54:06,679 - INFO - allennlp.training.gradient_descent_trainer - Estimated training time remaining: 0:03:09\n",
            "2022-04-10 14:54:06,679 - INFO - allennlp.training.gradient_descent_trainer - Epoch 5/9\n",
            "2022-04-10 14:54:06,679 - INFO - allennlp.training.gradient_descent_trainer - Worker 0 memory usage: 4.7G\n",
            "2022-04-10 14:54:06,679 - INFO - allennlp.training.gradient_descent_trainer - GPU 0 memory usage: 139M\n",
            "2022-04-10 14:54:06,679 - INFO - allennlp.training.gradient_descent_trainer - Training\n",
            "accuracy: 0.9973, accuracy3: 0.9976, precision-overall: 0.9536, recall-overall: 0.9551, f1-measure-overall: 0.9544, batch_loss: 8.8228, loss: 6.1008 ||: 100%|##########| 401/401 [00:35<00:00, 11.39it/s]\n",
            "2022-04-10 14:54:41,883 - INFO - allennlp.training.gradient_descent_trainer - Validating\n",
            "accuracy: 0.9611, accuracy3: 0.9655, precision-overall: 0.6810, recall-overall: 0.4686, f1-measure-overall: 0.5552, batch_loss: 59.5672, loss: 89.3992 ||: 100%|##########| 51/51 [00:03<00:00, 15.87it/s]\n",
            "2022-04-10 14:54:45,099 - INFO - allennlp.training.callbacks.console_logger -                        Training |  Validation\n",
            "2022-04-10 14:54:45,099 - INFO - allennlp.training.callbacks.console_logger - accuracy           |     0.997  |     0.961\n",
            "2022-04-10 14:54:45,102 - INFO - allennlp.training.callbacks.console_logger - accuracy3          |     0.998  |     0.966\n",
            "2022-04-10 14:54:45,102 - INFO - allennlp.training.callbacks.console_logger - f1-measure-overall |     0.954  |     0.555\n",
            "2022-04-10 14:54:45,102 - INFO - allennlp.training.callbacks.console_logger - gpu_0_memory_MB    |   139.018  |       N/A\n",
            "2022-04-10 14:54:45,102 - INFO - allennlp.training.callbacks.console_logger - loss               |     6.101  |    89.399\n",
            "2022-04-10 14:54:45,102 - INFO - allennlp.training.callbacks.console_logger - precision-overall  |     0.954  |     0.681\n",
            "2022-04-10 14:54:45,102 - INFO - allennlp.training.callbacks.console_logger - recall-overall     |     0.955  |     0.469\n",
            "2022-04-10 14:54:45,102 - INFO - allennlp.training.callbacks.console_logger - worker_0_memory_MB |  4858.504  |       N/A\n",
            "2022-04-10 14:54:45,248 - INFO - allennlp.training.gradient_descent_trainer - Epoch duration: 0:00:38.569225\n",
            "2022-04-10 14:54:45,248 - INFO - allennlp.training.gradient_descent_trainer - Estimated training time remaining: 0:02:32\n",
            "2022-04-10 14:54:45,249 - INFO - allennlp.training.gradient_descent_trainer - Epoch 6/9\n",
            "2022-04-10 14:54:45,249 - INFO - allennlp.training.gradient_descent_trainer - Worker 0 memory usage: 4.7G\n",
            "2022-04-10 14:54:45,249 - INFO - allennlp.training.gradient_descent_trainer - GPU 0 memory usage: 139M\n",
            "2022-04-10 14:54:45,249 - INFO - allennlp.training.gradient_descent_trainer - Training\n",
            "accuracy: 0.9984, accuracy3: 0.9986, precision-overall: 0.9722, recall-overall: 0.9732, f1-measure-overall: 0.9727, batch_loss: 2.3406, loss: 3.8523 ||: 100%|##########| 401/401 [00:35<00:00, 11.23it/s]\n",
            "2022-04-10 14:55:20,944 - INFO - allennlp.training.gradient_descent_trainer - Validating\n",
            "accuracy: 0.9599, accuracy3: 0.9641, precision-overall: 0.6661, recall-overall: 0.4709, f1-measure-overall: 0.5518, batch_loss: 68.0854, loss: 92.9572 ||: 100%|##########| 51/51 [00:03<00:00, 16.18it/s]\n",
            "2022-04-10 14:55:24,097 - INFO - allennlp.training.callbacks.console_logger -                        Training |  Validation\n",
            "2022-04-10 14:55:24,097 - INFO - allennlp.training.callbacks.console_logger - accuracy           |     0.998  |     0.960\n",
            "2022-04-10 14:55:24,098 - INFO - allennlp.training.callbacks.console_logger - accuracy3          |     0.999  |     0.964\n",
            "2022-04-10 14:55:24,098 - INFO - allennlp.training.callbacks.console_logger - f1-measure-overall |     0.973  |     0.552\n",
            "2022-04-10 14:55:24,098 - INFO - allennlp.training.callbacks.console_logger - gpu_0_memory_MB    |   139.018  |       N/A\n",
            "2022-04-10 14:55:24,098 - INFO - allennlp.training.callbacks.console_logger - loss               |     3.852  |    92.957\n",
            "2022-04-10 14:55:24,098 - INFO - allennlp.training.callbacks.console_logger - precision-overall  |     0.972  |     0.666\n",
            "2022-04-10 14:55:24,098 - INFO - allennlp.training.callbacks.console_logger - recall-overall     |     0.973  |     0.471\n",
            "2022-04-10 14:55:24,098 - INFO - allennlp.training.callbacks.console_logger - worker_0_memory_MB |  4858.504  |       N/A\n",
            "2022-04-10 14:55:24,256 - INFO - allennlp.training.gradient_descent_trainer - Epoch duration: 0:00:39.007671\n",
            "2022-04-10 14:55:24,256 - INFO - allennlp.training.gradient_descent_trainer - Estimated training time remaining: 0:01:54\n",
            "2022-04-10 14:55:24,256 - INFO - allennlp.training.gradient_descent_trainer - Epoch 7/9\n",
            "2022-04-10 14:55:24,257 - INFO - allennlp.training.gradient_descent_trainer - Worker 0 memory usage: 4.7G\n",
            "2022-04-10 14:55:24,257 - INFO - allennlp.training.gradient_descent_trainer - GPU 0 memory usage: 139M\n",
            "2022-04-10 14:55:24,257 - INFO - allennlp.training.gradient_descent_trainer - Training\n",
            "accuracy: 0.9991, accuracy3: 0.9993, precision-overall: 0.9837, recall-overall: 0.9854, f1-measure-overall: 0.9846, batch_loss: 1.6302, loss: 2.4545 ||: 100%|##########| 401/401 [00:34<00:00, 11.68it/s]\n",
            "2022-04-10 14:55:58,579 - INFO - allennlp.training.gradient_descent_trainer - Validating\n",
            "accuracy: 0.9587, accuracy3: 0.9634, precision-overall: 0.6400, recall-overall: 0.4555, f1-measure-overall: 0.5322, batch_loss: 60.9124, loss: 98.1465 ||: 100%|##########| 51/51 [00:03<00:00, 16.29it/s]\n",
            "2022-04-10 14:56:01,712 - INFO - allennlp.training.callbacks.console_logger -                        Training |  Validation\n",
            "2022-04-10 14:56:01,713 - INFO - allennlp.training.callbacks.console_logger - accuracy           |     0.999  |     0.959\n",
            "2022-04-10 14:56:01,713 - INFO - allennlp.training.callbacks.console_logger - accuracy3          |     0.999  |     0.963\n",
            "2022-04-10 14:56:01,713 - INFO - allennlp.training.callbacks.console_logger - f1-measure-overall |     0.985  |     0.532\n",
            "2022-04-10 14:56:01,713 - INFO - allennlp.training.callbacks.console_logger - gpu_0_memory_MB    |   139.018  |       N/A\n",
            "2022-04-10 14:56:01,713 - INFO - allennlp.training.callbacks.console_logger - loss               |     2.454  |    98.146\n",
            "2022-04-10 14:56:01,713 - INFO - allennlp.training.callbacks.console_logger - precision-overall  |     0.984  |     0.640\n",
            "2022-04-10 14:56:01,714 - INFO - allennlp.training.callbacks.console_logger - recall-overall     |     0.985  |     0.456\n",
            "2022-04-10 14:56:01,714 - INFO - allennlp.training.callbacks.console_logger - worker_0_memory_MB |  4858.504  |       N/A\n",
            "2022-04-10 14:56:01,888 - INFO - allennlp.training.gradient_descent_trainer - Epoch duration: 0:00:37.631172\n",
            "2022-04-10 14:56:01,888 - INFO - allennlp.training.gradient_descent_trainer - Estimated training time remaining: 0:01:16\n",
            "2022-04-10 14:56:01,888 - INFO - allennlp.training.gradient_descent_trainer - Epoch 8/9\n",
            "2022-04-10 14:56:01,888 - INFO - allennlp.training.gradient_descent_trainer - Worker 0 memory usage: 4.7G\n",
            "2022-04-10 14:56:01,889 - INFO - allennlp.training.gradient_descent_trainer - GPU 0 memory usage: 139M\n",
            "2022-04-10 14:56:01,894 - INFO - allennlp.training.gradient_descent_trainer - Training\n",
            "accuracy: 0.9995, accuracy3: 0.9996, precision-overall: 0.9901, recall-overall: 0.9915, f1-measure-overall: 0.9908, batch_loss: 0.3759, loss: 1.5925 ||: 100%|##########| 401/401 [00:34<00:00, 11.61it/s]\n",
            "2022-04-10 14:56:36,421 - INFO - allennlp.training.gradient_descent_trainer - Validating\n",
            "accuracy: 0.9592, accuracy3: 0.9636, precision-overall: 0.6784, recall-overall: 0.4579, f1-measure-overall: 0.5467, batch_loss: 64.5136, loss: 106.9960 ||: 100%|##########| 51/51 [00:03<00:00, 15.72it/s]\n",
            "2022-04-10 14:56:39,668 - INFO - allennlp.training.callbacks.console_logger -                        Training |  Validation\n",
            "2022-04-10 14:56:39,670 - INFO - allennlp.training.callbacks.console_logger - accuracy           |     1.000  |     0.959\n",
            "2022-04-10 14:56:39,670 - INFO - allennlp.training.callbacks.console_logger - accuracy3          |     1.000  |     0.964\n",
            "2022-04-10 14:56:39,670 - INFO - allennlp.training.callbacks.console_logger - f1-measure-overall |     0.991  |     0.547\n",
            "2022-04-10 14:56:39,671 - INFO - allennlp.training.callbacks.console_logger - gpu_0_memory_MB    |   139.018  |       N/A\n",
            "2022-04-10 14:56:39,671 - INFO - allennlp.training.callbacks.console_logger - loss               |     1.593  |   106.996\n",
            "2022-04-10 14:56:39,671 - INFO - allennlp.training.callbacks.console_logger - precision-overall  |     0.990  |     0.678\n",
            "2022-04-10 14:56:39,671 - INFO - allennlp.training.callbacks.console_logger - recall-overall     |     0.992  |     0.458\n",
            "2022-04-10 14:56:39,671 - INFO - allennlp.training.callbacks.console_logger - worker_0_memory_MB |  4858.504  |       N/A\n",
            "2022-04-10 14:56:39,811 - INFO - allennlp.training.gradient_descent_trainer - Epoch duration: 0:00:37.922362\n",
            "2022-04-10 14:56:39,811 - INFO - allennlp.training.gradient_descent_trainer - Ran out of patience. Stopping training.\n",
            "2022-04-10 14:56:39,834 - INFO - allennlp.common.util - Metrics: {\n",
            "  \"best_epoch\": 5,\n",
            "  \"peak_worker_0_memory_MB\": 4858.50390625,\n",
            "  \"peak_gpu_0_memory_MB\": 139.017578125,\n",
            "  \"training_duration\": \"0:05:43.112099\",\n",
            "  \"epoch\": 8,\n",
            "  \"training_accuracy\": 0.9995057163899502,\n",
            "  \"training_accuracy3\": 0.9995551447509552,\n",
            "  \"training_precision-overall\": 0.9901238438626744,\n",
            "  \"training_recall-overall\": 0.9915227629513343,\n",
            "  \"training_f1-measure-overall\": 0.9908228096320779,\n",
            "  \"training_loss\": 1.5925453030260424,\n",
            "  \"training_worker_0_memory_MB\": 4858.50390625,\n",
            "  \"training_gpu_0_memory_MB\": 139.017578125,\n",
            "  \"validation_accuracy\": 0.959210062301634,\n",
            "  \"validation_accuracy3\": 0.9635594216527565,\n",
            "  \"validation_precision-overall\": 0.6783831282952547,\n",
            "  \"validation_recall-overall\": 0.457888493475682,\n",
            "  \"validation_f1-measure-overall\": 0.5467422096316799,\n",
            "  \"validation_loss\": 106.99599640042175,\n",
            "  \"best_validation_accuracy\": 0.9610908663453627,\n",
            "  \"best_validation_accuracy3\": 0.9655185925316406,\n",
            "  \"best_validation_precision-overall\": 0.6810344827586206,\n",
            "  \"best_validation_recall-overall\": 0.4685646500593119,\n",
            "  \"best_validation_f1-measure-overall\": 0.5551651440617928,\n",
            "  \"best_validation_loss\": 89.39922153248506\n",
            "}\n",
            "2022-04-10 14:56:39,834 - INFO - allennlp.models.archival - archiving weights and vocabulary to exp_kwdlc_ner/model.tar.gz\n"
          ]
        }
      ],
      "source": [
        "# 出力ディレクトリが既にあった場合は削除\n",
        "!rm -rf exp_kwdlc_ner\n",
        "# 訓練を実行\n",
        "!allennlp train --serialization-dir exp_kwdlc_ner kwdlc_ner.jsonnet"
      ]
    },
    {
      "cell_type": "markdown",
      "metadata": {
        "id": "ZS0P0gKnPyps"
      },
      "source": [
        "## 性能の評価"
      ]
    },
    {
      "cell_type": "code",
      "execution_count": null,
      "metadata": {
        "colab": {
          "base_uri": "https://localhost:8080/"
        },
        "id": "4pp486Hb4w5D",
        "outputId": "af122745-262b-4fc4-8488-020fc640e233"
      },
      "outputs": [
        {
          "output_type": "stream",
          "name": "stdout",
          "text": [
            "2022-04-10 14:56:55,586 - INFO - allennlp.common.plugins - Plugin allennlp_models available\n",
            "2022-04-10 14:56:55,591 - INFO - allennlp.models.archival - loading archive file exp_kwdlc_ner/model.tar.gz\n",
            "2022-04-10 14:56:55,591 - INFO - allennlp.models.archival - extracting archive file exp_kwdlc_ner/model.tar.gz to temp dir /tmp/tmpm269v_te\n",
            "2022-04-10 14:56:55,833 - INFO - allennlp.data.vocabulary - Loading token dictionary from /tmp/tmpm269v_te/vocabulary.\n",
            "2022-04-10 14:56:55,926 - INFO - allennlp.models.archival - removing temporary unarchived model dir at /tmp/tmpm269v_te\n",
            "2022-04-10 14:56:55,931 - INFO - allennlp.common.checks - Pytorch version: 1.10.0+cu111\n",
            "2022-04-10 14:56:55,931 - INFO - allennlp.commands.evaluate - Reading evaluation data from kwdlc_ner_test\n",
            "loading instances: 0it [00:00, ?it/s]2022-04-10 14:56:55,933 - INFO - allennlp.data.dataset_readers.conll2003 - Reading instances from lines in file at: data/kwdlc/kwdlc_ner_test.txt\n",
            "loading instances: 1607it [00:00, 20057.21it/s]\n",
            "2022-04-10 14:56:56,043 - INFO - allennlp.evaluation.evaluator - Iterating over dataset\n",
            "accuracy: 0.96, accuracy3: 0.96, precision-overall: 0.64, recall-overall: 0.41, f1-measure-overall: 0.50, loss: 97.21 ||: : 51it [00:01, 26.48it/s] \n",
            "2022-04-10 14:56:57,970 - INFO - allennlp.commands.evaluate - Finished evaluating.\n"
          ]
        }
      ],
      "source": [
        "!allennlp evaluate exp_kwdlc_ner/model.tar.gz data/kwdlc/kwdlc_ner_test.txt"
      ]
    },
    {
      "cell_type": "markdown",
      "metadata": {
        "id": "qxWzeBlYP4ym"
      },
      "source": [
        "## 出力の視覚化"
      ]
    },
    {
      "cell_type": "code",
      "execution_count": null,
      "metadata": {
        "id": "UVjYNP3IyD7t",
        "colab": {
          "base_uri": "https://localhost:8080/"
        },
        "outputId": "22f93d06-0315-41b1-81db-6e81921da116"
      },
      "outputs": [
        {
          "output_type": "stream",
          "name": "stdout",
          "text": [
            "2022-04-10 14:57:04,564 - INFO - allennlp.common.plugins - Plugin allennlp_models available\n",
            "2022-04-10 14:57:04,569 - INFO - allennlp.models.archival - loading archive file exp_kwdlc_ner/model.tar.gz\n",
            "2022-04-10 14:57:04,569 - INFO - allennlp.models.archival - extracting archive file exp_kwdlc_ner/model.tar.gz to temp dir /tmp/tmpc2f6o8ky\n",
            "2022-04-10 14:57:04,810 - INFO - allennlp.common.params - dataset_reader.type = conll2003\n",
            "2022-04-10 14:57:04,810 - INFO - allennlp.common.params - dataset_reader.max_instances = None\n",
            "2022-04-10 14:57:04,810 - INFO - allennlp.common.params - dataset_reader.manual_distributed_sharding = False\n",
            "2022-04-10 14:57:04,811 - INFO - allennlp.common.params - dataset_reader.manual_multiprocess_sharding = False\n",
            "2022-04-10 14:57:04,811 - INFO - allennlp.common.params - dataset_reader.token_indexers.tokens.type = single_id\n",
            "2022-04-10 14:57:04,811 - INFO - allennlp.common.params - dataset_reader.token_indexers.tokens.namespace = tokens\n",
            "2022-04-10 14:57:04,811 - INFO - allennlp.common.params - dataset_reader.token_indexers.tokens.lowercase_tokens = False\n",
            "2022-04-10 14:57:04,811 - INFO - allennlp.common.params - dataset_reader.token_indexers.tokens.start_tokens = None\n",
            "2022-04-10 14:57:04,811 - INFO - allennlp.common.params - dataset_reader.token_indexers.tokens.end_tokens = None\n",
            "2022-04-10 14:57:04,811 - INFO - allennlp.common.params - dataset_reader.token_indexers.tokens.feature_name = text\n",
            "2022-04-10 14:57:04,811 - INFO - allennlp.common.params - dataset_reader.token_indexers.tokens.default_value = THIS IS A REALLY UNLIKELY VALUE THAT HAS TO BE A STRING\n",
            "2022-04-10 14:57:04,811 - INFO - allennlp.common.params - dataset_reader.token_indexers.tokens.token_min_padding_length = 0\n",
            "2022-04-10 14:57:04,811 - INFO - allennlp.common.params - dataset_reader.tag_label = ner\n",
            "2022-04-10 14:57:04,812 - INFO - allennlp.common.params - dataset_reader.feature_labels = ()\n",
            "2022-04-10 14:57:04,812 - INFO - allennlp.common.params - dataset_reader.convert_to_coding_scheme = None\n",
            "2022-04-10 14:57:04,812 - INFO - allennlp.common.params - dataset_reader.label_namespace = labels\n",
            "2022-04-10 14:57:04,812 - INFO - allennlp.common.params - dataset_reader.type = conll2003\n",
            "2022-04-10 14:57:04,812 - INFO - allennlp.common.params - dataset_reader.max_instances = None\n",
            "2022-04-10 14:57:04,812 - INFO - allennlp.common.params - dataset_reader.manual_distributed_sharding = False\n",
            "2022-04-10 14:57:04,812 - INFO - allennlp.common.params - dataset_reader.manual_multiprocess_sharding = False\n",
            "2022-04-10 14:57:04,812 - INFO - allennlp.common.params - dataset_reader.token_indexers.tokens.type = single_id\n",
            "2022-04-10 14:57:04,813 - INFO - allennlp.common.params - dataset_reader.token_indexers.tokens.namespace = tokens\n",
            "2022-04-10 14:57:04,813 - INFO - allennlp.common.params - dataset_reader.token_indexers.tokens.lowercase_tokens = False\n",
            "2022-04-10 14:57:04,813 - INFO - allennlp.common.params - dataset_reader.token_indexers.tokens.start_tokens = None\n",
            "2022-04-10 14:57:04,813 - INFO - allennlp.common.params - dataset_reader.token_indexers.tokens.end_tokens = None\n",
            "2022-04-10 14:57:04,813 - INFO - allennlp.common.params - dataset_reader.token_indexers.tokens.feature_name = text\n",
            "2022-04-10 14:57:04,813 - INFO - allennlp.common.params - dataset_reader.token_indexers.tokens.default_value = THIS IS A REALLY UNLIKELY VALUE THAT HAS TO BE A STRING\n",
            "2022-04-10 14:57:04,813 - INFO - allennlp.common.params - dataset_reader.token_indexers.tokens.token_min_padding_length = 0\n",
            "2022-04-10 14:57:04,813 - INFO - allennlp.common.params - dataset_reader.tag_label = ner\n",
            "2022-04-10 14:57:04,813 - INFO - allennlp.common.params - dataset_reader.feature_labels = ()\n",
            "2022-04-10 14:57:04,813 - INFO - allennlp.common.params - dataset_reader.convert_to_coding_scheme = None\n",
            "2022-04-10 14:57:04,813 - INFO - allennlp.common.params - dataset_reader.label_namespace = labels\n",
            "2022-04-10 14:57:04,813 - INFO - allennlp.common.params - vocabulary.type = from_instances\n",
            "2022-04-10 14:57:04,814 - INFO - allennlp.data.vocabulary - Loading token dictionary from /tmp/tmpc2f6o8ky/vocabulary.\n",
            "2022-04-10 14:57:04,830 - INFO - allennlp.common.params - model.type = crf_tagger\n",
            "2022-04-10 14:57:04,830 - INFO - allennlp.common.params - model.regularizer = None\n",
            "2022-04-10 14:57:04,830 - INFO - allennlp.common.params - model.ddp_accelerator = None\n",
            "2022-04-10 14:57:04,830 - INFO - allennlp.common.params - model.text_field_embedder.type = basic\n",
            "2022-04-10 14:57:04,831 - INFO - allennlp.common.params - model.text_field_embedder.token_embedders.tokens.type = embedding\n",
            "2022-04-10 14:57:04,831 - INFO - allennlp.common.params - model.text_field_embedder.token_embedders.tokens.embedding_dim = 300\n",
            "2022-04-10 14:57:04,831 - INFO - allennlp.common.params - model.text_field_embedder.token_embedders.tokens.num_embeddings = None\n",
            "2022-04-10 14:57:04,831 - INFO - allennlp.common.params - model.text_field_embedder.token_embedders.tokens.projection_dim = None\n",
            "2022-04-10 14:57:04,831 - INFO - allennlp.common.params - model.text_field_embedder.token_embedders.tokens.weight = None\n",
            "2022-04-10 14:57:04,831 - INFO - allennlp.common.params - model.text_field_embedder.token_embedders.tokens.padding_index = None\n",
            "2022-04-10 14:57:04,831 - INFO - allennlp.common.params - model.text_field_embedder.token_embedders.tokens.trainable = True\n",
            "2022-04-10 14:57:04,831 - INFO - allennlp.common.params - model.text_field_embedder.token_embedders.tokens.max_norm = None\n",
            "2022-04-10 14:57:04,832 - INFO - allennlp.common.params - model.text_field_embedder.token_embedders.tokens.norm_type = 2.0\n",
            "2022-04-10 14:57:04,832 - INFO - allennlp.common.params - model.text_field_embedder.token_embedders.tokens.scale_grad_by_freq = False\n",
            "2022-04-10 14:57:04,832 - INFO - allennlp.common.params - model.text_field_embedder.token_embedders.tokens.sparse = False\n",
            "2022-04-10 14:57:04,832 - INFO - allennlp.common.params - model.text_field_embedder.token_embedders.tokens.vocab_namespace = tokens\n",
            "2022-04-10 14:57:04,832 - INFO - allennlp.common.params - model.text_field_embedder.token_embedders.tokens.pretrained_file = None\n",
            "2022-04-10 14:57:04,880 - INFO - allennlp.common.params - model.encoder.type = lstm\n",
            "2022-04-10 14:57:04,880 - INFO - allennlp.common.params - model.encoder.input_size = 300\n",
            "2022-04-10 14:57:04,880 - INFO - allennlp.common.params - model.encoder.hidden_size = 32\n",
            "2022-04-10 14:57:04,881 - INFO - allennlp.common.params - model.encoder.num_layers = 1\n",
            "2022-04-10 14:57:04,881 - INFO - allennlp.common.params - model.encoder.bias = True\n",
            "2022-04-10 14:57:04,881 - INFO - allennlp.common.params - model.encoder.dropout = 0.0\n",
            "2022-04-10 14:57:04,881 - INFO - allennlp.common.params - model.encoder.bidirectional = True\n",
            "2022-04-10 14:57:04,881 - INFO - allennlp.common.params - model.encoder.stateful = False\n",
            "2022-04-10 14:57:04,882 - INFO - allennlp.common.params - model.label_namespace = labels\n",
            "2022-04-10 14:57:04,882 - INFO - allennlp.common.params - model.feedforward = None\n",
            "2022-04-10 14:57:04,882 - INFO - allennlp.common.params - model.label_encoding = BIO\n",
            "2022-04-10 14:57:04,882 - INFO - allennlp.common.params - model.include_start_end_transitions = True\n",
            "2022-04-10 14:57:04,882 - INFO - allennlp.common.params - model.constrain_crf_decoding = None\n",
            "2022-04-10 14:57:04,882 - INFO - allennlp.common.params - model.calculate_span_f1 = None\n",
            "2022-04-10 14:57:04,882 - INFO - allennlp.common.params - model.dropout = None\n",
            "2022-04-10 14:57:04,883 - INFO - allennlp.common.params - model.verbose_metrics = False\n",
            "2022-04-10 14:57:04,883 - INFO - allennlp.common.params - model.initializer = <allennlp.nn.initializers.InitializerApplicator object at 0x7fdf107d7fd0>\n",
            "2022-04-10 14:57:04,883 - INFO - allennlp.common.params - model.top_k = 1\n",
            "2022-04-10 14:57:04,883 - INFO - allennlp.common.params - model.ignore_loss_on_o_tags = False\n",
            "2022-04-10 14:57:04,885 - INFO - allennlp.nn.initializers - Initializing parameters\n",
            "2022-04-10 14:57:04,885 - INFO - allennlp.nn.initializers - Done initializing parameters; the following parameters are using their default initialization from their code\n",
            "2022-04-10 14:57:04,885 - INFO - allennlp.nn.initializers -    crf._constraint_mask\n",
            "2022-04-10 14:57:04,885 - INFO - allennlp.nn.initializers -    crf.end_transitions\n",
            "2022-04-10 14:57:04,885 - INFO - allennlp.nn.initializers -    crf.start_transitions\n",
            "2022-04-10 14:57:04,885 - INFO - allennlp.nn.initializers -    crf.transitions\n",
            "2022-04-10 14:57:04,885 - INFO - allennlp.nn.initializers -    encoder._module.bias_hh_l0\n",
            "2022-04-10 14:57:04,885 - INFO - allennlp.nn.initializers -    encoder._module.bias_hh_l0_reverse\n",
            "2022-04-10 14:57:04,885 - INFO - allennlp.nn.initializers -    encoder._module.bias_ih_l0\n",
            "2022-04-10 14:57:04,885 - INFO - allennlp.nn.initializers -    encoder._module.bias_ih_l0_reverse\n",
            "2022-04-10 14:57:04,885 - INFO - allennlp.nn.initializers -    encoder._module.weight_hh_l0\n",
            "2022-04-10 14:57:04,885 - INFO - allennlp.nn.initializers -    encoder._module.weight_hh_l0_reverse\n",
            "2022-04-10 14:57:04,885 - INFO - allennlp.nn.initializers -    encoder._module.weight_ih_l0\n",
            "2022-04-10 14:57:04,885 - INFO - allennlp.nn.initializers -    encoder._module.weight_ih_l0_reverse\n",
            "2022-04-10 14:57:04,885 - INFO - allennlp.nn.initializers -    tag_projection_layer._module.bias\n",
            "2022-04-10 14:57:04,885 - INFO - allennlp.nn.initializers -    tag_projection_layer._module.weight\n",
            "2022-04-10 14:57:04,885 - INFO - allennlp.nn.initializers -    text_field_embedder.token_embedder_tokens.weight\n",
            "2022-04-10 14:57:04,904 - INFO - allennlp.models.archival - removing temporary unarchived model dir at /tmp/tmpc2f6o8ky\n",
            "/usr/local/lib/python3.7/dist-packages/spacy/util.py:717: UserWarning: [W094] Model 'en_core_web_sm' (2.2.5) specifies an under-constrained spaCy version requirement: >=2.2.2. This can lead to compatibility problems with older versions, or as new spaCy versions are released, because the model may say it's compatible when it's not. Consider changing the \"spacy_version\" in your meta.json to a version range, with a lower and upper pin. For example: >=3.0.6,<3.1.0\n",
            "  warnings.warn(warn_msg)\n",
            "2022-04-10 14:57:04,914 - WARNING - allennlp.common.util - Spacy models 'en_core_web_sm' not found.  Downloading and installing.\n",
            "Collecting en-core-web-sm==3.0.0\n",
            "  Downloading https://github.com/explosion/spacy-models/releases/download/en_core_web_sm-3.0.0/en_core_web_sm-3.0.0-py3-none-any.whl (13.7 MB)\n",
            "\u001b[K     |████████████████████████████████| 13.7 MB 5.0 MB/s \n",
            "\u001b[?25hRequirement already satisfied: spacy<3.1.0,>=3.0.0 in /usr/local/lib/python3.7/dist-packages (from en-core-web-sm==3.0.0) (3.0.6)\n",
            "Requirement already satisfied: srsly<3.0.0,>=2.4.1 in /usr/local/lib/python3.7/dist-packages (from spacy<3.1.0,>=3.0.0->en-core-web-sm==3.0.0) (2.4.2)\n",
            "Requirement already satisfied: blis<0.8.0,>=0.4.0 in /usr/local/lib/python3.7/dist-packages (from spacy<3.1.0,>=3.0.0->en-core-web-sm==3.0.0) (0.4.1)\n",
            "Requirement already satisfied: jinja2 in /usr/local/lib/python3.7/dist-packages (from spacy<3.1.0,>=3.0.0->en-core-web-sm==3.0.0) (2.11.3)\n",
            "Requirement already satisfied: thinc<8.1.0,>=8.0.3 in /usr/local/lib/python3.7/dist-packages (from spacy<3.1.0,>=3.0.0->en-core-web-sm==3.0.0) (8.0.15)\n",
            "Requirement already satisfied: requests<3.0.0,>=2.13.0 in /usr/local/lib/python3.7/dist-packages (from spacy<3.1.0,>=3.0.0->en-core-web-sm==3.0.0) (2.23.0)\n",
            "Requirement already satisfied: tqdm<5.0.0,>=4.38.0 in /usr/local/lib/python3.7/dist-packages (from spacy<3.1.0,>=3.0.0->en-core-web-sm==3.0.0) (4.63.0)\n",
            "Requirement already satisfied: pathy>=0.3.5 in /usr/local/lib/python3.7/dist-packages (from spacy<3.1.0,>=3.0.0->en-core-web-sm==3.0.0) (0.6.1)\n",
            "Requirement already satisfied: spacy-legacy<3.1.0,>=3.0.4 in /usr/local/lib/python3.7/dist-packages (from spacy<3.1.0,>=3.0.0->en-core-web-sm==3.0.0) (3.0.9)\n",
            "Requirement already satisfied: packaging>=20.0 in /usr/local/lib/python3.7/dist-packages (from spacy<3.1.0,>=3.0.0->en-core-web-sm==3.0.0) (21.3)\n",
            "Requirement already satisfied: murmurhash<1.1.0,>=0.28.0 in /usr/local/lib/python3.7/dist-packages (from spacy<3.1.0,>=3.0.0->en-core-web-sm==3.0.0) (1.0.6)\n",
            "Requirement already satisfied: numpy>=1.15.0 in /usr/local/lib/python3.7/dist-packages (from spacy<3.1.0,>=3.0.0->en-core-web-sm==3.0.0) (1.21.5)\n",
            "Requirement already satisfied: typer<0.4.0,>=0.3.0 in /usr/local/lib/python3.7/dist-packages (from spacy<3.1.0,>=3.0.0->en-core-web-sm==3.0.0) (0.3.2)\n",
            "Requirement already satisfied: preshed<3.1.0,>=3.0.2 in /usr/local/lib/python3.7/dist-packages (from spacy<3.1.0,>=3.0.0->en-core-web-sm==3.0.0) (3.0.6)\n",
            "Requirement already satisfied: cymem<2.1.0,>=2.0.2 in /usr/local/lib/python3.7/dist-packages (from spacy<3.1.0,>=3.0.0->en-core-web-sm==3.0.0) (2.0.6)\n",
            "Requirement already satisfied: wasabi<1.1.0,>=0.8.1 in /usr/local/lib/python3.7/dist-packages (from spacy<3.1.0,>=3.0.0->en-core-web-sm==3.0.0) (0.9.0)\n",
            "Requirement already satisfied: catalogue<2.1.0,>=2.0.3 in /usr/local/lib/python3.7/dist-packages (from spacy<3.1.0,>=3.0.0->en-core-web-sm==3.0.0) (2.0.7)\n",
            "Requirement already satisfied: setuptools in /usr/local/lib/python3.7/dist-packages (from spacy<3.1.0,>=3.0.0->en-core-web-sm==3.0.0) (57.4.0)\n",
            "Requirement already satisfied: typing-extensions<4.0.0.0,>=3.7.4 in /usr/local/lib/python3.7/dist-packages (from spacy<3.1.0,>=3.0.0->en-core-web-sm==3.0.0) (3.10.0.2)\n",
            "Requirement already satisfied: pydantic<1.8.0,>=1.7.1 in /usr/local/lib/python3.7/dist-packages (from spacy<3.1.0,>=3.0.0->en-core-web-sm==3.0.0) (1.7.4)\n",
            "Requirement already satisfied: zipp>=0.5 in /usr/local/lib/python3.7/dist-packages (from catalogue<2.1.0,>=2.0.3->spacy<3.1.0,>=3.0.0->en-core-web-sm==3.0.0) (3.7.0)\n",
            "Requirement already satisfied: pyparsing!=3.0.5,>=2.0.2 in /usr/local/lib/python3.7/dist-packages (from packaging>=20.0->spacy<3.1.0,>=3.0.0->en-core-web-sm==3.0.0) (3.0.7)\n",
            "Requirement already satisfied: smart-open<6.0.0,>=5.0.0 in /usr/local/lib/python3.7/dist-packages (from pathy>=0.3.5->spacy<3.1.0,>=3.0.0->en-core-web-sm==3.0.0) (5.2.1)\n",
            "Requirement already satisfied: urllib3!=1.25.0,!=1.25.1,<1.26,>=1.21.1 in /usr/local/lib/python3.7/dist-packages (from requests<3.0.0,>=2.13.0->spacy<3.1.0,>=3.0.0->en-core-web-sm==3.0.0) (1.25.11)\n",
            "Requirement already satisfied: chardet<4,>=3.0.2 in /usr/local/lib/python3.7/dist-packages (from requests<3.0.0,>=2.13.0->spacy<3.1.0,>=3.0.0->en-core-web-sm==3.0.0) (3.0.4)\n",
            "Requirement already satisfied: idna<3,>=2.5 in /usr/local/lib/python3.7/dist-packages (from requests<3.0.0,>=2.13.0->spacy<3.1.0,>=3.0.0->en-core-web-sm==3.0.0) (2.10)\n",
            "Requirement already satisfied: certifi>=2017.4.17 in /usr/local/lib/python3.7/dist-packages (from requests<3.0.0,>=2.13.0->spacy<3.1.0,>=3.0.0->en-core-web-sm==3.0.0) (2021.10.8)\n",
            "Requirement already satisfied: click<7.2.0,>=7.1.1 in /usr/local/lib/python3.7/dist-packages (from typer<0.4.0,>=0.3.0->spacy<3.1.0,>=3.0.0->en-core-web-sm==3.0.0) (7.1.2)\n",
            "Requirement already satisfied: MarkupSafe>=0.23 in /usr/local/lib/python3.7/dist-packages (from jinja2->spacy<3.1.0,>=3.0.0->en-core-web-sm==3.0.0) (2.0.1)\n",
            "Installing collected packages: en-core-web-sm\n",
            "  Attempting uninstall: en-core-web-sm\n",
            "    Found existing installation: en-core-web-sm 2.2.5\n",
            "    Uninstalling en-core-web-sm-2.2.5:\n",
            "      Successfully uninstalled en-core-web-sm-2.2.5\n",
            "Successfully installed en-core-web-sm-3.0.0\n",
            "\u001b[38;5;2m✔ Download and installation successful\u001b[0m\n",
            "You can now load the package via spacy.load('en_core_web_sm')\n",
            "2022-04-10 14:57:09,959 - INFO - allennlp.data.dataset_readers.conll2003 - Reading instances from lines in file at: data/kwdlc/kwdlc_ner_validation.txt\n"
          ]
        }
      ],
      "source": [
        "!allennlp predict --output-file exp_kwdlc_ner/validation_predictions.json --silent --use-dataset-reader exp_kwdlc_ner/model.tar.gz data/kwdlc/kwdlc_ner_validation.txt"
      ]
    },
    {
      "cell_type": "code",
      "execution_count": null,
      "metadata": {
        "id": "baJdZFDRubvV"
      },
      "outputs": [],
      "source": [
        "import json\n",
        "from allennlp.data.dataset_readers.dataset_utils.span_utils import bio_tags_to_spans\n",
        "from spacy import displacy\n",
        "from spacy.tokens import Doc, Span\n",
        "from spacy.vocab import Vocab\n",
        "\n",
        "def create_doc_instance(words, labels):\n",
        "    \"\"\"単語のリストとラベルのリストからエンティティの情報を含んだDocインスタンスを作成\"\"\"\n",
        "    # 単語のリストからDocインスタンスを作成\n",
        "    # ラベルのリストもDocインスタンスに紐付ける\n",
        "    doc = Doc(Vocab(), words=words, user_data={\"labels\": labels})\n",
        "\n",
        "    # ラベルのリストをエンティティの型名と範囲を含んだタプルのリストに変換\n",
        "    entities = bio_tags_to_spans(labels)\n",
        "\n",
        "    spans = []\n",
        "    # エンティティの型名と範囲のリストを個別に処理し、Spanインスタンスのリストを作成\n",
        "    for entity_type, (start, end) in entities:\n",
        "        # エンティティの開始・終了位置、型名を使ってSpanインスタンスを作成\n",
        "        # 終了位置としてbio_tags_to_spans関数はエンティティの範囲内の最後の単語の位置を返すが、\n",
        "        # Spanクラスにはエンティティの最後の単語の次の単語の位置を指定する必要があるため、\n",
        "        # end + 1とする\n",
        "        span = Span(doc, start, end + 1, entity_type)\n",
        "        spans.append(span)\n",
        "    # DocインスタンスにSpanインスタンスのリストを紐付ける\n",
        "    doc.set_ents(spans)\n",
        "    return doc\n",
        "\n",
        "# モデルの予測結果を読み込む\n",
        "output_docs = []\n",
        "with open(\"exp_kwdlc_ner/validation_predictions.json\") as output_file:\n",
        "    for line in output_file:\n",
        "        result = json.loads(line)\n",
        "        doc = create_doc_instance(result[\"words\"], result[\"tags\"])\n",
        "        output_docs.append(doc)\n",
        "\n",
        "# データセットから正解データを読み込む\n",
        "gold_docs = []\n",
        "with open(\"data/kwdlc/kwdlc_ner_validation.txt\") as gold_file:\n",
        "    words, labels = [], []\n",
        "    for line in gold_file:\n",
        "        line = line.rstrip(\"\\n\")\n",
        "        if line:\n",
        "            # 単語（1カラム目）、 固有表現ラベル（4カラム目）以外は利用しない\n",
        "            word, _, _, label = line.split(\" \")\n",
        "            words.append(word)\n",
        "            labels.append(label)\n",
        "        # 空行が文の切れ目\n",
        "        else:\n",
        "            doc = create_doc_instance(words, labels)\n",
        "            gold_docs.append(doc)\n",
        "            words, labels = [], []"
      ]
    },
    {
      "cell_type": "code",
      "execution_count": null,
      "metadata": {
        "id": "rNeJLRHI2gGQ",
        "colab": {
          "base_uri": "https://localhost:8080/",
          "height": 1000
        },
        "outputId": "3fb8ba50-de9f-48dc-a24f-105ebdc0e229"
      },
      "outputs": [
        {
          "output_type": "display_data",
          "data": {
            "text/plain": [
              "<IPython.core.display.HTML object>"
            ],
            "text/html": [
              "<span class=\"tex2jax_ignore\"><div class=\"entities\" style=\"line-height: 2.5; direction: ltr\">\n",
              "<mark class=\"entity\" style=\"background: #74b9ff; padding: 0.45em 0.6em; margin: 0 0.25em; line-height: 1; border-radius: 0.35em;\">\n",
              "    日本\n",
              "    <span style=\"font-size: 0.8em; font-weight: bold; line-height: 1; border-radius: 0.35em; vertical-align: middle; margin-left: 0.5rem\">LOCATION</span>\n",
              "</mark>\n",
              " 人 女性 は ２ 人 に １ 人 は 便秘 と 言わ れて い ます 。 </div></span>"
            ]
          },
          "metadata": {}
        },
        {
          "output_type": "stream",
          "name": "stdout",
          "text": [
            "----------\n"
          ]
        },
        {
          "output_type": "display_data",
          "data": {
            "text/plain": [
              "<IPython.core.display.HTML object>"
            ],
            "text/html": [
              "<span class=\"tex2jax_ignore\"><div class=\"entities\" style=\"line-height: 2.5; direction: ltr\">\n",
              "<mark class=\"entity\" style=\"background: #81ecec; padding: 0.45em 0.6em; margin: 0 0.25em; line-height: 1; border-radius: 0.35em;\">\n",
              "    本年\n",
              "    <span style=\"font-size: 0.8em; font-weight: bold; line-height: 1; border-radius: 0.35em; vertical-align: middle; margin-left: 0.5rem\">DATE</span>\n",
              "</mark>\n",
              " も 学友 会 サークル の 定期 演奏 会 等 の 時期 を 迎え ました 。 </div></span>"
            ]
          },
          "metadata": {}
        },
        {
          "output_type": "stream",
          "name": "stdout",
          "text": [
            "----------\n",
            "モデルの予測：\n"
          ]
        },
        {
          "output_type": "display_data",
          "data": {
            "text/plain": [
              "<IPython.core.display.HTML object>"
            ],
            "text/html": [
              "<span class=\"tex2jax_ignore\"><div class=\"entities\" style=\"line-height: 2.5; direction: ltr\">１４万 平方メートル の 敷地 内 に は 博物 館 、 プラネタリウム 、 ふるさと 体験 館 など が ある 。 </div></span>"
            ]
          },
          "metadata": {}
        },
        {
          "output_type": "stream",
          "name": "stdout",
          "text": [
            "正解：\n"
          ]
        },
        {
          "output_type": "display_data",
          "data": {
            "text/plain": [
              "<IPython.core.display.HTML object>"
            ],
            "text/html": [
              "<span class=\"tex2jax_ignore\"><div class=\"entities\" style=\"line-height: 2.5; direction: ltr\">１４万 平方メートル の 敷地 内 に は 博物 館 、 プラネタリウム 、 \n",
              "<mark class=\"entity\" style=\"background: #dfe6e9; padding: 0.45em 0.6em; margin: 0 0.25em; line-height: 1; border-radius: 0.35em;\">\n",
              "    ふるさと 体験 館\n",
              "    <span style=\"font-size: 0.8em; font-weight: bold; line-height: 1; border-radius: 0.35em; vertical-align: middle; margin-left: 0.5rem\">ORGANIZATION</span>\n",
              "</mark>\n",
              " など が ある 。 </div></span>"
            ]
          },
          "metadata": {}
        },
        {
          "output_type": "stream",
          "name": "stdout",
          "text": [
            "----------\n",
            "モデルの予測：\n"
          ]
        },
        {
          "output_type": "display_data",
          "data": {
            "text/plain": [
              "<IPython.core.display.HTML object>"
            ],
            "text/html": [
              "<span class=\"tex2jax_ignore\"><div class=\"entities\" style=\"line-height: 2.5; direction: ltr\">\n",
              "<mark class=\"entity\" style=\"background: #55efc4; padding: 0.45em 0.6em; margin: 0 0.25em; line-height: 1; border-radius: 0.35em;\">\n",
              "    学情 ナビ\n",
              "    <span style=\"font-size: 0.8em; font-weight: bold; line-height: 1; border-radius: 0.35em; vertical-align: middle; margin-left: 0.5rem\">ARTIFACT</span>\n",
              "</mark>\n",
              " ・ モバ 就 に ついて よく ある 質問 を まとめ ました 。 </div></span>"
            ]
          },
          "metadata": {}
        },
        {
          "output_type": "stream",
          "name": "stdout",
          "text": [
            "正解：\n"
          ]
        },
        {
          "output_type": "display_data",
          "data": {
            "text/plain": [
              "<IPython.core.display.HTML object>"
            ],
            "text/html": [
              "<span class=\"tex2jax_ignore\"><div class=\"entities\" style=\"line-height: 2.5; direction: ltr\">\n",
              "<mark class=\"entity\" style=\"background: #55efc4; padding: 0.45em 0.6em; margin: 0 0.25em; line-height: 1; border-radius: 0.35em;\">\n",
              "    学情 ナビ ・ モバ 就\n",
              "    <span style=\"font-size: 0.8em; font-weight: bold; line-height: 1; border-radius: 0.35em; vertical-align: middle; margin-left: 0.5rem\">ARTIFACT</span>\n",
              "</mark>\n",
              " に ついて よく ある 質問 を まとめ ました 。 </div></span>"
            ]
          },
          "metadata": {}
        },
        {
          "output_type": "stream",
          "name": "stdout",
          "text": [
            "----------\n",
            "モデルの予測：\n"
          ]
        },
        {
          "output_type": "display_data",
          "data": {
            "text/plain": [
              "<IPython.core.display.HTML object>"
            ],
            "text/html": [
              "<span class=\"tex2jax_ignore\"><div class=\"entities\" style=\"line-height: 2.5; direction: ltr\">ポータブル ベッド で 大 人気 の 折りたたみ 式 マッサージ ベッド の カルロス も もちろん 、 特別 価格 にて ご 用意 して おり ます 。 </div></span>"
            ]
          },
          "metadata": {}
        },
        {
          "output_type": "stream",
          "name": "stdout",
          "text": [
            "正解：\n"
          ]
        },
        {
          "output_type": "display_data",
          "data": {
            "text/plain": [
              "<IPython.core.display.HTML object>"
            ],
            "text/html": [
              "<span class=\"tex2jax_ignore\"><div class=\"entities\" style=\"line-height: 2.5; direction: ltr\">ポータブル ベッド で 大 人気 の 折りたたみ 式 マッサージ ベッド の \n",
              "<mark class=\"entity\" style=\"background: #55efc4; padding: 0.45em 0.6em; margin: 0 0.25em; line-height: 1; border-radius: 0.35em;\">\n",
              "    カルロス\n",
              "    <span style=\"font-size: 0.8em; font-weight: bold; line-height: 1; border-radius: 0.35em; vertical-align: middle; margin-left: 0.5rem\">ARTIFACT</span>\n",
              "</mark>\n",
              " も もちろん 、 特別 価格 にて ご 用意 して おり ます 。 </div></span>"
            ]
          },
          "metadata": {}
        },
        {
          "output_type": "stream",
          "name": "stdout",
          "text": [
            "----------\n",
            "モデルの予測：\n"
          ]
        },
        {
          "output_type": "display_data",
          "data": {
            "text/plain": [
              "<IPython.core.display.HTML object>"
            ],
            "text/html": [
              "<span class=\"tex2jax_ignore\"><div class=\"entities\" style=\"line-height: 2.5; direction: ltr\">藍沢 耕作 は 、 絹江 が 相変わらず はっきり と 教えて くれ ない こと に 苦悩 して いた 。 </div></span>"
            ]
          },
          "metadata": {}
        },
        {
          "output_type": "stream",
          "name": "stdout",
          "text": [
            "正解：\n"
          ]
        },
        {
          "output_type": "display_data",
          "data": {
            "text/plain": [
              "<IPython.core.display.HTML object>"
            ],
            "text/html": [
              "<span class=\"tex2jax_ignore\"><div class=\"entities\" style=\"line-height: 2.5; direction: ltr\">\n",
              "<mark class=\"entity\" style=\"background: #fab1a0; padding: 0.45em 0.6em; margin: 0 0.25em; line-height: 1; border-radius: 0.35em;\">\n",
              "    藍沢 耕作\n",
              "    <span style=\"font-size: 0.8em; font-weight: bold; line-height: 1; border-radius: 0.35em; vertical-align: middle; margin-left: 0.5rem\">PERSON</span>\n",
              "</mark>\n",
              " は 、 \n",
              "<mark class=\"entity\" style=\"background: #fab1a0; padding: 0.45em 0.6em; margin: 0 0.25em; line-height: 1; border-radius: 0.35em;\">\n",
              "    絹江\n",
              "    <span style=\"font-size: 0.8em; font-weight: bold; line-height: 1; border-radius: 0.35em; vertical-align: middle; margin-left: 0.5rem\">PERSON</span>\n",
              "</mark>\n",
              " が 相変わらず はっきり と 教えて くれ ない こと に 苦悩 して いた 。 </div></span>"
            ]
          },
          "metadata": {}
        },
        {
          "output_type": "stream",
          "name": "stdout",
          "text": [
            "----------\n"
          ]
        },
        {
          "output_type": "display_data",
          "data": {
            "text/plain": [
              "<IPython.core.display.HTML object>"
            ],
            "text/html": [
              "<span class=\"tex2jax_ignore\"><div class=\"entities\" style=\"line-height: 2.5; direction: ltr\">\n",
              "<mark class=\"entity\" style=\"background: #fab1a0; padding: 0.45em 0.6em; margin: 0 0.25em; line-height: 1; border-radius: 0.35em;\">\n",
              "    山下 智久\n",
              "    <span style=\"font-size: 0.8em; font-weight: bold; line-height: 1; border-radius: 0.35em; vertical-align: middle; margin-left: 0.5rem\">PERSON</span>\n",
              "</mark>\n",
              " </div></span>"
            ]
          },
          "metadata": {}
        },
        {
          "output_type": "stream",
          "name": "stdout",
          "text": [
            "----------\n",
            "モデルの予測：\n"
          ]
        },
        {
          "output_type": "display_data",
          "data": {
            "text/plain": [
              "<IPython.core.display.HTML object>"
            ],
            "text/html": [
              "<span class=\"tex2jax_ignore\"><div class=\"entities\" style=\"line-height: 2.5; direction: ltr\">島 かおり </div></span>"
            ]
          },
          "metadata": {}
        },
        {
          "output_type": "stream",
          "name": "stdout",
          "text": [
            "正解：\n"
          ]
        },
        {
          "output_type": "display_data",
          "data": {
            "text/plain": [
              "<IPython.core.display.HTML object>"
            ],
            "text/html": [
              "<span class=\"tex2jax_ignore\"><div class=\"entities\" style=\"line-height: 2.5; direction: ltr\">\n",
              "<mark class=\"entity\" style=\"background: #fab1a0; padding: 0.45em 0.6em; margin: 0 0.25em; line-height: 1; border-radius: 0.35em;\">\n",
              "    島 かおり\n",
              "    <span style=\"font-size: 0.8em; font-weight: bold; line-height: 1; border-radius: 0.35em; vertical-align: middle; margin-left: 0.5rem\">PERSON</span>\n",
              "</mark>\n",
              " </div></span>"
            ]
          },
          "metadata": {}
        },
        {
          "output_type": "stream",
          "name": "stdout",
          "text": [
            "----------\n",
            "モデルの予測：\n"
          ]
        },
        {
          "output_type": "display_data",
          "data": {
            "text/plain": [
              "<IPython.core.display.HTML object>"
            ],
            "text/html": [
              "<span class=\"tex2jax_ignore\"><div class=\"entities\" style=\"line-height: 2.5; direction: ltr\">一方 、 冴島 はるか の 恋人 、 悟史 に は “ その 時 ” が 間近に 迫る 。 </div></span>"
            ]
          },
          "metadata": {}
        },
        {
          "output_type": "stream",
          "name": "stdout",
          "text": [
            "正解：\n"
          ]
        },
        {
          "output_type": "display_data",
          "data": {
            "text/plain": [
              "<IPython.core.display.HTML object>"
            ],
            "text/html": [
              "<span class=\"tex2jax_ignore\"><div class=\"entities\" style=\"line-height: 2.5; direction: ltr\">一方 、 \n",
              "<mark class=\"entity\" style=\"background: #fab1a0; padding: 0.45em 0.6em; margin: 0 0.25em; line-height: 1; border-radius: 0.35em;\">\n",
              "    冴島 はるか\n",
              "    <span style=\"font-size: 0.8em; font-weight: bold; line-height: 1; border-radius: 0.35em; vertical-align: middle; margin-left: 0.5rem\">PERSON</span>\n",
              "</mark>\n",
              " の 恋人 、 \n",
              "<mark class=\"entity\" style=\"background: #fab1a0; padding: 0.45em 0.6em; margin: 0 0.25em; line-height: 1; border-radius: 0.35em;\">\n",
              "    悟史\n",
              "    <span style=\"font-size: 0.8em; font-weight: bold; line-height: 1; border-radius: 0.35em; vertical-align: middle; margin-left: 0.5rem\">PERSON</span>\n",
              "</mark>\n",
              " に は “ その 時 ” が 間近に 迫る 。 </div></span>"
            ]
          },
          "metadata": {}
        },
        {
          "output_type": "stream",
          "name": "stdout",
          "text": [
            "----------\n",
            "モデルの予測：\n"
          ]
        },
        {
          "output_type": "display_data",
          "data": {
            "text/plain": [
              "<IPython.core.display.HTML object>"
            ],
            "text/html": [
              "<span class=\"tex2jax_ignore\"><div class=\"entities\" style=\"line-height: 2.5; direction: ltr\">比嘉 愛未 </div></span>"
            ]
          },
          "metadata": {}
        },
        {
          "output_type": "stream",
          "name": "stdout",
          "text": [
            "正解：\n"
          ]
        },
        {
          "output_type": "display_data",
          "data": {
            "text/plain": [
              "<IPython.core.display.HTML object>"
            ],
            "text/html": [
              "<span class=\"tex2jax_ignore\"><div class=\"entities\" style=\"line-height: 2.5; direction: ltr\">\n",
              "<mark class=\"entity\" style=\"background: #fab1a0; padding: 0.45em 0.6em; margin: 0 0.25em; line-height: 1; border-radius: 0.35em;\">\n",
              "    比嘉 愛未\n",
              "    <span style=\"font-size: 0.8em; font-weight: bold; line-height: 1; border-radius: 0.35em; vertical-align: middle; margin-left: 0.5rem\">PERSON</span>\n",
              "</mark>\n",
              " </div></span>"
            ]
          },
          "metadata": {}
        },
        {
          "output_type": "stream",
          "name": "stdout",
          "text": [
            "----------\n",
            "モデルの予測：\n"
          ]
        },
        {
          "output_type": "display_data",
          "data": {
            "text/plain": [
              "<IPython.core.display.HTML object>"
            ],
            "text/html": [
              "<span class=\"tex2jax_ignore\"><div class=\"entities\" style=\"line-height: 2.5; direction: ltr\">平山 浩行 </div></span>"
            ]
          },
          "metadata": {}
        },
        {
          "output_type": "stream",
          "name": "stdout",
          "text": [
            "正解：\n"
          ]
        },
        {
          "output_type": "display_data",
          "data": {
            "text/plain": [
              "<IPython.core.display.HTML object>"
            ],
            "text/html": [
              "<span class=\"tex2jax_ignore\"><div class=\"entities\" style=\"line-height: 2.5; direction: ltr\">\n",
              "<mark class=\"entity\" style=\"background: #fab1a0; padding: 0.45em 0.6em; margin: 0 0.25em; line-height: 1; border-radius: 0.35em;\">\n",
              "    平山 浩行\n",
              "    <span style=\"font-size: 0.8em; font-weight: bold; line-height: 1; border-radius: 0.35em; vertical-align: middle; margin-left: 0.5rem\">PERSON</span>\n",
              "</mark>\n",
              " </div></span>"
            ]
          },
          "metadata": {}
        },
        {
          "output_type": "stream",
          "name": "stdout",
          "text": [
            "----------\n",
            "モデルの予測：\n"
          ]
        },
        {
          "output_type": "display_data",
          "data": {
            "text/plain": [
              "<IPython.core.display.HTML object>"
            ],
            "text/html": [
              "<span class=\"tex2jax_ignore\"><div class=\"entities\" style=\"line-height: 2.5; direction: ltr\">すでに 悟史 は 個室 に 移さ れ 、 彼 の 両親 や たくさんの 友人 たち も 呼ば れた 。 </div></span>"
            ]
          },
          "metadata": {}
        },
        {
          "output_type": "stream",
          "name": "stdout",
          "text": [
            "正解：\n"
          ]
        },
        {
          "output_type": "display_data",
          "data": {
            "text/plain": [
              "<IPython.core.display.HTML object>"
            ],
            "text/html": [
              "<span class=\"tex2jax_ignore\"><div class=\"entities\" style=\"line-height: 2.5; direction: ltr\">すでに \n",
              "<mark class=\"entity\" style=\"background: #fab1a0; padding: 0.45em 0.6em; margin: 0 0.25em; line-height: 1; border-radius: 0.35em;\">\n",
              "    悟史\n",
              "    <span style=\"font-size: 0.8em; font-weight: bold; line-height: 1; border-radius: 0.35em; vertical-align: middle; margin-left: 0.5rem\">PERSON</span>\n",
              "</mark>\n",
              " は 個室 に 移さ れ 、 彼 の 両親 や たくさんの 友人 たち も 呼ば れた 。 </div></span>"
            ]
          },
          "metadata": {}
        },
        {
          "output_type": "stream",
          "name": "stdout",
          "text": [
            "----------\n",
            "モデルの予測：\n"
          ]
        },
        {
          "output_type": "display_data",
          "data": {
            "text/plain": [
              "<IPython.core.display.HTML object>"
            ],
            "text/html": [
              "<span class=\"tex2jax_ignore\"><div class=\"entities\" style=\"line-height: 2.5; direction: ltr\">ヴェルトフ と 、 \n",
              "<mark class=\"entity\" style=\"background: #fab1a0; padding: 0.45em 0.6em; margin: 0 0.25em; line-height: 1; border-radius: 0.35em;\">\n",
              "    ロバート\n",
              "    <span style=\"font-size: 0.8em; font-weight: bold; line-height: 1; border-radius: 0.35em; vertical-align: middle; margin-left: 0.5rem\">PERSON</span>\n",
              "</mark>\n",
              " ・ フラハティ 、 ヨリス ・ イヴェンス は ともに ドキュメンタリー 作品 の 父 と 言わ れる 。 </div></span>"
            ]
          },
          "metadata": {}
        },
        {
          "output_type": "stream",
          "name": "stdout",
          "text": [
            "正解：\n"
          ]
        },
        {
          "output_type": "display_data",
          "data": {
            "text/plain": [
              "<IPython.core.display.HTML object>"
            ],
            "text/html": [
              "<span class=\"tex2jax_ignore\"><div class=\"entities\" style=\"line-height: 2.5; direction: ltr\">\n",
              "<mark class=\"entity\" style=\"background: #fab1a0; padding: 0.45em 0.6em; margin: 0 0.25em; line-height: 1; border-radius: 0.35em;\">\n",
              "    ヴェルトフ\n",
              "    <span style=\"font-size: 0.8em; font-weight: bold; line-height: 1; border-radius: 0.35em; vertical-align: middle; margin-left: 0.5rem\">PERSON</span>\n",
              "</mark>\n",
              " と 、 \n",
              "<mark class=\"entity\" style=\"background: #fab1a0; padding: 0.45em 0.6em; margin: 0 0.25em; line-height: 1; border-radius: 0.35em;\">\n",
              "    ロバート ・ フラハティ\n",
              "    <span style=\"font-size: 0.8em; font-weight: bold; line-height: 1; border-radius: 0.35em; vertical-align: middle; margin-left: 0.5rem\">PERSON</span>\n",
              "</mark>\n",
              " 、 \n",
              "<mark class=\"entity\" style=\"background: #fab1a0; padding: 0.45em 0.6em; margin: 0 0.25em; line-height: 1; border-radius: 0.35em;\">\n",
              "    ヨリス ・ イヴェンス\n",
              "    <span style=\"font-size: 0.8em; font-weight: bold; line-height: 1; border-radius: 0.35em; vertical-align: middle; margin-left: 0.5rem\">PERSON</span>\n",
              "</mark>\n",
              " は ともに ドキュメンタリー 作品 の 父 と 言わ れる 。 </div></span>"
            ]
          },
          "metadata": {}
        },
        {
          "output_type": "stream",
          "name": "stdout",
          "text": [
            "----------\n",
            "モデルの予測：\n"
          ]
        },
        {
          "output_type": "display_data",
          "data": {
            "text/plain": [
              "<IPython.core.display.HTML object>"
            ],
            "text/html": [
              "<span class=\"tex2jax_ignore\"><div class=\"entities\" style=\"line-height: 2.5; direction: ltr\">出生 当時 \n",
              "<mark class=\"entity\" style=\"background: #74b9ff; padding: 0.45em 0.6em; margin: 0 0.25em; line-height: 1; border-radius: 0.35em;\">\n",
              "    ロシア\n",
              "    <span style=\"font-size: 0.8em; font-weight: bold; line-height: 1; border-radius: 0.35em; vertical-align: middle; margin-left: 0.5rem\">LOCATION</span>\n",
              "</mark>\n",
              " 領 だった \n",
              "<mark class=\"entity\" style=\"background: #74b9ff; padding: 0.45em 0.6em; margin: 0 0.25em; line-height: 1; border-radius: 0.35em;\">\n",
              "    ポーランド\n",
              "    <span style=\"font-size: 0.8em; font-weight: bold; line-height: 1; border-radius: 0.35em; vertical-align: middle; margin-left: 0.5rem\">LOCATION</span>\n",
              "</mark>\n",
              " の ビアリストク に 、 ユダヤ 人 家庭 の 三 人 兄弟 の 長男 と して 生まれた 。 </div></span>"
            ]
          },
          "metadata": {}
        },
        {
          "output_type": "stream",
          "name": "stdout",
          "text": [
            "正解：\n"
          ]
        },
        {
          "output_type": "display_data",
          "data": {
            "text/plain": [
              "<IPython.core.display.HTML object>"
            ],
            "text/html": [
              "<span class=\"tex2jax_ignore\"><div class=\"entities\" style=\"line-height: 2.5; direction: ltr\">出生 当時 \n",
              "<mark class=\"entity\" style=\"background: #74b9ff; padding: 0.45em 0.6em; margin: 0 0.25em; line-height: 1; border-radius: 0.35em;\">\n",
              "    ロシア\n",
              "    <span style=\"font-size: 0.8em; font-weight: bold; line-height: 1; border-radius: 0.35em; vertical-align: middle; margin-left: 0.5rem\">LOCATION</span>\n",
              "</mark>\n",
              " 領 だった \n",
              "<mark class=\"entity\" style=\"background: #74b9ff; padding: 0.45em 0.6em; margin: 0 0.25em; line-height: 1; border-radius: 0.35em;\">\n",
              "    ポーランド\n",
              "    <span style=\"font-size: 0.8em; font-weight: bold; line-height: 1; border-radius: 0.35em; vertical-align: middle; margin-left: 0.5rem\">LOCATION</span>\n",
              "</mark>\n",
              " の \n",
              "<mark class=\"entity\" style=\"background: #74b9ff; padding: 0.45em 0.6em; margin: 0 0.25em; line-height: 1; border-radius: 0.35em;\">\n",
              "    ビアリストク\n",
              "    <span style=\"font-size: 0.8em; font-weight: bold; line-height: 1; border-radius: 0.35em; vertical-align: middle; margin-left: 0.5rem\">LOCATION</span>\n",
              "</mark>\n",
              " に 、 ユダヤ 人 家庭 の 三 人 兄弟 の 長男 と して 生まれた 。 </div></span>"
            ]
          },
          "metadata": {}
        },
        {
          "output_type": "stream",
          "name": "stdout",
          "text": [
            "----------\n",
            "モデルの予測：\n"
          ]
        },
        {
          "output_type": "display_data",
          "data": {
            "text/plain": [
              "<IPython.core.display.HTML object>"
            ],
            "text/html": [
              "<span class=\"tex2jax_ignore\"><div class=\"entities\" style=\"line-height: 2.5; direction: ltr\">ジガ ・ ヴェルトフ は ペンネーム で 、 「 コマ の ように 回転 する 人形 」 を 意味 する 。 </div></span>"
            ]
          },
          "metadata": {}
        },
        {
          "output_type": "stream",
          "name": "stdout",
          "text": [
            "正解：\n"
          ]
        },
        {
          "output_type": "display_data",
          "data": {
            "text/plain": [
              "<IPython.core.display.HTML object>"
            ],
            "text/html": [
              "<span class=\"tex2jax_ignore\"><div class=\"entities\" style=\"line-height: 2.5; direction: ltr\">\n",
              "<mark class=\"entity\" style=\"background: #fab1a0; padding: 0.45em 0.6em; margin: 0 0.25em; line-height: 1; border-radius: 0.35em;\">\n",
              "    ジガ ・ ヴェルトフ\n",
              "    <span style=\"font-size: 0.8em; font-weight: bold; line-height: 1; border-radius: 0.35em; vertical-align: middle; margin-left: 0.5rem\">PERSON</span>\n",
              "</mark>\n",
              " は ペンネーム で 、 「 コマ の ように 回転 する 人形 」 を 意味 する 。 </div></span>"
            ]
          },
          "metadata": {}
        },
        {
          "output_type": "stream",
          "name": "stdout",
          "text": [
            "----------\n"
          ]
        },
        {
          "output_type": "display_data",
          "data": {
            "text/plain": [
              "<IPython.core.display.HTML object>"
            ],
            "text/html": [
              "<span class=\"tex2jax_ignore\"><div class=\"entities\" style=\"line-height: 2.5; direction: ltr\">\n",
              "<mark class=\"entity\" style=\"background: #81ecec; padding: 0.45em 0.6em; margin: 0 0.25em; line-height: 1; border-radius: 0.35em;\">\n",
              "    平成 ７ 年\n",
              "    <span style=\"font-size: 0.8em; font-weight: bold; line-height: 1; border-radius: 0.35em; vertical-align: middle; margin-left: 0.5rem\">DATE</span>\n",
              "</mark>\n",
              " に \n",
              "<mark class=\"entity\" style=\"background: #74b9ff; padding: 0.45em 0.6em; margin: 0 0.25em; line-height: 1; border-radius: 0.35em;\">\n",
              "    世田谷 区\n",
              "    <span style=\"font-size: 0.8em; font-weight: bold; line-height: 1; border-radius: 0.35em; vertical-align: middle; margin-left: 0.5rem\">LOCATION</span>\n",
              "</mark>\n",
              " 内 で 開業 し ました 。 </div></span>"
            ]
          },
          "metadata": {}
        },
        {
          "output_type": "stream",
          "name": "stdout",
          "text": [
            "----------\n",
            "モデルの予測：\n"
          ]
        },
        {
          "output_type": "display_data",
          "data": {
            "text/plain": [
              "<IPython.core.display.HTML object>"
            ],
            "text/html": [
              "<span class=\"tex2jax_ignore\"><div class=\"entities\" style=\"line-height: 2.5; direction: ltr\">エクスペディア で は お 電話 でも ご 予約 ・ ご 質問 を 受け付けて おり ます 。 </div></span>"
            ]
          },
          "metadata": {}
        },
        {
          "output_type": "stream",
          "name": "stdout",
          "text": [
            "正解：\n"
          ]
        },
        {
          "output_type": "display_data",
          "data": {
            "text/plain": [
              "<IPython.core.display.HTML object>"
            ],
            "text/html": [
              "<span class=\"tex2jax_ignore\"><div class=\"entities\" style=\"line-height: 2.5; direction: ltr\">\n",
              "<mark class=\"entity\" style=\"background: #dfe6e9; padding: 0.45em 0.6em; margin: 0 0.25em; line-height: 1; border-radius: 0.35em;\">\n",
              "    エクスペディア\n",
              "    <span style=\"font-size: 0.8em; font-weight: bold; line-height: 1; border-radius: 0.35em; vertical-align: middle; margin-left: 0.5rem\">ORGANIZATION</span>\n",
              "</mark>\n",
              " で は お 電話 でも ご 予約 ・ ご 質問 を 受け付けて おり ます 。 </div></span>"
            ]
          },
          "metadata": {}
        },
        {
          "output_type": "stream",
          "name": "stdout",
          "text": [
            "----------\n"
          ]
        },
        {
          "output_type": "display_data",
          "data": {
            "text/plain": [
              "<IPython.core.display.HTML object>"
            ],
            "text/html": [
              "<span class=\"tex2jax_ignore\"><div class=\"entities\" style=\"line-height: 2.5; direction: ltr\">\n",
              "<mark class=\"entity\" style=\"background: #81ecec; padding: 0.45em 0.6em; margin: 0 0.25em; line-height: 1; border-radius: 0.35em;\">\n",
              "    先日\n",
              "    <span style=\"font-size: 0.8em; font-weight: bold; line-height: 1; border-radius: 0.35em; vertical-align: middle; margin-left: 0.5rem\">DATE</span>\n",
              "</mark>\n",
              " に 引き続き 、 親子 で 行って 過ごせる 場所 を 紹介 し ます 。 </div></span>"
            ]
          },
          "metadata": {}
        },
        {
          "output_type": "stream",
          "name": "stdout",
          "text": [
            "----------\n"
          ]
        },
        {
          "output_type": "display_data",
          "data": {
            "text/plain": [
              "<IPython.core.display.HTML object>"
            ],
            "text/html": [
              "<span class=\"tex2jax_ignore\"><div class=\"entities\" style=\"line-height: 2.5; direction: ltr\">\n",
              "<mark class=\"entity\" style=\"background: #81ecec; padding: 0.45em 0.6em; margin: 0 0.25em; line-height: 1; border-radius: 0.35em;\">\n",
              "    今日\n",
              "    <span style=\"font-size: 0.8em; font-weight: bold; line-height: 1; border-radius: 0.35em; vertical-align: middle; margin-left: 0.5rem\">DATE</span>\n",
              "</mark>\n",
              " 紹介 する 場所 は 、 「 全国 植樹 祭 会場 」 です 。 </div></span>"
            ]
          },
          "metadata": {}
        },
        {
          "output_type": "stream",
          "name": "stdout",
          "text": [
            "----------\n"
          ]
        },
        {
          "output_type": "display_data",
          "data": {
            "text/plain": [
              "<IPython.core.display.HTML object>"
            ],
            "text/html": [
              "<span class=\"tex2jax_ignore\"><div class=\"entities\" style=\"line-height: 2.5; direction: ltr\">ここ は 、 \n",
              "<mark class=\"entity\" style=\"background: #81ecec; padding: 0.45em 0.6em; margin: 0 0.25em; line-height: 1; border-radius: 0.35em;\">\n",
              "    平成 １２ 年\n",
              "    <span style=\"font-size: 0.8em; font-weight: bold; line-height: 1; border-radius: 0.35em; vertical-align: middle; margin-left: 0.5rem\">DATE</span>\n",
              "</mark>\n",
              " に 開催 さ れた 「 全国 植樹 祭 」 の 会場 跡地 です 。 </div></span>"
            ]
          },
          "metadata": {}
        },
        {
          "output_type": "stream",
          "name": "stdout",
          "text": [
            "----------\n",
            "モデルの予測：\n"
          ]
        },
        {
          "output_type": "display_data",
          "data": {
            "text/plain": [
              "<IPython.core.display.HTML object>"
            ],
            "text/html": [
              "<span class=\"tex2jax_ignore\"><div class=\"entities\" style=\"line-height: 2.5; direction: ltr\">１８７８ 年 に \n",
              "<mark class=\"entity\" style=\"background: #74b9ff; padding: 0.45em 0.6em; margin: 0 0.25em; line-height: 1; border-radius: 0.35em;\">\n",
              "    イングランド\n",
              "    <span style=\"font-size: 0.8em; font-weight: bold; line-height: 1; border-radius: 0.35em; vertical-align: middle; margin-left: 0.5rem\">LOCATION</span>\n",
              "</mark>\n",
              " の チチェスター で 生まれ 、 サンドハースト 王立 士官 学校 を 卒業 する 。 </div></span>"
            ]
          },
          "metadata": {}
        },
        {
          "output_type": "stream",
          "name": "stdout",
          "text": [
            "正解：\n"
          ]
        },
        {
          "output_type": "display_data",
          "data": {
            "text/plain": [
              "<IPython.core.display.HTML object>"
            ],
            "text/html": [
              "<span class=\"tex2jax_ignore\"><div class=\"entities\" style=\"line-height: 2.5; direction: ltr\">\n",
              "<mark class=\"entity\" style=\"background: #81ecec; padding: 0.45em 0.6em; margin: 0 0.25em; line-height: 1; border-radius: 0.35em;\">\n",
              "    １８７８ 年\n",
              "    <span style=\"font-size: 0.8em; font-weight: bold; line-height: 1; border-radius: 0.35em; vertical-align: middle; margin-left: 0.5rem\">DATE</span>\n",
              "</mark>\n",
              " に \n",
              "<mark class=\"entity\" style=\"background: #74b9ff; padding: 0.45em 0.6em; margin: 0 0.25em; line-height: 1; border-radius: 0.35em;\">\n",
              "    イングランド\n",
              "    <span style=\"font-size: 0.8em; font-weight: bold; line-height: 1; border-radius: 0.35em; vertical-align: middle; margin-left: 0.5rem\">LOCATION</span>\n",
              "</mark>\n",
              " の \n",
              "<mark class=\"entity\" style=\"background: #74b9ff; padding: 0.45em 0.6em; margin: 0 0.25em; line-height: 1; border-radius: 0.35em;\">\n",
              "    チチェスター\n",
              "    <span style=\"font-size: 0.8em; font-weight: bold; line-height: 1; border-radius: 0.35em; vertical-align: middle; margin-left: 0.5rem\">LOCATION</span>\n",
              "</mark>\n",
              " で 生まれ 、 \n",
              "<mark class=\"entity\" style=\"background: #dfe6e9; padding: 0.45em 0.6em; margin: 0 0.25em; line-height: 1; border-radius: 0.35em;\">\n",
              "    サンドハースト 王立 士官 学校\n",
              "    <span style=\"font-size: 0.8em; font-weight: bold; line-height: 1; border-radius: 0.35em; vertical-align: middle; margin-left: 0.5rem\">ORGANIZATION</span>\n",
              "</mark>\n",
              " を 卒業 する 。 </div></span>"
            ]
          },
          "metadata": {}
        },
        {
          "output_type": "stream",
          "name": "stdout",
          "text": [
            "----------\n",
            "モデルの予測：\n"
          ]
        },
        {
          "output_type": "display_data",
          "data": {
            "text/plain": [
              "<IPython.core.display.HTML object>"
            ],
            "text/html": [
              "<span class=\"tex2jax_ignore\"><div class=\"entities\" style=\"line-height: 2.5; direction: ltr\">\n",
              "<mark class=\"entity\" style=\"background: #81ecec; padding: 0.45em 0.6em; margin: 0 0.25em; line-height: 1; border-radius: 0.35em;\">\n",
              "    １８９８ 年\n",
              "    <span style=\"font-size: 0.8em; font-weight: bold; line-height: 1; border-radius: 0.35em; vertical-align: middle; margin-left: 0.5rem\">DATE</span>\n",
              "</mark>\n",
              " に 少尉 に 任官 し 、 オックスフォードシャー 軽 歩兵 第 １ 大隊 に 配属 さ れた 。 </div></span>"
            ]
          },
          "metadata": {}
        },
        {
          "output_type": "stream",
          "name": "stdout",
          "text": [
            "正解：\n"
          ]
        },
        {
          "output_type": "display_data",
          "data": {
            "text/plain": [
              "<IPython.core.display.HTML object>"
            ],
            "text/html": [
              "<span class=\"tex2jax_ignore\"><div class=\"entities\" style=\"line-height: 2.5; direction: ltr\">\n",
              "<mark class=\"entity\" style=\"background: #81ecec; padding: 0.45em 0.6em; margin: 0 0.25em; line-height: 1; border-radius: 0.35em;\">\n",
              "    １８９８ 年\n",
              "    <span style=\"font-size: 0.8em; font-weight: bold; line-height: 1; border-radius: 0.35em; vertical-align: middle; margin-left: 0.5rem\">DATE</span>\n",
              "</mark>\n",
              " に 少尉 に 任官 し 、 \n",
              "<mark class=\"entity\" style=\"background: #74b9ff; padding: 0.45em 0.6em; margin: 0 0.25em; line-height: 1; border-radius: 0.35em;\">\n",
              "    オックスフォードシャー\n",
              "    <span style=\"font-size: 0.8em; font-weight: bold; line-height: 1; border-radius: 0.35em; vertical-align: middle; margin-left: 0.5rem\">LOCATION</span>\n",
              "</mark>\n",
              " 軽 歩兵 第 １ 大隊 に 配属 さ れた 。 </div></span>"
            ]
          },
          "metadata": {}
        },
        {
          "output_type": "stream",
          "name": "stdout",
          "text": [
            "----------\n",
            "モデルの予測：\n"
          ]
        },
        {
          "output_type": "display_data",
          "data": {
            "text/plain": [
              "<IPython.core.display.HTML object>"
            ],
            "text/html": [
              "<span class=\"tex2jax_ignore\"><div class=\"entities\" style=\"line-height: 2.5; direction: ltr\">この頃 に アレイスター ・ クロウリー の 弟子 と なって いる 。 </div></span>"
            ]
          },
          "metadata": {}
        },
        {
          "output_type": "stream",
          "name": "stdout",
          "text": [
            "正解：\n"
          ]
        },
        {
          "output_type": "display_data",
          "data": {
            "text/plain": [
              "<IPython.core.display.HTML object>"
            ],
            "text/html": [
              "<span class=\"tex2jax_ignore\"><div class=\"entities\" style=\"line-height: 2.5; direction: ltr\">この頃 に \n",
              "<mark class=\"entity\" style=\"background: #fab1a0; padding: 0.45em 0.6em; margin: 0 0.25em; line-height: 1; border-radius: 0.35em;\">\n",
              "    アレイスター ・ クロウリー\n",
              "    <span style=\"font-size: 0.8em; font-weight: bold; line-height: 1; border-radius: 0.35em; vertical-align: middle; margin-left: 0.5rem\">PERSON</span>\n",
              "</mark>\n",
              " の 弟子 と なって いる 。 </div></span>"
            ]
          },
          "metadata": {}
        },
        {
          "output_type": "stream",
          "name": "stdout",
          "text": [
            "----------\n",
            "モデルの予測：\n"
          ]
        },
        {
          "output_type": "display_data",
          "data": {
            "text/plain": [
              "<IPython.core.display.HTML object>"
            ],
            "text/html": [
              "<span class=\"tex2jax_ignore\"><div class=\"entities\" style=\"line-height: 2.5; direction: ltr\">一気に 終わら せる 基礎 英 単語 を 編集 して おり ます 。 </div></span>"
            ]
          },
          "metadata": {}
        },
        {
          "output_type": "stream",
          "name": "stdout",
          "text": [
            "正解：\n"
          ]
        },
        {
          "output_type": "display_data",
          "data": {
            "text/plain": [
              "<IPython.core.display.HTML object>"
            ],
            "text/html": [
              "<span class=\"tex2jax_ignore\"><div class=\"entities\" style=\"line-height: 2.5; direction: ltr\">\n",
              "<mark class=\"entity\" style=\"background: #55efc4; padding: 0.45em 0.6em; margin: 0 0.25em; line-height: 1; border-radius: 0.35em;\">\n",
              "    一気に 終わら せる 基礎 英 単語\n",
              "    <span style=\"font-size: 0.8em; font-weight: bold; line-height: 1; border-radius: 0.35em; vertical-align: middle; margin-left: 0.5rem\">ARTIFACT</span>\n",
              "</mark>\n",
              " を 編集 して おり ます 。 </div></span>"
            ]
          },
          "metadata": {}
        },
        {
          "output_type": "stream",
          "name": "stdout",
          "text": [
            "----------\n",
            "モデルの予測：\n"
          ]
        },
        {
          "output_type": "display_data",
          "data": {
            "text/plain": [
              "<IPython.core.display.HTML object>"
            ],
            "text/html": [
              "<span class=\"tex2jax_ignore\"><div class=\"entities\" style=\"line-height: 2.5; direction: ltr\">下級 武士 の 出身 であり ながら 、 薩摩 藩 を 率いる 軍賦 役 を 務める 。 </div></span>"
            ]
          },
          "metadata": {}
        },
        {
          "output_type": "stream",
          "name": "stdout",
          "text": [
            "正解：\n"
          ]
        },
        {
          "output_type": "display_data",
          "data": {
            "text/plain": [
              "<IPython.core.display.HTML object>"
            ],
            "text/html": [
              "<span class=\"tex2jax_ignore\"><div class=\"entities\" style=\"line-height: 2.5; direction: ltr\">下級 武士 の 出身 であり ながら 、 \n",
              "<mark class=\"entity\" style=\"background: #dfe6e9; padding: 0.45em 0.6em; margin: 0 0.25em; line-height: 1; border-radius: 0.35em;\">\n",
              "    薩摩 藩\n",
              "    <span style=\"font-size: 0.8em; font-weight: bold; line-height: 1; border-radius: 0.35em; vertical-align: middle; margin-left: 0.5rem\">ORGANIZATION</span>\n",
              "</mark>\n",
              " を 率いる 軍賦 役 を 務める 。 </div></span>"
            ]
          },
          "metadata": {}
        },
        {
          "output_type": "stream",
          "name": "stdout",
          "text": [
            "----------\n",
            "モデルの予測：\n"
          ]
        },
        {
          "output_type": "display_data",
          "data": {
            "text/plain": [
              "<IPython.core.display.HTML object>"
            ],
            "text/html": [
              "<span class=\"tex2jax_ignore\"><div class=\"entities\" style=\"line-height: 2.5; direction: ltr\">\n",
              "<mark class=\"entity\" style=\"background: #74b9ff; padding: 0.45em 0.6em; margin: 0 0.25em; line-height: 1; border-radius: 0.35em;\">\n",
              "    神戸\n",
              "    <span style=\"font-size: 0.8em; font-weight: bold; line-height: 1; border-radius: 0.35em; vertical-align: middle; margin-left: 0.5rem\">LOCATION</span>\n",
              "</mark>\n",
              " 海軍 \n",
              "<mark class=\"entity\" style=\"background: #dfe6e9; padding: 0.45em 0.6em; margin: 0 0.25em; line-height: 1; border-radius: 0.35em;\">\n",
              "    操練 所\n",
              "    <span style=\"font-size: 0.8em; font-weight: bold; line-height: 1; border-radius: 0.35em; vertical-align: middle; margin-left: 0.5rem\">ORGANIZATION</span>\n",
              "</mark>\n",
              " が 閉鎖 さ れて 行き場 を 失った \n",
              "<mark class=\"entity\" style=\"background: #fab1a0; padding: 0.45em 0.6em; margin: 0 0.25em; line-height: 1; border-radius: 0.35em;\">\n",
              "    龍馬\n",
              "    <span style=\"font-size: 0.8em; font-weight: bold; line-height: 1; border-radius: 0.35em; vertical-align: middle; margin-left: 0.5rem\">PERSON</span>\n",
              "</mark>\n",
              " たち を かばう 。 </div></span>"
            ]
          },
          "metadata": {}
        },
        {
          "output_type": "stream",
          "name": "stdout",
          "text": [
            "正解：\n"
          ]
        },
        {
          "output_type": "display_data",
          "data": {
            "text/plain": [
              "<IPython.core.display.HTML object>"
            ],
            "text/html": [
              "<span class=\"tex2jax_ignore\"><div class=\"entities\" style=\"line-height: 2.5; direction: ltr\">\n",
              "<mark class=\"entity\" style=\"background: #dfe6e9; padding: 0.45em 0.6em; margin: 0 0.25em; line-height: 1; border-radius: 0.35em;\">\n",
              "    神戸 海軍 操練 所\n",
              "    <span style=\"font-size: 0.8em; font-weight: bold; line-height: 1; border-radius: 0.35em; vertical-align: middle; margin-left: 0.5rem\">ORGANIZATION</span>\n",
              "</mark>\n",
              " が 閉鎖 さ れて 行き場 を 失った \n",
              "<mark class=\"entity\" style=\"background: #fab1a0; padding: 0.45em 0.6em; margin: 0 0.25em; line-height: 1; border-radius: 0.35em;\">\n",
              "    龍馬\n",
              "    <span style=\"font-size: 0.8em; font-weight: bold; line-height: 1; border-radius: 0.35em; vertical-align: middle; margin-left: 0.5rem\">PERSON</span>\n",
              "</mark>\n",
              " たち を かばう 。 </div></span>"
            ]
          },
          "metadata": {}
        },
        {
          "output_type": "stream",
          "name": "stdout",
          "text": [
            "----------\n",
            "モデルの予測：\n"
          ]
        },
        {
          "output_type": "display_data",
          "data": {
            "text/plain": [
              "<IPython.core.display.HTML object>"
            ],
            "text/html": [
              "<span class=\"tex2jax_ignore\"><div class=\"entities\" style=\"line-height: 2.5; direction: ltr\">\n",
              "<mark class=\"entity\" style=\"background: #fab1a0; padding: 0.45em 0.6em; margin: 0 0.25em; line-height: 1; border-radius: 0.35em;\">\n",
              "    龍馬\n",
              "    <span style=\"font-size: 0.8em; font-weight: bold; line-height: 1; border-radius: 0.35em; vertical-align: middle; margin-left: 0.5rem\">PERSON</span>\n",
              "</mark>\n",
              " の 仲立ち に よって 敵対 して いた \n",
              "<mark class=\"entity\" style=\"background: #55efc4; padding: 0.45em 0.6em; margin: 0 0.25em; line-height: 1; border-radius: 0.35em;\">\n",
              "    長州 藩\n",
              "    <span style=\"font-size: 0.8em; font-weight: bold; line-height: 1; border-radius: 0.35em; vertical-align: middle; margin-left: 0.5rem\">ARTIFACT</span>\n",
              "</mark>\n",
              " と 手 を 結び 、 幕府 を 追い 詰めて いく 。 </div></span>"
            ]
          },
          "metadata": {}
        },
        {
          "output_type": "stream",
          "name": "stdout",
          "text": [
            "正解：\n"
          ]
        },
        {
          "output_type": "display_data",
          "data": {
            "text/plain": [
              "<IPython.core.display.HTML object>"
            ],
            "text/html": [
              "<span class=\"tex2jax_ignore\"><div class=\"entities\" style=\"line-height: 2.5; direction: ltr\">\n",
              "<mark class=\"entity\" style=\"background: #fab1a0; padding: 0.45em 0.6em; margin: 0 0.25em; line-height: 1; border-radius: 0.35em;\">\n",
              "    龍馬\n",
              "    <span style=\"font-size: 0.8em; font-weight: bold; line-height: 1; border-radius: 0.35em; vertical-align: middle; margin-left: 0.5rem\">PERSON</span>\n",
              "</mark>\n",
              " の 仲立ち に よって 敵対 して いた \n",
              "<mark class=\"entity\" style=\"background: #dfe6e9; padding: 0.45em 0.6em; margin: 0 0.25em; line-height: 1; border-radius: 0.35em;\">\n",
              "    長州 藩\n",
              "    <span style=\"font-size: 0.8em; font-weight: bold; line-height: 1; border-radius: 0.35em; vertical-align: middle; margin-left: 0.5rem\">ORGANIZATION</span>\n",
              "</mark>\n",
              " と 手 を 結び 、 幕府 を 追い 詰めて いく 。 </div></span>"
            ]
          },
          "metadata": {}
        },
        {
          "output_type": "stream",
          "name": "stdout",
          "text": [
            "----------\n",
            "モデルの予測：\n"
          ]
        },
        {
          "output_type": "display_data",
          "data": {
            "text/plain": [
              "<IPython.core.display.HTML object>"
            ],
            "text/html": [
              "<span class=\"tex2jax_ignore\"><div class=\"entities\" style=\"line-height: 2.5; direction: ltr\">巨大な イグルー が 出来る まで の 様子 や 、 然別 湖 の 大きな 自然 の 様子 を ご覧 頂け ます 。 </div></span>"
            ]
          },
          "metadata": {}
        },
        {
          "output_type": "stream",
          "name": "stdout",
          "text": [
            "正解：\n"
          ]
        },
        {
          "output_type": "display_data",
          "data": {
            "text/plain": [
              "<IPython.core.display.HTML object>"
            ],
            "text/html": [
              "<span class=\"tex2jax_ignore\"><div class=\"entities\" style=\"line-height: 2.5; direction: ltr\">巨大な イグルー が 出来る まで の 様子 や 、 \n",
              "<mark class=\"entity\" style=\"background: #74b9ff; padding: 0.45em 0.6em; margin: 0 0.25em; line-height: 1; border-radius: 0.35em;\">\n",
              "    然別 湖\n",
              "    <span style=\"font-size: 0.8em; font-weight: bold; line-height: 1; border-radius: 0.35em; vertical-align: middle; margin-left: 0.5rem\">LOCATION</span>\n",
              "</mark>\n",
              " の 大きな 自然 の 様子 を ご覧 頂け ます 。 </div></span>"
            ]
          },
          "metadata": {}
        },
        {
          "output_type": "stream",
          "name": "stdout",
          "text": [
            "----------\n",
            "モデルの予測：\n"
          ]
        },
        {
          "output_type": "display_data",
          "data": {
            "text/plain": [
              "<IPython.core.display.HTML object>"
            ],
            "text/html": [
              "<span class=\"tex2jax_ignore\"><div class=\"entities\" style=\"line-height: 2.5; direction: ltr\">\n",
              "<mark class=\"entity\" style=\"background: #74b9ff; padding: 0.45em 0.6em; margin: 0 0.25em; line-height: 1; border-radius: 0.35em;\">\n",
              "    韓国\n",
              "    <span style=\"font-size: 0.8em; font-weight: bold; line-height: 1; border-radius: 0.35em; vertical-align: middle; margin-left: 0.5rem\">LOCATION</span>\n",
              "</mark>\n",
              " 海苔 は 、 \n",
              "<mark class=\"entity\" style=\"background: #74b9ff; padding: 0.45em 0.6em; margin: 0 0.25em; line-height: 1; border-radius: 0.35em;\">\n",
              "    韓国\n",
              "    <span style=\"font-size: 0.8em; font-weight: bold; line-height: 1; border-radius: 0.35em; vertical-align: middle; margin-left: 0.5rem\">LOCATION</span>\n",
              "</mark>\n",
              " で 生産 さ れる 海苔 の 一 つ である 。 </div></span>"
            ]
          },
          "metadata": {}
        },
        {
          "output_type": "stream",
          "name": "stdout",
          "text": [
            "正解：\n"
          ]
        },
        {
          "output_type": "display_data",
          "data": {
            "text/plain": [
              "<IPython.core.display.HTML object>"
            ],
            "text/html": [
              "<span class=\"tex2jax_ignore\"><div class=\"entities\" style=\"line-height: 2.5; direction: ltr\">韓国 海苔 は 、 \n",
              "<mark class=\"entity\" style=\"background: #74b9ff; padding: 0.45em 0.6em; margin: 0 0.25em; line-height: 1; border-radius: 0.35em;\">\n",
              "    韓国\n",
              "    <span style=\"font-size: 0.8em; font-weight: bold; line-height: 1; border-radius: 0.35em; vertical-align: middle; margin-left: 0.5rem\">LOCATION</span>\n",
              "</mark>\n",
              " で 生産 さ れる 海苔 の 一 つ である 。 </div></span>"
            ]
          },
          "metadata": {}
        },
        {
          "output_type": "stream",
          "name": "stdout",
          "text": [
            "----------\n",
            "モデルの予測：\n"
          ]
        },
        {
          "output_type": "display_data",
          "data": {
            "text/plain": [
              "<IPython.core.display.HTML object>"
            ],
            "text/html": [
              "<span class=\"tex2jax_ignore\"><div class=\"entities\" style=\"line-height: 2.5; direction: ltr\">かつて は 味付け さ れて い ない 海苔 も \n",
              "<mark class=\"entity\" style=\"background: #74b9ff; padding: 0.45em 0.6em; margin: 0 0.25em; line-height: 1; border-radius: 0.35em;\">\n",
              "    日本\n",
              "    <span style=\"font-size: 0.8em; font-weight: bold; line-height: 1; border-radius: 0.35em; vertical-align: middle; margin-left: 0.5rem\">LOCATION</span>\n",
              "</mark>\n",
              " に 多く 輸入 さ れて おり 、 それ ら すべて を 「 \n",
              "<mark class=\"entity\" style=\"background: #74b9ff; padding: 0.45em 0.6em; margin: 0 0.25em; line-height: 1; border-radius: 0.35em;\">\n",
              "    韓国\n",
              "    <span style=\"font-size: 0.8em; font-weight: bold; line-height: 1; border-radius: 0.35em; vertical-align: middle; margin-left: 0.5rem\">LOCATION</span>\n",
              "</mark>\n",
              " 海苔 」 と 総称 して いた 。 </div></span>"
            ]
          },
          "metadata": {}
        },
        {
          "output_type": "stream",
          "name": "stdout",
          "text": [
            "正解：\n"
          ]
        },
        {
          "output_type": "display_data",
          "data": {
            "text/plain": [
              "<IPython.core.display.HTML object>"
            ],
            "text/html": [
              "<span class=\"tex2jax_ignore\"><div class=\"entities\" style=\"line-height: 2.5; direction: ltr\">かつて は 味付け さ れて い ない 海苔 も \n",
              "<mark class=\"entity\" style=\"background: #74b9ff; padding: 0.45em 0.6em; margin: 0 0.25em; line-height: 1; border-radius: 0.35em;\">\n",
              "    日本\n",
              "    <span style=\"font-size: 0.8em; font-weight: bold; line-height: 1; border-radius: 0.35em; vertical-align: middle; margin-left: 0.5rem\">LOCATION</span>\n",
              "</mark>\n",
              " に 多く 輸入 さ れて おり 、 それ ら すべて を 「 韓国 海苔 」 と 総称 して いた 。 </div></span>"
            ]
          },
          "metadata": {}
        },
        {
          "output_type": "stream",
          "name": "stdout",
          "text": [
            "----------\n",
            "モデルの予測：\n"
          ]
        },
        {
          "output_type": "display_data",
          "data": {
            "text/plain": [
              "<IPython.core.display.HTML object>"
            ],
            "text/html": [
              "<span class=\"tex2jax_ignore\"><div class=\"entities\" style=\"line-height: 2.5; direction: ltr\">オメガ スピード マスター ウオッチ 、 オメガ シー マスター など を 通販 で お 安く 購入 出来る 通販 サイト の 、 御 案内 を して い ます 。 </div></span>"
            ]
          },
          "metadata": {}
        },
        {
          "output_type": "stream",
          "name": "stdout",
          "text": [
            "正解：\n"
          ]
        },
        {
          "output_type": "display_data",
          "data": {
            "text/plain": [
              "<IPython.core.display.HTML object>"
            ],
            "text/html": [
              "<span class=\"tex2jax_ignore\"><div class=\"entities\" style=\"line-height: 2.5; direction: ltr\">\n",
              "<mark class=\"entity\" style=\"background: #55efc4; padding: 0.45em 0.6em; margin: 0 0.25em; line-height: 1; border-radius: 0.35em;\">\n",
              "    オメガ スピード マスター ウオッチ\n",
              "    <span style=\"font-size: 0.8em; font-weight: bold; line-height: 1; border-radius: 0.35em; vertical-align: middle; margin-left: 0.5rem\">ARTIFACT</span>\n",
              "</mark>\n",
              " 、 \n",
              "<mark class=\"entity\" style=\"background: #55efc4; padding: 0.45em 0.6em; margin: 0 0.25em; line-height: 1; border-radius: 0.35em;\">\n",
              "    オメガ シー マスター\n",
              "    <span style=\"font-size: 0.8em; font-weight: bold; line-height: 1; border-radius: 0.35em; vertical-align: middle; margin-left: 0.5rem\">ARTIFACT</span>\n",
              "</mark>\n",
              " など を 通販 で お 安く 購入 出来る 通販 サイト の 、 御 案内 を して い ます 。 </div></span>"
            ]
          },
          "metadata": {}
        },
        {
          "output_type": "stream",
          "name": "stdout",
          "text": [
            "----------\n",
            "モデルの予測：\n"
          ]
        },
        {
          "output_type": "display_data",
          "data": {
            "text/plain": [
              "<IPython.core.display.HTML object>"
            ],
            "text/html": [
              "<span class=\"tex2jax_ignore\"><div class=\"entities\" style=\"line-height: 2.5; direction: ltr\">オメガ ブランド の 腕 時計 は 、 やはり 専門 店 で 信頼 出来る 物 を 購入 する こと が まず 第 一 です 。 </div></span>"
            ]
          },
          "metadata": {}
        },
        {
          "output_type": "stream",
          "name": "stdout",
          "text": [
            "正解：\n"
          ]
        },
        {
          "output_type": "display_data",
          "data": {
            "text/plain": [
              "<IPython.core.display.HTML object>"
            ],
            "text/html": [
              "<span class=\"tex2jax_ignore\"><div class=\"entities\" style=\"line-height: 2.5; direction: ltr\">\n",
              "<mark class=\"entity\" style=\"background: #dfe6e9; padding: 0.45em 0.6em; margin: 0 0.25em; line-height: 1; border-radius: 0.35em;\">\n",
              "    オメガ\n",
              "    <span style=\"font-size: 0.8em; font-weight: bold; line-height: 1; border-radius: 0.35em; vertical-align: middle; margin-left: 0.5rem\">ORGANIZATION</span>\n",
              "</mark>\n",
              " ブランド の 腕 時計 は 、 やはり 専門 店 で 信頼 出来る 物 を 購入 する こと が まず 第 一 です 。 </div></span>"
            ]
          },
          "metadata": {}
        },
        {
          "output_type": "stream",
          "name": "stdout",
          "text": [
            "----------\n",
            "モデルの予測：\n"
          ]
        },
        {
          "output_type": "display_data",
          "data": {
            "text/plain": [
              "<IPython.core.display.HTML object>"
            ],
            "text/html": [
              "<span class=\"tex2jax_ignore\"><div class=\"entities\" style=\"line-height: 2.5; direction: ltr\">今週 秘技 コード 速報 を お 届け する 『 \n",
              "<mark class=\"entity\" style=\"background: #55efc4; padding: 0.45em 0.6em; margin: 0 0.25em; line-height: 1; border-radius: 0.35em;\">\n",
              "    ラジアント ヒストリア\n",
              "    <span style=\"font-size: 0.8em; font-weight: bold; line-height: 1; border-radius: 0.35em; vertical-align: middle; margin-left: 0.5rem\">ARTIFACT</span>\n",
              "</mark>\n",
              " 』 の 主人公 ストック は 、 「 白 示 録 」 と いう 時空 移動 能力 を 手 に 入れる こと に なり ます 。 </div></span>"
            ]
          },
          "metadata": {}
        },
        {
          "output_type": "stream",
          "name": "stdout",
          "text": [
            "正解：\n"
          ]
        },
        {
          "output_type": "display_data",
          "data": {
            "text/plain": [
              "<IPython.core.display.HTML object>"
            ],
            "text/html": [
              "<span class=\"tex2jax_ignore\"><div class=\"entities\" style=\"line-height: 2.5; direction: ltr\">\n",
              "<mark class=\"entity\" style=\"background: #81ecec; padding: 0.45em 0.6em; margin: 0 0.25em; line-height: 1; border-radius: 0.35em;\">\n",
              "    今週\n",
              "    <span style=\"font-size: 0.8em; font-weight: bold; line-height: 1; border-radius: 0.35em; vertical-align: middle; margin-left: 0.5rem\">DATE</span>\n",
              "</mark>\n",
              " 秘技 コード 速報 を お 届け する 『 \n",
              "<mark class=\"entity\" style=\"background: #55efc4; padding: 0.45em 0.6em; margin: 0 0.25em; line-height: 1; border-radius: 0.35em;\">\n",
              "    ラジアント ヒストリア\n",
              "    <span style=\"font-size: 0.8em; font-weight: bold; line-height: 1; border-radius: 0.35em; vertical-align: middle; margin-left: 0.5rem\">ARTIFACT</span>\n",
              "</mark>\n",
              " 』 の 主人公 \n",
              "<mark class=\"entity\" style=\"background: #fab1a0; padding: 0.45em 0.6em; margin: 0 0.25em; line-height: 1; border-radius: 0.35em;\">\n",
              "    ストック\n",
              "    <span style=\"font-size: 0.8em; font-weight: bold; line-height: 1; border-radius: 0.35em; vertical-align: middle; margin-left: 0.5rem\">PERSON</span>\n",
              "</mark>\n",
              " は 、 「 白 示 録 」 と いう 時空 移動 能力 を 手 に 入れる こと に なり ます 。 </div></span>"
            ]
          },
          "metadata": {}
        },
        {
          "output_type": "stream",
          "name": "stdout",
          "text": [
            "----------\n",
            "モデルの予測：\n"
          ]
        },
        {
          "output_type": "display_data",
          "data": {
            "text/plain": [
              "<IPython.core.display.HTML object>"
            ],
            "text/html": [
              "<span class=\"tex2jax_ignore\"><div class=\"entities\" style=\"line-height: 2.5; direction: ltr\">旧 八郷 町 は 、 モノ 作り の 盛んな 町 で も あり ます 。 </div></span>"
            ]
          },
          "metadata": {}
        },
        {
          "output_type": "stream",
          "name": "stdout",
          "text": [
            "正解：\n"
          ]
        },
        {
          "output_type": "display_data",
          "data": {
            "text/plain": [
              "<IPython.core.display.HTML object>"
            ],
            "text/html": [
              "<span class=\"tex2jax_ignore\"><div class=\"entities\" style=\"line-height: 2.5; direction: ltr\">旧 \n",
              "<mark class=\"entity\" style=\"background: #74b9ff; padding: 0.45em 0.6em; margin: 0 0.25em; line-height: 1; border-radius: 0.35em;\">\n",
              "    八郷 町\n",
              "    <span style=\"font-size: 0.8em; font-weight: bold; line-height: 1; border-radius: 0.35em; vertical-align: middle; margin-left: 0.5rem\">LOCATION</span>\n",
              "</mark>\n",
              " は 、 モノ 作り の 盛んな 町 で も あり ます 。 </div></span>"
            ]
          },
          "metadata": {}
        },
        {
          "output_type": "stream",
          "name": "stdout",
          "text": [
            "----------\n"
          ]
        },
        {
          "output_type": "display_data",
          "data": {
            "text/plain": [
              "<IPython.core.display.HTML object>"
            ],
            "text/html": [
              "<span class=\"tex2jax_ignore\"><div class=\"entities\" style=\"line-height: 2.5; direction: ltr\">世界 の 中 で の \n",
              "<mark class=\"entity\" style=\"background: #74b9ff; padding: 0.45em 0.6em; margin: 0 0.25em; line-height: 1; border-radius: 0.35em;\">\n",
              "    日本\n",
              "    <span style=\"font-size: 0.8em; font-weight: bold; line-height: 1; border-radius: 0.35em; vertical-align: middle; margin-left: 0.5rem\">LOCATION</span>\n",
              "</mark>\n",
              " の 存在 感 は この ２０ 年 で 著しく 低下 して しまった 。 </div></span>"
            ]
          },
          "metadata": {}
        },
        {
          "output_type": "stream",
          "name": "stdout",
          "text": [
            "----------\n"
          ]
        },
        {
          "output_type": "display_data",
          "data": {
            "text/plain": [
              "<IPython.core.display.HTML object>"
            ],
            "text/html": [
              "<span class=\"tex2jax_ignore\"><div class=\"entities\" style=\"line-height: 2.5; direction: ltr\">\n",
              "<mark class=\"entity\" style=\"background: #74b9ff; padding: 0.45em 0.6em; margin: 0 0.25em; line-height: 1; border-radius: 0.35em;\">\n",
              "    中国\n",
              "    <span style=\"font-size: 0.8em; font-weight: bold; line-height: 1; border-radius: 0.35em; vertical-align: middle; margin-left: 0.5rem\">LOCATION</span>\n",
              "</mark>\n",
              " を はじめ と した 新興 国 が 台頭 して いる せい も ある が 、 それ だけ で は ない 。 </div></span>"
            ]
          },
          "metadata": {}
        },
        {
          "output_type": "stream",
          "name": "stdout",
          "text": [
            "----------\n",
            "モデルの予測：\n"
          ]
        },
        {
          "output_type": "display_data",
          "data": {
            "text/plain": [
              "<IPython.core.display.HTML object>"
            ],
            "text/html": [
              "<span class=\"tex2jax_ignore\"><div class=\"entities\" style=\"line-height: 2.5; direction: ltr\">世界 に 積極 的に かかわろう と し ない 内 向き な 姿勢 が ニッポン の 影 を 薄く して いる 。 </div></span>"
            ]
          },
          "metadata": {}
        },
        {
          "output_type": "stream",
          "name": "stdout",
          "text": [
            "正解：\n"
          ]
        },
        {
          "output_type": "display_data",
          "data": {
            "text/plain": [
              "<IPython.core.display.HTML object>"
            ],
            "text/html": [
              "<span class=\"tex2jax_ignore\"><div class=\"entities\" style=\"line-height: 2.5; direction: ltr\">世界 に 積極 的に かかわろう と し ない 内 向き な 姿勢 が \n",
              "<mark class=\"entity\" style=\"background: #74b9ff; padding: 0.45em 0.6em; margin: 0 0.25em; line-height: 1; border-radius: 0.35em;\">\n",
              "    ニッポン\n",
              "    <span style=\"font-size: 0.8em; font-weight: bold; line-height: 1; border-radius: 0.35em; vertical-align: middle; margin-left: 0.5rem\">LOCATION</span>\n",
              "</mark>\n",
              " の 影 を 薄く して いる 。 </div></span>"
            ]
          },
          "metadata": {}
        },
        {
          "output_type": "stream",
          "name": "stdout",
          "text": [
            "----------\n",
            "モデルの予測：\n"
          ]
        },
        {
          "output_type": "display_data",
          "data": {
            "text/plain": [
              "<IPython.core.display.HTML object>"
            ],
            "text/html": [
              "<span class=\"tex2jax_ignore\"><div class=\"entities\" style=\"line-height: 2.5; direction: ltr\">寺之内 通 は 、 \n",
              "<mark class=\"entity\" style=\"background: #fab1a0; padding: 0.45em 0.6em; margin: 0 0.25em; line-height: 1; border-radius: 0.35em;\">\n",
              "    豊臣 秀吉\n",
              "    <span style=\"font-size: 0.8em; font-weight: bold; line-height: 1; border-radius: 0.35em; vertical-align: middle; margin-left: 0.5rem\">PERSON</span>\n",
              "</mark>\n",
              " の \n",
              "<mark class=\"entity\" style=\"background: #74b9ff; padding: 0.45em 0.6em; margin: 0 0.25em; line-height: 1; border-radius: 0.35em;\">\n",
              "    京都 大\n",
              "    <span style=\"font-size: 0.8em; font-weight: bold; line-height: 1; border-radius: 0.35em; vertical-align: middle; margin-left: 0.5rem\">LOCATION</span>\n",
              "</mark>\n",
              " 改造 後 開か れた 通り で 寺 が 多い 。 </div></span>"
            ]
          },
          "metadata": {}
        },
        {
          "output_type": "stream",
          "name": "stdout",
          "text": [
            "正解：\n"
          ]
        },
        {
          "output_type": "display_data",
          "data": {
            "text/plain": [
              "<IPython.core.display.HTML object>"
            ],
            "text/html": [
              "<span class=\"tex2jax_ignore\"><div class=\"entities\" style=\"line-height: 2.5; direction: ltr\">\n",
              "<mark class=\"entity\" style=\"background: #74b9ff; padding: 0.45em 0.6em; margin: 0 0.25em; line-height: 1; border-radius: 0.35em;\">\n",
              "    寺之内 通\n",
              "    <span style=\"font-size: 0.8em; font-weight: bold; line-height: 1; border-radius: 0.35em; vertical-align: middle; margin-left: 0.5rem\">LOCATION</span>\n",
              "</mark>\n",
              " は 、 \n",
              "<mark class=\"entity\" style=\"background: #fab1a0; padding: 0.45em 0.6em; margin: 0 0.25em; line-height: 1; border-radius: 0.35em;\">\n",
              "    豊臣 秀吉\n",
              "    <span style=\"font-size: 0.8em; font-weight: bold; line-height: 1; border-radius: 0.35em; vertical-align: middle; margin-left: 0.5rem\">PERSON</span>\n",
              "</mark>\n",
              " の \n",
              "<mark class=\"entity\" style=\"background: #74b9ff; padding: 0.45em 0.6em; margin: 0 0.25em; line-height: 1; border-radius: 0.35em;\">\n",
              "    京都\n",
              "    <span style=\"font-size: 0.8em; font-weight: bold; line-height: 1; border-radius: 0.35em; vertical-align: middle; margin-left: 0.5rem\">LOCATION</span>\n",
              "</mark>\n",
              " 大 改造 後 開か れた 通り で 寺 が 多い 。 </div></span>"
            ]
          },
          "metadata": {}
        },
        {
          "output_type": "stream",
          "name": "stdout",
          "text": [
            "----------\n",
            "モデルの予測：\n"
          ]
        },
        {
          "output_type": "display_data",
          "data": {
            "text/plain": [
              "<IPython.core.display.HTML object>"
            ],
            "text/html": [
              "<span class=\"tex2jax_ignore\"><div class=\"entities\" style=\"line-height: 2.5; direction: ltr\">北野 天満宮 の 東 側 を 通る 御前 通 から 寺之内 通 に 入る 。 </div></span>"
            ]
          },
          "metadata": {}
        },
        {
          "output_type": "stream",
          "name": "stdout",
          "text": [
            "正解：\n"
          ]
        },
        {
          "output_type": "display_data",
          "data": {
            "text/plain": [
              "<IPython.core.display.HTML object>"
            ],
            "text/html": [
              "<span class=\"tex2jax_ignore\"><div class=\"entities\" style=\"line-height: 2.5; direction: ltr\">\n",
              "<mark class=\"entity\" style=\"background: #74b9ff; padding: 0.45em 0.6em; margin: 0 0.25em; line-height: 1; border-radius: 0.35em;\">\n",
              "    北野 天満宮\n",
              "    <span style=\"font-size: 0.8em; font-weight: bold; line-height: 1; border-radius: 0.35em; vertical-align: middle; margin-left: 0.5rem\">LOCATION</span>\n",
              "</mark>\n",
              " の 東 側 を 通る \n",
              "<mark class=\"entity\" style=\"background: #74b9ff; padding: 0.45em 0.6em; margin: 0 0.25em; line-height: 1; border-radius: 0.35em;\">\n",
              "    御前 通\n",
              "    <span style=\"font-size: 0.8em; font-weight: bold; line-height: 1; border-radius: 0.35em; vertical-align: middle; margin-left: 0.5rem\">LOCATION</span>\n",
              "</mark>\n",
              " から \n",
              "<mark class=\"entity\" style=\"background: #74b9ff; padding: 0.45em 0.6em; margin: 0 0.25em; line-height: 1; border-radius: 0.35em;\">\n",
              "    寺之内 通\n",
              "    <span style=\"font-size: 0.8em; font-weight: bold; line-height: 1; border-radius: 0.35em; vertical-align: middle; margin-left: 0.5rem\">LOCATION</span>\n",
              "</mark>\n",
              " に 入る 。 </div></span>"
            ]
          },
          "metadata": {}
        },
        {
          "output_type": "stream",
          "name": "stdout",
          "text": [
            "----------\n",
            "モデルの予測：\n"
          ]
        },
        {
          "output_type": "display_data",
          "data": {
            "text/plain": [
              "<IPython.core.display.HTML object>"
            ],
            "text/html": [
              "<span class=\"tex2jax_ignore\"><div class=\"entities\" style=\"line-height: 2.5; direction: ltr\">\n",
              "<mark class=\"entity\" style=\"background: #dfe6e9; padding: 0.45em 0.6em; margin: 0 0.25em; line-height: 1; border-radius: 0.35em;\">\n",
              "    コスモ\n",
              "    <span style=\"font-size: 0.8em; font-weight: bold; line-height: 1; border-radius: 0.35em; vertical-align: middle; margin-left: 0.5rem\">ORGANIZATION</span>\n",
              "</mark>\n",
              " ウォーター は 、 サーバー の レンタル と 水 の 販売 を おこなって い ます 。 </div></span>"
            ]
          },
          "metadata": {}
        },
        {
          "output_type": "stream",
          "name": "stdout",
          "text": [
            "正解：\n"
          ]
        },
        {
          "output_type": "display_data",
          "data": {
            "text/plain": [
              "<IPython.core.display.HTML object>"
            ],
            "text/html": [
              "<span class=\"tex2jax_ignore\"><div class=\"entities\" style=\"line-height: 2.5; direction: ltr\">\n",
              "<mark class=\"entity\" style=\"background: #dfe6e9; padding: 0.45em 0.6em; margin: 0 0.25em; line-height: 1; border-radius: 0.35em;\">\n",
              "    コスモ ウォーター\n",
              "    <span style=\"font-size: 0.8em; font-weight: bold; line-height: 1; border-radius: 0.35em; vertical-align: middle; margin-left: 0.5rem\">ORGANIZATION</span>\n",
              "</mark>\n",
              " は 、 サーバー の レンタル と 水 の 販売 を おこなって い ます 。 </div></span>"
            ]
          },
          "metadata": {}
        },
        {
          "output_type": "stream",
          "name": "stdout",
          "text": [
            "----------\n",
            "モデルの予測：\n"
          ]
        },
        {
          "output_type": "display_data",
          "data": {
            "text/plain": [
              "<IPython.core.display.HTML object>"
            ],
            "text/html": [
              "<span class=\"tex2jax_ignore\"><div class=\"entities\" style=\"line-height: 2.5; direction: ltr\">\n",
              "<mark class=\"entity\" style=\"background: #dfe6e9; padding: 0.45em 0.6em; margin: 0 0.25em; line-height: 1; border-radius: 0.35em;\">\n",
              "    コスモ\n",
              "    <span style=\"font-size: 0.8em; font-weight: bold; line-height: 1; border-radius: 0.35em; vertical-align: middle; margin-left: 0.5rem\">ORGANIZATION</span>\n",
              "</mark>\n",
              " ウォーター の 特徴 は 、 ４ 種類 の 天然 水 を 選べる ように なって いる こと です ね 。 </div></span>"
            ]
          },
          "metadata": {}
        },
        {
          "output_type": "stream",
          "name": "stdout",
          "text": [
            "正解：\n"
          ]
        },
        {
          "output_type": "display_data",
          "data": {
            "text/plain": [
              "<IPython.core.display.HTML object>"
            ],
            "text/html": [
              "<span class=\"tex2jax_ignore\"><div class=\"entities\" style=\"line-height: 2.5; direction: ltr\">\n",
              "<mark class=\"entity\" style=\"background: #55efc4; padding: 0.45em 0.6em; margin: 0 0.25em; line-height: 1; border-radius: 0.35em;\">\n",
              "    コスモ ウォーター\n",
              "    <span style=\"font-size: 0.8em; font-weight: bold; line-height: 1; border-radius: 0.35em; vertical-align: middle; margin-left: 0.5rem\">ARTIFACT</span>\n",
              "</mark>\n",
              " の 特徴 は 、 ４ 種類 の 天然 水 を 選べる ように なって いる こと です ね 。 </div></span>"
            ]
          },
          "metadata": {}
        },
        {
          "output_type": "stream",
          "name": "stdout",
          "text": [
            "----------\n",
            "モデルの予測：\n"
          ]
        },
        {
          "output_type": "display_data",
          "data": {
            "text/plain": [
              "<IPython.core.display.HTML object>"
            ],
            "text/html": [
              "<span class=\"tex2jax_ignore\"><div class=\"entities\" style=\"line-height: 2.5; direction: ltr\">\n",
              "<mark class=\"entity\" style=\"background: #55efc4; padding: 0.45em 0.6em; margin: 0 0.25em; line-height: 1; border-radius: 0.35em;\">\n",
              "    メール 便\n",
              "    <span style=\"font-size: 0.8em; font-weight: bold; line-height: 1; border-radius: 0.35em; vertical-align: middle; margin-left: 0.5rem\">ARTIFACT</span>\n",
              "</mark>\n",
              " ご 利用 で 、 送料 \n",
              "<mark class=\"entity\" style=\"background: #a29bfe; padding: 0.45em 0.6em; margin: 0 0.25em; line-height: 1; border-radius: 0.35em;\">\n",
              "    １５０ 円\n",
              "    <span style=\"font-size: 0.8em; font-weight: bold; line-height: 1; border-radius: 0.35em; vertical-align: middle; margin-left: 0.5rem\">MONEY</span>\n",
              "</mark>\n",
              " ！ ！ </div></span>"
            ]
          },
          "metadata": {}
        },
        {
          "output_type": "stream",
          "name": "stdout",
          "text": [
            "正解：\n"
          ]
        },
        {
          "output_type": "display_data",
          "data": {
            "text/plain": [
              "<IPython.core.display.HTML object>"
            ],
            "text/html": [
              "<span class=\"tex2jax_ignore\"><div class=\"entities\" style=\"line-height: 2.5; direction: ltr\">メール 便 ご 利用 で 、 送料 \n",
              "<mark class=\"entity\" style=\"background: #a29bfe; padding: 0.45em 0.6em; margin: 0 0.25em; line-height: 1; border-radius: 0.35em;\">\n",
              "    １５０ 円\n",
              "    <span style=\"font-size: 0.8em; font-weight: bold; line-height: 1; border-radius: 0.35em; vertical-align: middle; margin-left: 0.5rem\">MONEY</span>\n",
              "</mark>\n",
              " ！ ！ </div></span>"
            ]
          },
          "metadata": {}
        },
        {
          "output_type": "stream",
          "name": "stdout",
          "text": [
            "----------\n"
          ]
        },
        {
          "output_type": "display_data",
          "data": {
            "text/plain": [
              "<IPython.core.display.HTML object>"
            ],
            "text/html": [
              "<span class=\"tex2jax_ignore\"><div class=\"entities\" style=\"line-height: 2.5; direction: ltr\">\n",
              "<mark class=\"entity\" style=\"background: #81ecec; padding: 0.45em 0.6em; margin: 0 0.25em; line-height: 1; border-radius: 0.35em;\">\n",
              "    ２ 月 １６ 日\n",
              "    <span style=\"font-size: 0.8em; font-weight: bold; line-height: 1; border-radius: 0.35em; vertical-align: middle; margin-left: 0.5rem\">DATE</span>\n",
              "</mark>\n",
              " に も 書いた のだ が 、 時間 と お 金 の 関係 に ついて もう 少し 考えて みた 。 </div></span>"
            ]
          },
          "metadata": {}
        },
        {
          "output_type": "stream",
          "name": "stdout",
          "text": [
            "----------\n"
          ]
        },
        {
          "output_type": "display_data",
          "data": {
            "text/plain": [
              "<IPython.core.display.HTML object>"
            ],
            "text/html": [
              "<span class=\"tex2jax_ignore\"><div class=\"entities\" style=\"line-height: 2.5; direction: ltr\">例えば 年収 が \n",
              "<mark class=\"entity\" style=\"background: #a29bfe; padding: 0.45em 0.6em; margin: 0 0.25em; line-height: 1; border-radius: 0.35em;\">\n",
              "    ５００万 円\n",
              "    <span style=\"font-size: 0.8em; font-weight: bold; line-height: 1; border-radius: 0.35em; vertical-align: middle; margin-left: 0.5rem\">MONEY</span>\n",
              "</mark>\n",
              " の 人 が いる 。 </div></span>"
            ]
          },
          "metadata": {}
        },
        {
          "output_type": "stream",
          "name": "stdout",
          "text": [
            "----------\n",
            "モデルの予測：\n"
          ]
        },
        {
          "output_type": "display_data",
          "data": {
            "text/plain": [
              "<IPython.core.display.HTML object>"
            ],
            "text/html": [
              "<span class=\"tex2jax_ignore\"><div class=\"entities\" style=\"line-height: 2.5; direction: ltr\">先日 、 パルシステム で 手づくり こんにゃく セット を 発見 し 、 注文 して み ました 。 </div></span>"
            ]
          },
          "metadata": {}
        },
        {
          "output_type": "stream",
          "name": "stdout",
          "text": [
            "正解：\n"
          ]
        },
        {
          "output_type": "display_data",
          "data": {
            "text/plain": [
              "<IPython.core.display.HTML object>"
            ],
            "text/html": [
              "<span class=\"tex2jax_ignore\"><div class=\"entities\" style=\"line-height: 2.5; direction: ltr\">\n",
              "<mark class=\"entity\" style=\"background: #81ecec; padding: 0.45em 0.6em; margin: 0 0.25em; line-height: 1; border-radius: 0.35em;\">\n",
              "    先日\n",
              "    <span style=\"font-size: 0.8em; font-weight: bold; line-height: 1; border-radius: 0.35em; vertical-align: middle; margin-left: 0.5rem\">DATE</span>\n",
              "</mark>\n",
              " 、 \n",
              "<mark class=\"entity\" style=\"background: #55efc4; padding: 0.45em 0.6em; margin: 0 0.25em; line-height: 1; border-radius: 0.35em;\">\n",
              "    パルシステム\n",
              "    <span style=\"font-size: 0.8em; font-weight: bold; line-height: 1; border-radius: 0.35em; vertical-align: middle; margin-left: 0.5rem\">ARTIFACT</span>\n",
              "</mark>\n",
              " で 手づくり こんにゃく セット を 発見 し 、 注文 して み ました 。 </div></span>"
            ]
          },
          "metadata": {}
        },
        {
          "output_type": "stream",
          "name": "stdout",
          "text": [
            "----------\n",
            "モデルの予測：\n"
          ]
        },
        {
          "output_type": "display_data",
          "data": {
            "text/plain": [
              "<IPython.core.display.HTML object>"
            ],
            "text/html": [
              "<span class=\"tex2jax_ignore\"><div class=\"entities\" style=\"line-height: 2.5; direction: ltr\">パルシステム で は こういう 手づくり 企画 が 結構 ある のです 。 </div></span>"
            ]
          },
          "metadata": {}
        },
        {
          "output_type": "stream",
          "name": "stdout",
          "text": [
            "正解：\n"
          ]
        },
        {
          "output_type": "display_data",
          "data": {
            "text/plain": [
              "<IPython.core.display.HTML object>"
            ],
            "text/html": [
              "<span class=\"tex2jax_ignore\"><div class=\"entities\" style=\"line-height: 2.5; direction: ltr\">\n",
              "<mark class=\"entity\" style=\"background: #55efc4; padding: 0.45em 0.6em; margin: 0 0.25em; line-height: 1; border-radius: 0.35em;\">\n",
              "    パルシステム\n",
              "    <span style=\"font-size: 0.8em; font-weight: bold; line-height: 1; border-radius: 0.35em; vertical-align: middle; margin-left: 0.5rem\">ARTIFACT</span>\n",
              "</mark>\n",
              " で は こういう 手づくり 企画 が 結構 ある のです 。 </div></span>"
            ]
          },
          "metadata": {}
        },
        {
          "output_type": "stream",
          "name": "stdout",
          "text": [
            "----------\n",
            "モデルの予測：\n"
          ]
        },
        {
          "output_type": "display_data",
          "data": {
            "text/plain": [
              "<IPython.core.display.HTML object>"
            ],
            "text/html": [
              "<span class=\"tex2jax_ignore\"><div class=\"entities\" style=\"line-height: 2.5; direction: ltr\">無 政府 状態 の 今 だ から こそ 、 イラク は ビザ も 不要で 簡単に 入国 できちゃ う よ 。 </div></span>"
            ]
          },
          "metadata": {}
        },
        {
          "output_type": "stream",
          "name": "stdout",
          "text": [
            "正解：\n"
          ]
        },
        {
          "output_type": "display_data",
          "data": {
            "text/plain": [
              "<IPython.core.display.HTML object>"
            ],
            "text/html": [
              "<span class=\"tex2jax_ignore\"><div class=\"entities\" style=\"line-height: 2.5; direction: ltr\">無 政府 状態 の 今 だ から こそ 、 \n",
              "<mark class=\"entity\" style=\"background: #74b9ff; padding: 0.45em 0.6em; margin: 0 0.25em; line-height: 1; border-radius: 0.35em;\">\n",
              "    イラク\n",
              "    <span style=\"font-size: 0.8em; font-weight: bold; line-height: 1; border-radius: 0.35em; vertical-align: middle; margin-left: 0.5rem\">LOCATION</span>\n",
              "</mark>\n",
              " は ビザ も 不要で 簡単に 入国 できちゃ う よ 。 </div></span>"
            ]
          },
          "metadata": {}
        },
        {
          "output_type": "stream",
          "name": "stdout",
          "text": [
            "----------\n",
            "モデルの予測：\n"
          ]
        },
        {
          "output_type": "display_data",
          "data": {
            "text/plain": [
              "<IPython.core.display.HTML object>"
            ],
            "text/html": [
              "<span class=\"tex2jax_ignore\"><div class=\"entities\" style=\"line-height: 2.5; direction: ltr\">「 \n",
              "<mark class=\"entity\" style=\"background: #74b9ff; padding: 0.45em 0.6em; margin: 0 0.25em; line-height: 1; border-radius: 0.35em;\">\n",
              "    イラク\n",
              "    <span style=\"font-size: 0.8em; font-weight: bold; line-height: 1; border-radius: 0.35em; vertical-align: middle; margin-left: 0.5rem\">LOCATION</span>\n",
              "</mark>\n",
              " 戦争 最 前線 」 は 、 プレゼント 本 と して 紹介 さ れた 。 </div></span>"
            ]
          },
          "metadata": {}
        },
        {
          "output_type": "stream",
          "name": "stdout",
          "text": [
            "正解：\n"
          ]
        },
        {
          "output_type": "display_data",
          "data": {
            "text/plain": [
              "<IPython.core.display.HTML object>"
            ],
            "text/html": [
              "<span class=\"tex2jax_ignore\"><div class=\"entities\" style=\"line-height: 2.5; direction: ltr\">「 \n",
              "<mark class=\"entity\" style=\"background: #55efc4; padding: 0.45em 0.6em; margin: 0 0.25em; line-height: 1; border-radius: 0.35em;\">\n",
              "    イラク 戦争 最 前線\n",
              "    <span style=\"font-size: 0.8em; font-weight: bold; line-height: 1; border-radius: 0.35em; vertical-align: middle; margin-left: 0.5rem\">ARTIFACT</span>\n",
              "</mark>\n",
              " 」 は 、 プレゼント 本 と して 紹介 さ れた 。 </div></span>"
            ]
          },
          "metadata": {}
        },
        {
          "output_type": "stream",
          "name": "stdout",
          "text": [
            "----------\n"
          ]
        },
        {
          "output_type": "display_data",
          "data": {
            "text/plain": [
              "<IPython.core.display.HTML object>"
            ],
            "text/html": [
              "<span class=\"tex2jax_ignore\"><div class=\"entities\" style=\"line-height: 2.5; direction: ltr\">\n",
              "<mark class=\"entity\" style=\"background: #dfe6e9; padding: 0.45em 0.6em; margin: 0 0.25em; line-height: 1; border-radius: 0.35em;\">\n",
              "    逸品 館 銀座 試聴 室\n",
              "    <span style=\"font-size: 0.8em; font-weight: bold; line-height: 1; border-radius: 0.35em; vertical-align: middle; margin-left: 0.5rem\">ORGANIZATION</span>\n",
              "</mark>\n",
              " は 、 完全 予約 制 と なって い ます 。 </div></span>"
            ]
          },
          "metadata": {}
        },
        {
          "output_type": "stream",
          "name": "stdout",
          "text": [
            "----------\n",
            "モデルの予測：\n"
          ]
        },
        {
          "output_type": "display_data",
          "data": {
            "text/plain": [
              "<IPython.core.display.HTML object>"
            ],
            "text/html": [
              "<span class=\"tex2jax_ignore\"><div class=\"entities\" style=\"line-height: 2.5; direction: ltr\">さとまる さん の 鳥居 中心 の ブログ です 。 </div></span>"
            ]
          },
          "metadata": {}
        },
        {
          "output_type": "stream",
          "name": "stdout",
          "text": [
            "正解：\n"
          ]
        },
        {
          "output_type": "display_data",
          "data": {
            "text/plain": [
              "<IPython.core.display.HTML object>"
            ],
            "text/html": [
              "<span class=\"tex2jax_ignore\"><div class=\"entities\" style=\"line-height: 2.5; direction: ltr\">\n",
              "<mark class=\"entity\" style=\"background: #fab1a0; padding: 0.45em 0.6em; margin: 0 0.25em; line-height: 1; border-radius: 0.35em;\">\n",
              "    さとまる\n",
              "    <span style=\"font-size: 0.8em; font-weight: bold; line-height: 1; border-radius: 0.35em; vertical-align: middle; margin-left: 0.5rem\">PERSON</span>\n",
              "</mark>\n",
              " さん の 鳥居 中心 の ブログ です 。 </div></span>"
            ]
          },
          "metadata": {}
        },
        {
          "output_type": "stream",
          "name": "stdout",
          "text": [
            "----------\n"
          ]
        },
        {
          "output_type": "display_data",
          "data": {
            "text/plain": [
              "<IPython.core.display.HTML object>"
            ],
            "text/html": [
              "<span class=\"tex2jax_ignore\"><div class=\"entities\" style=\"line-height: 2.5; direction: ltr\">\n",
              "<mark class=\"entity\" style=\"background: #74b9ff; padding: 0.45em 0.6em; margin: 0 0.25em; line-height: 1; border-radius: 0.35em;\">\n",
              "    関東\n",
              "    <span style=\"font-size: 0.8em; font-weight: bold; line-height: 1; border-radius: 0.35em; vertical-align: middle; margin-left: 0.5rem\">LOCATION</span>\n",
              "</mark>\n",
              " を 中心 と した 神社 の 鳥居 を 詳しく 紹介 して い ます 。 </div></span>"
            ]
          },
          "metadata": {}
        },
        {
          "output_type": "stream",
          "name": "stdout",
          "text": [
            "----------\n"
          ]
        },
        {
          "output_type": "display_data",
          "data": {
            "text/plain": [
              "<IPython.core.display.HTML object>"
            ],
            "text/html": [
              "<span class=\"tex2jax_ignore\"><div class=\"entities\" style=\"line-height: 2.5; direction: ltr\">笑 門 開運 を もっとう に する \n",
              "<mark class=\"entity\" style=\"background: #dfe6e9; padding: 0.45em 0.6em; margin: 0 0.25em; line-height: 1; border-radius: 0.35em;\">\n",
              "    笑 門 占術 秦 流\n",
              "    <span style=\"font-size: 0.8em; font-weight: bold; line-height: 1; border-radius: 0.35em; vertical-align: middle; margin-left: 0.5rem\">ORGANIZATION</span>\n",
              "</mark>\n",
              " で は 占い 師 を 養成 いたし ます 。 </div></span>"
            ]
          },
          "metadata": {}
        },
        {
          "output_type": "stream",
          "name": "stdout",
          "text": [
            "----------\n"
          ]
        },
        {
          "output_type": "display_data",
          "data": {
            "text/plain": [
              "<IPython.core.display.HTML object>"
            ],
            "text/html": [
              "<span class=\"tex2jax_ignore\"><div class=\"entities\" style=\"line-height: 2.5; direction: ltr\">\n",
              "<mark class=\"entity\" style=\"background: #dfe6e9; padding: 0.45em 0.6em; margin: 0 0.25em; line-height: 1; border-radius: 0.35em;\">\n",
              "    秦 流\n",
              "    <span style=\"font-size: 0.8em; font-weight: bold; line-height: 1; border-radius: 0.35em; vertical-align: middle; margin-left: 0.5rem\">ORGANIZATION</span>\n",
              "</mark>\n",
              " で は 易学 と 九星 学 を 基本 と して 、 東洋 系 の 占い を ご 教授 いたし ます 。 </div></span>"
            ]
          },
          "metadata": {}
        },
        {
          "output_type": "stream",
          "name": "stdout",
          "text": [
            "----------\n"
          ]
        },
        {
          "output_type": "display_data",
          "data": {
            "text/plain": [
              "<IPython.core.display.HTML object>"
            ],
            "text/html": [
              "<span class=\"tex2jax_ignore\"><div class=\"entities\" style=\"line-height: 2.5; direction: ltr\">\n",
              "<mark class=\"entity\" style=\"background: #dfe6e9; padding: 0.45em 0.6em; margin: 0 0.25em; line-height: 1; border-radius: 0.35em;\">\n",
              "    笑 門 占術 秦 流\n",
              "    <span style=\"font-size: 0.8em; font-weight: bold; line-height: 1; border-radius: 0.35em; vertical-align: middle; margin-left: 0.5rem\">ORGANIZATION</span>\n",
              "</mark>\n",
              " で は 占い だけ で は なく 教養 と して 和歌 や 邦楽 等 の 芸事 が 必要だ と 考えて い ます 。 </div></span>"
            ]
          },
          "metadata": {}
        },
        {
          "output_type": "stream",
          "name": "stdout",
          "text": [
            "----------\n",
            "モデルの予測：\n"
          ]
        },
        {
          "output_type": "display_data",
          "data": {
            "text/plain": [
              "<IPython.core.display.HTML object>"
            ],
            "text/html": [
              "<span class=\"tex2jax_ignore\"><div class=\"entities\" style=\"line-height: 2.5; direction: ltr\">\n",
              "<mark class=\"entity\" style=\"background: #81ecec; padding: 0.45em 0.6em; margin: 0 0.25em; line-height: 1; border-radius: 0.35em;\">\n",
              "    明日\n",
              "    <span style=\"font-size: 0.8em; font-weight: bold; line-height: 1; border-radius: 0.35em; vertical-align: middle; margin-left: 0.5rem\">DATE</span>\n",
              "</mark>\n",
              " の \n",
              "<mark class=\"entity\" style=\"background: #fd79a8; padding: 0.45em 0.6em; margin: 0 0.25em; line-height: 1; border-radius: 0.35em;\">\n",
              "    朝\n",
              "    <span style=\"font-size: 0.8em; font-weight: bold; line-height: 1; border-radius: 0.35em; vertical-align: middle; margin-left: 0.5rem\">TIME</span>\n",
              "</mark>\n",
              " 、 リニューアル オープン の 予定 です 。 </div></span>"
            ]
          },
          "metadata": {}
        },
        {
          "output_type": "stream",
          "name": "stdout",
          "text": [
            "正解：\n"
          ]
        },
        {
          "output_type": "display_data",
          "data": {
            "text/plain": [
              "<IPython.core.display.HTML object>"
            ],
            "text/html": [
              "<span class=\"tex2jax_ignore\"><div class=\"entities\" style=\"line-height: 2.5; direction: ltr\">明日 の \n",
              "<mark class=\"entity\" style=\"background: #fd79a8; padding: 0.45em 0.6em; margin: 0 0.25em; line-height: 1; border-radius: 0.35em;\">\n",
              "    朝\n",
              "    <span style=\"font-size: 0.8em; font-weight: bold; line-height: 1; border-radius: 0.35em; vertical-align: middle; margin-left: 0.5rem\">TIME</span>\n",
              "</mark>\n",
              " 、 リニューアル オープン の 予定 です 。 </div></span>"
            ]
          },
          "metadata": {}
        },
        {
          "output_type": "stream",
          "name": "stdout",
          "text": [
            "----------\n",
            "モデルの予測：\n"
          ]
        },
        {
          "output_type": "display_data",
          "data": {
            "text/plain": [
              "<IPython.core.display.HTML object>"
            ],
            "text/html": [
              "<span class=\"tex2jax_ignore\"><div class=\"entities\" style=\"line-height: 2.5; direction: ltr\">１０ 時 くらい です か ね </div></span>"
            ]
          },
          "metadata": {}
        },
        {
          "output_type": "stream",
          "name": "stdout",
          "text": [
            "正解：\n"
          ]
        },
        {
          "output_type": "display_data",
          "data": {
            "text/plain": [
              "<IPython.core.display.HTML object>"
            ],
            "text/html": [
              "<span class=\"tex2jax_ignore\"><div class=\"entities\" style=\"line-height: 2.5; direction: ltr\">\n",
              "<mark class=\"entity\" style=\"background: #fd79a8; padding: 0.45em 0.6em; margin: 0 0.25em; line-height: 1; border-radius: 0.35em;\">\n",
              "    １０ 時\n",
              "    <span style=\"font-size: 0.8em; font-weight: bold; line-height: 1; border-radius: 0.35em; vertical-align: middle; margin-left: 0.5rem\">TIME</span>\n",
              "</mark>\n",
              " くらい です か ね </div></span>"
            ]
          },
          "metadata": {}
        },
        {
          "output_type": "stream",
          "name": "stdout",
          "text": [
            "----------\n",
            "モデルの予測：\n"
          ]
        },
        {
          "output_type": "display_data",
          "data": {
            "text/plain": [
              "<IPython.core.display.HTML object>"
            ],
            "text/html": [
              "<span class=\"tex2jax_ignore\"><div class=\"entities\" style=\"line-height: 2.5; direction: ltr\">ぜひ 、 新しく なった フランチェスカ を ご覧 いただけ ましたら 幸いです 。 </div></span>"
            ]
          },
          "metadata": {}
        },
        {
          "output_type": "stream",
          "name": "stdout",
          "text": [
            "正解：\n"
          ]
        },
        {
          "output_type": "display_data",
          "data": {
            "text/plain": [
              "<IPython.core.display.HTML object>"
            ],
            "text/html": [
              "<span class=\"tex2jax_ignore\"><div class=\"entities\" style=\"line-height: 2.5; direction: ltr\">ぜひ 、 新しく なった \n",
              "<mark class=\"entity\" style=\"background: #dfe6e9; padding: 0.45em 0.6em; margin: 0 0.25em; line-height: 1; border-radius: 0.35em;\">\n",
              "    フランチェスカ\n",
              "    <span style=\"font-size: 0.8em; font-weight: bold; line-height: 1; border-radius: 0.35em; vertical-align: middle; margin-left: 0.5rem\">ORGANIZATION</span>\n",
              "</mark>\n",
              " を ご覧 いただけ ましたら 幸いです 。 </div></span>"
            ]
          },
          "metadata": {}
        },
        {
          "output_type": "stream",
          "name": "stdout",
          "text": [
            "----------\n",
            "モデルの予測：\n"
          ]
        },
        {
          "output_type": "display_data",
          "data": {
            "text/plain": [
              "<IPython.core.display.HTML object>"
            ],
            "text/html": [
              "<span class=\"tex2jax_ignore\"><div class=\"entities\" style=\"line-height: 2.5; direction: ltr\">ゆうパック に 配達 の 遅れ が 出て いる と の こと 、 ニュース で 知り ました 。 </div></span>"
            ]
          },
          "metadata": {}
        },
        {
          "output_type": "stream",
          "name": "stdout",
          "text": [
            "正解：\n"
          ]
        },
        {
          "output_type": "display_data",
          "data": {
            "text/plain": [
              "<IPython.core.display.HTML object>"
            ],
            "text/html": [
              "<span class=\"tex2jax_ignore\"><div class=\"entities\" style=\"line-height: 2.5; direction: ltr\">\n",
              "<mark class=\"entity\" style=\"background: #55efc4; padding: 0.45em 0.6em; margin: 0 0.25em; line-height: 1; border-radius: 0.35em;\">\n",
              "    ゆうパック\n",
              "    <span style=\"font-size: 0.8em; font-weight: bold; line-height: 1; border-radius: 0.35em; vertical-align: middle; margin-left: 0.5rem\">ARTIFACT</span>\n",
              "</mark>\n",
              " に 配達 の 遅れ が 出て いる と の こと 、 ニュース で 知り ました 。 </div></span>"
            ]
          },
          "metadata": {}
        },
        {
          "output_type": "stream",
          "name": "stdout",
          "text": [
            "----------\n",
            "モデルの予測：\n"
          ]
        },
        {
          "output_type": "display_data",
          "data": {
            "text/plain": [
              "<IPython.core.display.HTML object>"
            ],
            "text/html": [
              "<span class=\"tex2jax_ignore\"><div class=\"entities\" style=\"line-height: 2.5; direction: ltr\">ペリカン 便 と 一緒に なって 、 取扱 量 が 急増 した の が 原因 の ようです ね 。 </div></span>"
            ]
          },
          "metadata": {}
        },
        {
          "output_type": "stream",
          "name": "stdout",
          "text": [
            "正解：\n"
          ]
        },
        {
          "output_type": "display_data",
          "data": {
            "text/plain": [
              "<IPython.core.display.HTML object>"
            ],
            "text/html": [
              "<span class=\"tex2jax_ignore\"><div class=\"entities\" style=\"line-height: 2.5; direction: ltr\">\n",
              "<mark class=\"entity\" style=\"background: #55efc4; padding: 0.45em 0.6em; margin: 0 0.25em; line-height: 1; border-radius: 0.35em;\">\n",
              "    ペリカン 便\n",
              "    <span style=\"font-size: 0.8em; font-weight: bold; line-height: 1; border-radius: 0.35em; vertical-align: middle; margin-left: 0.5rem\">ARTIFACT</span>\n",
              "</mark>\n",
              " と 一緒に なって 、 取扱 量 が 急増 した の が 原因 の ようです ね 。 </div></span>"
            ]
          },
          "metadata": {}
        },
        {
          "output_type": "stream",
          "name": "stdout",
          "text": [
            "----------\n",
            "モデルの予測：\n"
          ]
        },
        {
          "output_type": "display_data",
          "data": {
            "text/plain": [
              "<IPython.core.display.HTML object>"
            ],
            "text/html": [
              "<span class=\"tex2jax_ignore\"><div class=\"entities\" style=\"line-height: 2.5; direction: ltr\">オクルプラス で は 、 世界 に 一 つ しか ない オリジナル ガラス フォト フレーム を お 客 様 へ お 届け いたし ます 。 </div></span>"
            ]
          },
          "metadata": {}
        },
        {
          "output_type": "stream",
          "name": "stdout",
          "text": [
            "正解：\n"
          ]
        },
        {
          "output_type": "display_data",
          "data": {
            "text/plain": [
              "<IPython.core.display.HTML object>"
            ],
            "text/html": [
              "<span class=\"tex2jax_ignore\"><div class=\"entities\" style=\"line-height: 2.5; direction: ltr\">\n",
              "<mark class=\"entity\" style=\"background: #dfe6e9; padding: 0.45em 0.6em; margin: 0 0.25em; line-height: 1; border-radius: 0.35em;\">\n",
              "    オクルプラス\n",
              "    <span style=\"font-size: 0.8em; font-weight: bold; line-height: 1; border-radius: 0.35em; vertical-align: middle; margin-left: 0.5rem\">ORGANIZATION</span>\n",
              "</mark>\n",
              " で は 、 世界 に 一 つ しか ない オリジナル ガラス フォト フレーム を お 客 様 へ お 届け いたし ます 。 </div></span>"
            ]
          },
          "metadata": {}
        },
        {
          "output_type": "stream",
          "name": "stdout",
          "text": [
            "----------\n"
          ]
        },
        {
          "output_type": "display_data",
          "data": {
            "text/plain": [
              "<IPython.core.display.HTML object>"
            ],
            "text/html": [
              "<span class=\"tex2jax_ignore\"><div class=\"entities\" style=\"line-height: 2.5; direction: ltr\">機関 紙 「 \n",
              "<mark class=\"entity\" style=\"background: #55efc4; padding: 0.45em 0.6em; margin: 0 0.25em; line-height: 1; border-radius: 0.35em;\">\n",
              "    自由 民主\n",
              "    <span style=\"font-size: 0.8em; font-weight: bold; line-height: 1; border-radius: 0.35em; vertical-align: middle; margin-left: 0.5rem\">ARTIFACT</span>\n",
              "</mark>\n",
              " 」 ２２３０ 号 が \n",
              "<mark class=\"entity\" style=\"background: #81ecec; padding: 0.45em 0.6em; margin: 0 0.25em; line-height: 1; border-radius: 0.35em;\">\n",
              "    １６ 日\n",
              "    <span style=\"font-size: 0.8em; font-weight: bold; line-height: 1; border-radius: 0.35em; vertical-align: middle; margin-left: 0.5rem\">DATE</span>\n",
              "</mark>\n",
              " 、 発行 さ れ ます 。 </div></span>"
            ]
          },
          "metadata": {}
        },
        {
          "output_type": "stream",
          "name": "stdout",
          "text": [
            "----------\n",
            "モデルの予測：\n"
          ]
        },
        {
          "output_type": "display_data",
          "data": {
            "text/plain": [
              "<IPython.core.display.HTML object>"
            ],
            "text/html": [
              "<span class=\"tex2jax_ignore\"><div class=\"entities\" style=\"line-height: 2.5; direction: ltr\">\n",
              "<mark class=\"entity\" style=\"background: #81ecec; padding: 0.45em 0.6em; margin: 0 0.25em; line-height: 1; border-radius: 0.35em;\">\n",
              "    昭和 ２２ 年\n",
              "    <span style=\"font-size: 0.8em; font-weight: bold; line-height: 1; border-radius: 0.35em; vertical-align: middle; margin-left: 0.5rem\">DATE</span>\n",
              "</mark>\n",
              " に 制定 さ れた 教育 基本 法 の 改正 が 、 \n",
              "<mark class=\"entity\" style=\"background: #dfe6e9; padding: 0.45em 0.6em; margin: 0 0.25em; line-height: 1; border-radius: 0.35em;\">\n",
              "    国会\n",
              "    <span style=\"font-size: 0.8em; font-weight: bold; line-height: 1; border-radius: 0.35em; vertical-align: middle; margin-left: 0.5rem\">ORGANIZATION</span>\n",
              "</mark>\n",
              " で 議論 が 始まり ます 。 </div></span>"
            ]
          },
          "metadata": {}
        },
        {
          "output_type": "stream",
          "name": "stdout",
          "text": [
            "正解：\n"
          ]
        },
        {
          "output_type": "display_data",
          "data": {
            "text/plain": [
              "<IPython.core.display.HTML object>"
            ],
            "text/html": [
              "<span class=\"tex2jax_ignore\"><div class=\"entities\" style=\"line-height: 2.5; direction: ltr\">\n",
              "<mark class=\"entity\" style=\"background: #81ecec; padding: 0.45em 0.6em; margin: 0 0.25em; line-height: 1; border-radius: 0.35em;\">\n",
              "    昭和 ２２ 年\n",
              "    <span style=\"font-size: 0.8em; font-weight: bold; line-height: 1; border-radius: 0.35em; vertical-align: middle; margin-left: 0.5rem\">DATE</span>\n",
              "</mark>\n",
              " に 制定 さ れた \n",
              "<mark class=\"entity\" style=\"background: #55efc4; padding: 0.45em 0.6em; margin: 0 0.25em; line-height: 1; border-radius: 0.35em;\">\n",
              "    教育 基本 法\n",
              "    <span style=\"font-size: 0.8em; font-weight: bold; line-height: 1; border-radius: 0.35em; vertical-align: middle; margin-left: 0.5rem\">ARTIFACT</span>\n",
              "</mark>\n",
              " の 改正 が 、 \n",
              "<mark class=\"entity\" style=\"background: #dfe6e9; padding: 0.45em 0.6em; margin: 0 0.25em; line-height: 1; border-radius: 0.35em;\">\n",
              "    国会\n",
              "    <span style=\"font-size: 0.8em; font-weight: bold; line-height: 1; border-radius: 0.35em; vertical-align: middle; margin-left: 0.5rem\">ORGANIZATION</span>\n",
              "</mark>\n",
              " で 議論 が 始まり ます 。 </div></span>"
            ]
          },
          "metadata": {}
        },
        {
          "output_type": "stream",
          "name": "stdout",
          "text": [
            "----------\n"
          ]
        },
        {
          "output_type": "display_data",
          "data": {
            "text/plain": [
              "<IPython.core.display.HTML object>"
            ],
            "text/html": [
              "<span class=\"tex2jax_ignore\"><div class=\"entities\" style=\"line-height: 2.5; direction: ltr\">制定 以来 初 の 全面 改正 と なる 今回 、 \n",
              "<mark class=\"entity\" style=\"background: #dfe6e9; padding: 0.45em 0.6em; margin: 0 0.25em; line-height: 1; border-radius: 0.35em;\">\n",
              "    国会\n",
              "    <span style=\"font-size: 0.8em; font-weight: bold; line-height: 1; border-radius: 0.35em; vertical-align: middle; margin-left: 0.5rem\">ORGANIZATION</span>\n",
              "</mark>\n",
              " で は 特別 委員 会 が 設置 さ れ 、 集中 的に 審議 が 行わ れ ます 。 </div></span>"
            ]
          },
          "metadata": {}
        },
        {
          "output_type": "stream",
          "name": "stdout",
          "text": [
            "----------\n",
            "モデルの予測：\n"
          ]
        },
        {
          "output_type": "display_data",
          "data": {
            "text/plain": [
              "<IPython.core.display.HTML object>"
            ],
            "text/html": [
              "<span class=\"tex2jax_ignore\"><div class=\"entities\" style=\"line-height: 2.5; direction: ltr\">\n",
              "<mark class=\"entity\" style=\"background: #81ecec; padding: 0.45em 0.6em; margin: 0 0.25em; line-height: 1; border-radius: 0.35em;\">\n",
              "    ４ 月\n",
              "    <span style=\"font-size: 0.8em; font-weight: bold; line-height: 1; border-radius: 0.35em; vertical-align: middle; margin-left: 0.5rem\">DATE</span>\n",
              "</mark>\n",
              " 頃 に 薄 桃色 〜 白い 花 を 咲か せ 、 秋 に 実 を つけ ます 。 </div></span>"
            ]
          },
          "metadata": {}
        },
        {
          "output_type": "stream",
          "name": "stdout",
          "text": [
            "正解：\n"
          ]
        },
        {
          "output_type": "display_data",
          "data": {
            "text/plain": [
              "<IPython.core.display.HTML object>"
            ],
            "text/html": [
              "<span class=\"tex2jax_ignore\"><div class=\"entities\" style=\"line-height: 2.5; direction: ltr\">\n",
              "<mark class=\"entity\" style=\"background: #81ecec; padding: 0.45em 0.6em; margin: 0 0.25em; line-height: 1; border-radius: 0.35em;\">\n",
              "    ４ 月 頃\n",
              "    <span style=\"font-size: 0.8em; font-weight: bold; line-height: 1; border-radius: 0.35em; vertical-align: middle; margin-left: 0.5rem\">DATE</span>\n",
              "</mark>\n",
              " に 薄 桃色 〜 白い 花 を 咲か せ 、 秋 に 実 を つけ ます 。 </div></span>"
            ]
          },
          "metadata": {}
        },
        {
          "output_type": "stream",
          "name": "stdout",
          "text": [
            "----------\n",
            "モデルの予測：\n"
          ]
        },
        {
          "output_type": "display_data",
          "data": {
            "text/plain": [
              "<IPython.core.display.HTML object>"
            ],
            "text/html": [
              "<span class=\"tex2jax_ignore\"><div class=\"entities\" style=\"line-height: 2.5; direction: ltr\">原産 は \n",
              "<mark class=\"entity\" style=\"background: #74b9ff; padding: 0.45em 0.6em; margin: 0 0.25em; line-height: 1; border-radius: 0.35em;\">\n",
              "    アジア\n",
              "    <span style=\"font-size: 0.8em; font-weight: bold; line-height: 1; border-radius: 0.35em; vertical-align: middle; margin-left: 0.5rem\">LOCATION</span>\n",
              "</mark>\n",
              " と の こと で 、 \n",
              "<mark class=\"entity\" style=\"background: #74b9ff; padding: 0.45em 0.6em; margin: 0 0.25em; line-height: 1; border-radius: 0.35em;\">\n",
              "    日本\n",
              "    <span style=\"font-size: 0.8em; font-weight: bold; line-height: 1; border-radius: 0.35em; vertical-align: middle; margin-left: 0.5rem\">LOCATION</span>\n",
              "</mark>\n",
              " に は \n",
              "<mark class=\"entity\" style=\"background: #74b9ff; padding: 0.45em 0.6em; margin: 0 0.25em; line-height: 1; border-radius: 0.35em;\">\n",
              "    中国\n",
              "    <span style=\"font-size: 0.8em; font-weight: bold; line-height: 1; border-radius: 0.35em; vertical-align: middle; margin-left: 0.5rem\">LOCATION</span>\n",
              "</mark>\n",
              " から 平安 時代 に やってきた と 考え られて い ます 。 </div></span>"
            ]
          },
          "metadata": {}
        },
        {
          "output_type": "stream",
          "name": "stdout",
          "text": [
            "正解：\n"
          ]
        },
        {
          "output_type": "display_data",
          "data": {
            "text/plain": [
              "<IPython.core.display.HTML object>"
            ],
            "text/html": [
              "<span class=\"tex2jax_ignore\"><div class=\"entities\" style=\"line-height: 2.5; direction: ltr\">原産 は \n",
              "<mark class=\"entity\" style=\"background: #74b9ff; padding: 0.45em 0.6em; margin: 0 0.25em; line-height: 1; border-radius: 0.35em;\">\n",
              "    アジア\n",
              "    <span style=\"font-size: 0.8em; font-weight: bold; line-height: 1; border-radius: 0.35em; vertical-align: middle; margin-left: 0.5rem\">LOCATION</span>\n",
              "</mark>\n",
              " と の こと で 、 \n",
              "<mark class=\"entity\" style=\"background: #74b9ff; padding: 0.45em 0.6em; margin: 0 0.25em; line-height: 1; border-radius: 0.35em;\">\n",
              "    日本\n",
              "    <span style=\"font-size: 0.8em; font-weight: bold; line-height: 1; border-radius: 0.35em; vertical-align: middle; margin-left: 0.5rem\">LOCATION</span>\n",
              "</mark>\n",
              " に は \n",
              "<mark class=\"entity\" style=\"background: #74b9ff; padding: 0.45em 0.6em; margin: 0 0.25em; line-height: 1; border-radius: 0.35em;\">\n",
              "    中国\n",
              "    <span style=\"font-size: 0.8em; font-weight: bold; line-height: 1; border-radius: 0.35em; vertical-align: middle; margin-left: 0.5rem\">LOCATION</span>\n",
              "</mark>\n",
              " から \n",
              "<mark class=\"entity\" style=\"background: #81ecec; padding: 0.45em 0.6em; margin: 0 0.25em; line-height: 1; border-radius: 0.35em;\">\n",
              "    平安 時代\n",
              "    <span style=\"font-size: 0.8em; font-weight: bold; line-height: 1; border-radius: 0.35em; vertical-align: middle; margin-left: 0.5rem\">DATE</span>\n",
              "</mark>\n",
              " に やってきた と 考え られて い ます 。 </div></span>"
            ]
          },
          "metadata": {}
        },
        {
          "output_type": "stream",
          "name": "stdout",
          "text": [
            "----------\n",
            "モデルの予測：\n"
          ]
        },
        {
          "output_type": "display_data",
          "data": {
            "text/plain": [
              "<IPython.core.display.HTML object>"
            ],
            "text/html": [
              "<span class=\"tex2jax_ignore\"><div class=\"entities\" style=\"line-height: 2.5; direction: ltr\">\n",
              "<mark class=\"entity\" style=\"background: #fab1a0; padding: 0.45em 0.6em; margin: 0 0.25em; line-height: 1; border-radius: 0.35em;\">\n",
              "    ４４\n",
              "    <span style=\"font-size: 0.8em; font-weight: bold; line-height: 1; border-radius: 0.35em; vertical-align: middle; margin-left: 0.5rem\">PERSON</span>\n",
              "</mark>\n",
              " 度 ぐらい が 良い でしょう 。 </div></span>"
            ]
          },
          "metadata": {}
        },
        {
          "output_type": "stream",
          "name": "stdout",
          "text": [
            "正解：\n"
          ]
        },
        {
          "output_type": "display_data",
          "data": {
            "text/plain": [
              "<IPython.core.display.HTML object>"
            ],
            "text/html": [
              "<span class=\"tex2jax_ignore\"><div class=\"entities\" style=\"line-height: 2.5; direction: ltr\">４４ 度 ぐらい が 良い でしょう 。 </div></span>"
            ]
          },
          "metadata": {}
        },
        {
          "output_type": "stream",
          "name": "stdout",
          "text": [
            "----------\n"
          ]
        },
        {
          "output_type": "display_data",
          "data": {
            "text/plain": [
              "<IPython.core.display.HTML object>"
            ],
            "text/html": [
              "<span class=\"tex2jax_ignore\"><div class=\"entities\" style=\"line-height: 2.5; direction: ltr\">\n",
              "<mark class=\"entity\" style=\"background: #81ecec; padding: 0.45em 0.6em; margin: 0 0.25em; line-height: 1; border-radius: 0.35em;\">\n",
              "    今日\n",
              "    <span style=\"font-size: 0.8em; font-weight: bold; line-height: 1; border-radius: 0.35em; vertical-align: middle; margin-left: 0.5rem\">DATE</span>\n",
              "</mark>\n",
              " も 何も 口 に して い ませ ん 。 </div></span>"
            ]
          },
          "metadata": {}
        },
        {
          "output_type": "stream",
          "name": "stdout",
          "text": [
            "----------\n",
            "モデルの予測：\n"
          ]
        },
        {
          "output_type": "display_data",
          "data": {
            "text/plain": [
              "<IPython.core.display.HTML object>"
            ],
            "text/html": [
              "<span class=\"tex2jax_ignore\"><div class=\"entities\" style=\"line-height: 2.5; direction: ltr\">\n",
              "<mark class=\"entity\" style=\"background: #dfe6e9; padding: 0.45em 0.6em; margin: 0 0.25em; line-height: 1; border-radius: 0.35em;\">\n",
              "    モーニング\n",
              "    <span style=\"font-size: 0.8em; font-weight: bold; line-height: 1; border-radius: 0.35em; vertical-align: middle; margin-left: 0.5rem\">ORGANIZATION</span>\n",
              "</mark>\n",
              " スター 代表 取締 役 社長 と して 最後の 務め だった 。 </div></span>"
            ]
          },
          "metadata": {}
        },
        {
          "output_type": "stream",
          "name": "stdout",
          "text": [
            "正解：\n"
          ]
        },
        {
          "output_type": "display_data",
          "data": {
            "text/plain": [
              "<IPython.core.display.HTML object>"
            ],
            "text/html": [
              "<span class=\"tex2jax_ignore\"><div class=\"entities\" style=\"line-height: 2.5; direction: ltr\">\n",
              "<mark class=\"entity\" style=\"background: #dfe6e9; padding: 0.45em 0.6em; margin: 0 0.25em; line-height: 1; border-radius: 0.35em;\">\n",
              "    モーニング スター\n",
              "    <span style=\"font-size: 0.8em; font-weight: bold; line-height: 1; border-radius: 0.35em; vertical-align: middle; margin-left: 0.5rem\">ORGANIZATION</span>\n",
              "</mark>\n",
              " 代表 取締 役 社長 と して 最後の 務め だった 。 </div></span>"
            ]
          },
          "metadata": {}
        },
        {
          "output_type": "stream",
          "name": "stdout",
          "text": [
            "----------\n"
          ]
        },
        {
          "output_type": "display_data",
          "data": {
            "text/plain": [
              "<IPython.core.display.HTML object>"
            ],
            "text/html": [
              "<span class=\"tex2jax_ignore\"><div class=\"entities\" style=\"line-height: 2.5; direction: ltr\">私 と 嫁 と の \n",
              "<mark class=\"entity\" style=\"background: #74b9ff; padding: 0.45em 0.6em; margin: 0 0.25em; line-height: 1; border-radius: 0.35em;\">\n",
              "    ソウル\n",
              "    <span style=\"font-size: 0.8em; font-weight: bold; line-height: 1; border-radius: 0.35em; vertical-align: middle; margin-left: 0.5rem\">LOCATION</span>\n",
              "</mark>\n",
              " ２ 人 旅 だ 。 </div></span>"
            ]
          },
          "metadata": {}
        },
        {
          "output_type": "stream",
          "name": "stdout",
          "text": [
            "----------\n",
            "モデルの予測：\n"
          ]
        },
        {
          "output_type": "display_data",
          "data": {
            "text/plain": [
              "<IPython.core.display.HTML object>"
            ],
            "text/html": [
              "<span class=\"tex2jax_ignore\"><div class=\"entities\" style=\"line-height: 2.5; direction: ltr\">\n",
              "<mark class=\"entity\" style=\"background: #74b9ff; padding: 0.45em 0.6em; margin: 0 0.25em; line-height: 1; border-radius: 0.35em;\">\n",
              "    広島 空港\n",
              "    <span style=\"font-size: 0.8em; font-weight: bold; line-height: 1; border-radius: 0.35em; vertical-align: middle; margin-left: 0.5rem\">LOCATION</span>\n",
              "</mark>\n",
              " から 約 １ 時間 半 で あっという間 に \n",
              "<mark class=\"entity\" style=\"background: #74b9ff; padding: 0.45em 0.6em; margin: 0 0.25em; line-height: 1; border-radius: 0.35em;\">\n",
              "    ソウル\n",
              "    <span style=\"font-size: 0.8em; font-weight: bold; line-height: 1; border-radius: 0.35em; vertical-align: middle; margin-left: 0.5rem\">LOCATION</span>\n",
              "</mark>\n",
              " に 到着 した 。 </div></span>"
            ]
          },
          "metadata": {}
        },
        {
          "output_type": "stream",
          "name": "stdout",
          "text": [
            "正解：\n"
          ]
        },
        {
          "output_type": "display_data",
          "data": {
            "text/plain": [
              "<IPython.core.display.HTML object>"
            ],
            "text/html": [
              "<span class=\"tex2jax_ignore\"><div class=\"entities\" style=\"line-height: 2.5; direction: ltr\">\n",
              "<mark class=\"entity\" style=\"background: #74b9ff; padding: 0.45em 0.6em; margin: 0 0.25em; line-height: 1; border-radius: 0.35em;\">\n",
              "    広島 空港\n",
              "    <span style=\"font-size: 0.8em; font-weight: bold; line-height: 1; border-radius: 0.35em; vertical-align: middle; margin-left: 0.5rem\">LOCATION</span>\n",
              "</mark>\n",
              " から \n",
              "<mark class=\"entity\" style=\"background: #fd79a8; padding: 0.45em 0.6em; margin: 0 0.25em; line-height: 1; border-radius: 0.35em;\">\n",
              "    約 １ 時間 半\n",
              "    <span style=\"font-size: 0.8em; font-weight: bold; line-height: 1; border-radius: 0.35em; vertical-align: middle; margin-left: 0.5rem\">TIME</span>\n",
              "</mark>\n",
              " で あっという間 に \n",
              "<mark class=\"entity\" style=\"background: #74b9ff; padding: 0.45em 0.6em; margin: 0 0.25em; line-height: 1; border-radius: 0.35em;\">\n",
              "    ソウル\n",
              "    <span style=\"font-size: 0.8em; font-weight: bold; line-height: 1; border-radius: 0.35em; vertical-align: middle; margin-left: 0.5rem\">LOCATION</span>\n",
              "</mark>\n",
              " に 到着 した 。 </div></span>"
            ]
          },
          "metadata": {}
        },
        {
          "output_type": "stream",
          "name": "stdout",
          "text": [
            "----------\n"
          ]
        },
        {
          "output_type": "display_data",
          "data": {
            "text/plain": [
              "<IPython.core.display.HTML object>"
            ],
            "text/html": [
              "<span class=\"tex2jax_ignore\"><div class=\"entities\" style=\"line-height: 2.5; direction: ltr\">「 \n",
              "<mark class=\"entity\" style=\"background: #55efc4; padding: 0.45em 0.6em; margin: 0 0.25em; line-height: 1; border-radius: 0.35em;\">\n",
              "    美人 化 計画\n",
              "    <span style=\"font-size: 0.8em; font-weight: bold; line-height: 1; border-radius: 0.35em; vertical-align: middle; margin-left: 0.5rem\">ARTIFACT</span>\n",
              "</mark>\n",
              " 」 第 二 弾 は 、 ベース メイク に ついて 。 </div></span>"
            ]
          },
          "metadata": {}
        },
        {
          "output_type": "stream",
          "name": "stdout",
          "text": [
            "----------\n"
          ]
        },
        {
          "output_type": "display_data",
          "data": {
            "text/plain": [
              "<IPython.core.display.HTML object>"
            ],
            "text/html": [
              "<span class=\"tex2jax_ignore\"><div class=\"entities\" style=\"line-height: 2.5; direction: ltr\">仕事 復帰 は はやくて も 、 \n",
              "<mark class=\"entity\" style=\"background: #81ecec; padding: 0.45em 0.6em; margin: 0 0.25em; line-height: 1; border-radius: 0.35em;\">\n",
              "    平成 ２３ 年 夏\n",
              "    <span style=\"font-size: 0.8em; font-weight: bold; line-height: 1; border-radius: 0.35em; vertical-align: middle; margin-left: 0.5rem\">DATE</span>\n",
              "</mark>\n",
              " 以降 を 予定 して おり ます 。 </div></span>"
            ]
          },
          "metadata": {}
        },
        {
          "output_type": "stream",
          "name": "stdout",
          "text": [
            "----------\n"
          ]
        },
        {
          "output_type": "display_data",
          "data": {
            "text/plain": [
              "<IPython.core.display.HTML object>"
            ],
            "text/html": [
              "<span class=\"tex2jax_ignore\"><div class=\"entities\" style=\"line-height: 2.5; direction: ltr\">開所 時間 は ， \n",
              "<mark class=\"entity\" style=\"background: #fd79a8; padding: 0.45em 0.6em; margin: 0 0.25em; line-height: 1; border-radius: 0.35em;\">\n",
              "    午前 ７ 時\n",
              "    <span style=\"font-size: 0.8em; font-weight: bold; line-height: 1; border-radius: 0.35em; vertical-align: middle; margin-left: 0.5rem\">TIME</span>\n",
              "</mark>\n",
              " から \n",
              "<mark class=\"entity\" style=\"background: #fd79a8; padding: 0.45em 0.6em; margin: 0 0.25em; line-height: 1; border-radius: 0.35em;\">\n",
              "    午後 ６ 時\n",
              "    <span style=\"font-size: 0.8em; font-weight: bold; line-height: 1; border-radius: 0.35em; vertical-align: middle; margin-left: 0.5rem\">TIME</span>\n",
              "</mark>\n",
              " まで です 。 </div></span>"
            ]
          },
          "metadata": {}
        },
        {
          "output_type": "stream",
          "name": "stdout",
          "text": [
            "----------\n"
          ]
        },
        {
          "output_type": "display_data",
          "data": {
            "text/plain": [
              "<IPython.core.display.HTML object>"
            ],
            "text/html": [
              "<span class=\"tex2jax_ignore\"><div class=\"entities\" style=\"line-height: 2.5; direction: ltr\">ビデンス は 原産 地 が \n",
              "<mark class=\"entity\" style=\"background: #74b9ff; padding: 0.45em 0.6em; margin: 0 0.25em; line-height: 1; border-radius: 0.35em;\">\n",
              "    メキシコ\n",
              "    <span style=\"font-size: 0.8em; font-weight: bold; line-height: 1; border-radius: 0.35em; vertical-align: middle; margin-left: 0.5rem\">LOCATION</span>\n",
              "</mark>\n",
              " であり 、 品種 が おおい 植物 と して よく 知ら れて い ます 。 </div></span>"
            ]
          },
          "metadata": {}
        },
        {
          "output_type": "stream",
          "name": "stdout",
          "text": [
            "----------\n"
          ]
        },
        {
          "output_type": "display_data",
          "data": {
            "text/plain": [
              "<IPython.core.display.HTML object>"
            ],
            "text/html": [
              "<span class=\"tex2jax_ignore\"><div class=\"entities\" style=\"line-height: 2.5; direction: ltr\">その 中 に は 一部 \n",
              "<mark class=\"entity\" style=\"background: #74b9ff; padding: 0.45em 0.6em; margin: 0 0.25em; line-height: 1; border-radius: 0.35em;\">\n",
              "    日本\n",
              "    <span style=\"font-size: 0.8em; font-weight: bold; line-height: 1; border-radius: 0.35em; vertical-align: middle; margin-left: 0.5rem\">LOCATION</span>\n",
              "</mark>\n",
              " に 帰化 して いる もの も 存在 し ます 。 </div></span>"
            ]
          },
          "metadata": {}
        },
        {
          "output_type": "stream",
          "name": "stdout",
          "text": [
            "----------\n",
            "モデルの予測：\n"
          ]
        },
        {
          "output_type": "display_data",
          "data": {
            "text/plain": [
              "<IPython.core.display.HTML object>"
            ],
            "text/html": [
              "<span class=\"tex2jax_ignore\"><div class=\"entities\" style=\"line-height: 2.5; direction: ltr\">収穫 期 を 迎えた \n",
              "<mark class=\"entity\" style=\"background: #74b9ff; padding: 0.45em 0.6em; margin: 0 0.25em; line-height: 1; border-radius: 0.35em;\">\n",
              "    沖縄\n",
              "    <span style=\"font-size: 0.8em; font-weight: bold; line-height: 1; border-radius: 0.35em; vertical-align: middle; margin-left: 0.5rem\">LOCATION</span>\n",
              "</mark>\n",
              " モズク は 、 漁師 が 海中 に 潜り 、 バキューム ホース で 船上 へ と 吸い 上げ られ ます 。 </div></span>"
            ]
          },
          "metadata": {}
        },
        {
          "output_type": "stream",
          "name": "stdout",
          "text": [
            "正解：\n"
          ]
        },
        {
          "output_type": "display_data",
          "data": {
            "text/plain": [
              "<IPython.core.display.HTML object>"
            ],
            "text/html": [
              "<span class=\"tex2jax_ignore\"><div class=\"entities\" style=\"line-height: 2.5; direction: ltr\">収穫 期 を 迎えた 沖縄 モズク は 、 漁師 が 海中 に 潜り 、 バキューム ホース で 船上 へ と 吸い 上げ られ ます 。 </div></span>"
            ]
          },
          "metadata": {}
        },
        {
          "output_type": "stream",
          "name": "stdout",
          "text": [
            "----------\n",
            "モデルの予測：\n"
          ]
        },
        {
          "output_type": "display_data",
          "data": {
            "text/plain": [
              "<IPython.core.display.HTML object>"
            ],
            "text/html": [
              "<span class=\"tex2jax_ignore\"><div class=\"entities\" style=\"line-height: 2.5; direction: ltr\">収穫 さ れた \n",
              "<mark class=\"entity\" style=\"background: #74b9ff; padding: 0.45em 0.6em; margin: 0 0.25em; line-height: 1; border-radius: 0.35em;\">\n",
              "    沖縄\n",
              "    <span style=\"font-size: 0.8em; font-weight: bold; line-height: 1; border-radius: 0.35em; vertical-align: middle; margin-left: 0.5rem\">LOCATION</span>\n",
              "</mark>\n",
              " もずく は 直ちに 水揚げ さ れ 、 専用 加工 工場 へ と 運ば れ ます 。 </div></span>"
            ]
          },
          "metadata": {}
        },
        {
          "output_type": "stream",
          "name": "stdout",
          "text": [
            "正解：\n"
          ]
        },
        {
          "output_type": "display_data",
          "data": {
            "text/plain": [
              "<IPython.core.display.HTML object>"
            ],
            "text/html": [
              "<span class=\"tex2jax_ignore\"><div class=\"entities\" style=\"line-height: 2.5; direction: ltr\">収穫 さ れた 沖縄 もずく は 直ちに 水揚げ さ れ 、 専用 加工 工場 へ と 運ば れ ます 。 </div></span>"
            ]
          },
          "metadata": {}
        },
        {
          "output_type": "stream",
          "name": "stdout",
          "text": [
            "----------\n",
            "モデルの予測：\n"
          ]
        },
        {
          "output_type": "display_data",
          "data": {
            "text/plain": [
              "<IPython.core.display.HTML object>"
            ],
            "text/html": [
              "<span class=\"tex2jax_ignore\"><div class=\"entities\" style=\"line-height: 2.5; direction: ltr\">九 月 の 行事 と いう と 、 敬老 の 日 ・ 十五夜 など が あり ます 。 </div></span>"
            ]
          },
          "metadata": {}
        },
        {
          "output_type": "stream",
          "name": "stdout",
          "text": [
            "正解：\n"
          ]
        },
        {
          "output_type": "display_data",
          "data": {
            "text/plain": [
              "<IPython.core.display.HTML object>"
            ],
            "text/html": [
              "<span class=\"tex2jax_ignore\"><div class=\"entities\" style=\"line-height: 2.5; direction: ltr\">\n",
              "<mark class=\"entity\" style=\"background: #81ecec; padding: 0.45em 0.6em; margin: 0 0.25em; line-height: 1; border-radius: 0.35em;\">\n",
              "    九 月\n",
              "    <span style=\"font-size: 0.8em; font-weight: bold; line-height: 1; border-radius: 0.35em; vertical-align: middle; margin-left: 0.5rem\">DATE</span>\n",
              "</mark>\n",
              " の 行事 と いう と 、 敬老 の 日 ・ 十五夜 など が あり ます 。 </div></span>"
            ]
          },
          "metadata": {}
        },
        {
          "output_type": "stream",
          "name": "stdout",
          "text": [
            "----------\n",
            "モデルの予測：\n"
          ]
        },
        {
          "output_type": "display_data",
          "data": {
            "text/plain": [
              "<IPython.core.display.HTML object>"
            ],
            "text/html": [
              "<span class=\"tex2jax_ignore\"><div class=\"entities\" style=\"line-height: 2.5; direction: ltr\">\n",
              "<mark class=\"entity\" style=\"background: #81ecec; padding: 0.45em 0.6em; margin: 0 0.25em; line-height: 1; border-radius: 0.35em;\">\n",
              "    敬老\n",
              "    <span style=\"font-size: 0.8em; font-weight: bold; line-height: 1; border-radius: 0.35em; vertical-align: middle; margin-left: 0.5rem\">DATE</span>\n",
              "</mark>\n",
              " の 日 は \n",
              "<mark class=\"entity\" style=\"background: #fab1a0; padding: 0.45em 0.6em; margin: 0 0.25em; line-height: 1; border-radius: 0.35em;\">\n",
              "    聖徳 太子\n",
              "    <span style=\"font-size: 0.8em; font-weight: bold; line-height: 1; border-radius: 0.35em; vertical-align: middle; margin-left: 0.5rem\">PERSON</span>\n",
              "</mark>\n",
              " に ちなんだ 由来 が あり 、 十五夜 は \n",
              "<mark class=\"entity\" style=\"background: #74b9ff; padding: 0.45em 0.6em; margin: 0 0.25em; line-height: 1; border-radius: 0.35em;\">\n",
              "    中国\n",
              "    <span style=\"font-size: 0.8em; font-weight: bold; line-height: 1; border-radius: 0.35em; vertical-align: middle; margin-left: 0.5rem\">LOCATION</span>\n",
              "</mark>\n",
              " から 取り入れ られた もの です 。 </div></span>"
            ]
          },
          "metadata": {}
        },
        {
          "output_type": "stream",
          "name": "stdout",
          "text": [
            "正解：\n"
          ]
        },
        {
          "output_type": "display_data",
          "data": {
            "text/plain": [
              "<IPython.core.display.HTML object>"
            ],
            "text/html": [
              "<span class=\"tex2jax_ignore\"><div class=\"entities\" style=\"line-height: 2.5; direction: ltr\">敬老 の 日 は \n",
              "<mark class=\"entity\" style=\"background: #fab1a0; padding: 0.45em 0.6em; margin: 0 0.25em; line-height: 1; border-radius: 0.35em;\">\n",
              "    聖徳 太子\n",
              "    <span style=\"font-size: 0.8em; font-weight: bold; line-height: 1; border-radius: 0.35em; vertical-align: middle; margin-left: 0.5rem\">PERSON</span>\n",
              "</mark>\n",
              " に ちなんだ 由来 が あり 、 十五夜 は \n",
              "<mark class=\"entity\" style=\"background: #74b9ff; padding: 0.45em 0.6em; margin: 0 0.25em; line-height: 1; border-radius: 0.35em;\">\n",
              "    中国\n",
              "    <span style=\"font-size: 0.8em; font-weight: bold; line-height: 1; border-radius: 0.35em; vertical-align: middle; margin-left: 0.5rem\">LOCATION</span>\n",
              "</mark>\n",
              " から 取り入れ られた もの です 。 </div></span>"
            ]
          },
          "metadata": {}
        },
        {
          "output_type": "stream",
          "name": "stdout",
          "text": [
            "----------\n"
          ]
        },
        {
          "output_type": "display_data",
          "data": {
            "text/plain": [
              "<IPython.core.display.HTML object>"
            ],
            "text/html": [
              "<span class=\"tex2jax_ignore\"><div class=\"entities\" style=\"line-height: 2.5; direction: ltr\">\n",
              "<mark class=\"entity\" style=\"background: #81ecec; padding: 0.45em 0.6em; margin: 0 0.25em; line-height: 1; border-radius: 0.35em;\">\n",
              "    ８ 月 １５ 日\n",
              "    <span style=\"font-size: 0.8em; font-weight: bold; line-height: 1; border-radius: 0.35em; vertical-align: middle; margin-left: 0.5rem\">DATE</span>\n",
              "</mark>\n",
              " は 、 \n",
              "<mark class=\"entity\" style=\"background: #74b9ff; padding: 0.45em 0.6em; margin: 0 0.25em; line-height: 1; border-radius: 0.35em;\">\n",
              "    日本\n",
              "    <span style=\"font-size: 0.8em; font-weight: bold; line-height: 1; border-radius: 0.35em; vertical-align: middle; margin-left: 0.5rem\">LOCATION</span>\n",
              "</mark>\n",
              " 人 に とって 、 ナショナリズム と いう 問題 を 考え ず に は い られ ない 日 です 。 </div></span>"
            ]
          },
          "metadata": {}
        },
        {
          "output_type": "stream",
          "name": "stdout",
          "text": [
            "----------\n"
          ]
        },
        {
          "output_type": "display_data",
          "data": {
            "text/plain": [
              "<IPython.core.display.HTML object>"
            ],
            "text/html": [
              "<span class=\"tex2jax_ignore\"><div class=\"entities\" style=\"line-height: 2.5; direction: ltr\">そこ で 、 \n",
              "<mark class=\"entity\" style=\"background: #81ecec; padding: 0.45em 0.6em; margin: 0 0.25em; line-height: 1; border-radius: 0.35em;\">\n",
              "    今日\n",
              "    <span style=\"font-size: 0.8em; font-weight: bold; line-height: 1; border-radius: 0.35em; vertical-align: middle; margin-left: 0.5rem\">DATE</span>\n",
              "</mark>\n",
              " は 、 若者 の ナショナリズム に ついて 論じて み たい と 思い ます 。 </div></span>"
            ]
          },
          "metadata": {}
        },
        {
          "output_type": "stream",
          "name": "stdout",
          "text": [
            "----------\n",
            "モデルの予測：\n"
          ]
        },
        {
          "output_type": "display_data",
          "data": {
            "text/plain": [
              "<IPython.core.display.HTML object>"
            ],
            "text/html": [
              "<span class=\"tex2jax_ignore\"><div class=\"entities\" style=\"line-height: 2.5; direction: ltr\">９０ 年 代 中盤 以降 より 、 右傾 化 や ナショナリズム の 傾向 が 若者 の 間 で 高まって いる 、 と 言わ れて い ます 。 </div></span>"
            ]
          },
          "metadata": {}
        },
        {
          "output_type": "stream",
          "name": "stdout",
          "text": [
            "正解：\n"
          ]
        },
        {
          "output_type": "display_data",
          "data": {
            "text/plain": [
              "<IPython.core.display.HTML object>"
            ],
            "text/html": [
              "<span class=\"tex2jax_ignore\"><div class=\"entities\" style=\"line-height: 2.5; direction: ltr\">\n",
              "<mark class=\"entity\" style=\"background: #81ecec; padding: 0.45em 0.6em; margin: 0 0.25em; line-height: 1; border-radius: 0.35em;\">\n",
              "    ９０ 年 代 中盤 以降\n",
              "    <span style=\"font-size: 0.8em; font-weight: bold; line-height: 1; border-radius: 0.35em; vertical-align: middle; margin-left: 0.5rem\">DATE</span>\n",
              "</mark>\n",
              " より 、 右傾 化 や ナショナリズム の 傾向 が 若者 の 間 で 高まって いる 、 と 言わ れて い ます 。 </div></span>"
            ]
          },
          "metadata": {}
        },
        {
          "output_type": "stream",
          "name": "stdout",
          "text": [
            "----------\n"
          ]
        },
        {
          "output_type": "display_data",
          "data": {
            "text/plain": [
              "<IPython.core.display.HTML object>"
            ],
            "text/html": [
              "<span class=\"tex2jax_ignore\"><div class=\"entities\" style=\"line-height: 2.5; direction: ltr\">イスラム 教徒 が 多い \n",
              "<mark class=\"entity\" style=\"background: #74b9ff; padding: 0.45em 0.6em; margin: 0 0.25em; line-height: 1; border-radius: 0.35em;\">\n",
              "    インドネシア\n",
              "    <span style=\"font-size: 0.8em; font-weight: bold; line-height: 1; border-radius: 0.35em; vertical-align: middle; margin-left: 0.5rem\">LOCATION</span>\n",
              "</mark>\n",
              " の 中 で 、 \n",
              "<mark class=\"entity\" style=\"background: #74b9ff; padding: 0.45em 0.6em; margin: 0 0.25em; line-height: 1; border-radius: 0.35em;\">\n",
              "    バリ 島\n",
              "    <span style=\"font-size: 0.8em; font-weight: bold; line-height: 1; border-radius: 0.35em; vertical-align: middle; margin-left: 0.5rem\">LOCATION</span>\n",
              "</mark>\n",
              " で は ヒンドゥー 教徒 が 多数 を 占める 。 </div></span>"
            ]
          },
          "metadata": {}
        },
        {
          "output_type": "stream",
          "name": "stdout",
          "text": [
            "----------\n"
          ]
        },
        {
          "output_type": "display_data",
          "data": {
            "text/plain": [
              "<IPython.core.display.HTML object>"
            ],
            "text/html": [
              "<span class=\"tex2jax_ignore\"><div class=\"entities\" style=\"line-height: 2.5; direction: ltr\">\n",
              "<mark class=\"entity\" style=\"background: #dfe6e9; padding: 0.45em 0.6em; margin: 0 0.25em; line-height: 1; border-radius: 0.35em;\">\n",
              "    佐賀 県 佐賀 市 役所\n",
              "    <span style=\"font-size: 0.8em; font-weight: bold; line-height: 1; border-radius: 0.35em; vertical-align: middle; margin-left: 0.5rem\">ORGANIZATION</span>\n",
              "</mark>\n",
              " 様 で は 豊富な 導入 実績 ・ サポート 力 を 評価 頂き 、 議事 録 作成 支援 システム を 導入 いただき ました 。 </div></span>"
            ]
          },
          "metadata": {}
        },
        {
          "output_type": "stream",
          "name": "stdout",
          "text": [
            "----------\n",
            "モデルの予測：\n"
          ]
        },
        {
          "output_type": "display_data",
          "data": {
            "text/plain": [
              "<IPython.core.display.HTML object>"
            ],
            "text/html": [
              "<span class=\"tex2jax_ignore\"><div class=\"entities\" style=\"line-height: 2.5; direction: ltr\">導入 後 の 業務 の 変化 に ついて 、 \n",
              "<mark class=\"entity\" style=\"background: #dfe6e9; padding: 0.45em 0.6em; margin: 0 0.25em; line-height: 1; border-radius: 0.35em;\">\n",
              "    佐賀\n",
              "    <span style=\"font-size: 0.8em; font-weight: bold; line-height: 1; border-radius: 0.35em; vertical-align: middle; margin-left: 0.5rem\">ORGANIZATION</span>\n",
              "</mark>\n",
              " 市 議会 事務 局 様 に お 話 を 伺い ました 。 </div></span>"
            ]
          },
          "metadata": {}
        },
        {
          "output_type": "stream",
          "name": "stdout",
          "text": [
            "正解：\n"
          ]
        },
        {
          "output_type": "display_data",
          "data": {
            "text/plain": [
              "<IPython.core.display.HTML object>"
            ],
            "text/html": [
              "<span class=\"tex2jax_ignore\"><div class=\"entities\" style=\"line-height: 2.5; direction: ltr\">導入 後 の 業務 の 変化 に ついて 、 \n",
              "<mark class=\"entity\" style=\"background: #dfe6e9; padding: 0.45em 0.6em; margin: 0 0.25em; line-height: 1; border-radius: 0.35em;\">\n",
              "    佐賀 市 議会 事務 局\n",
              "    <span style=\"font-size: 0.8em; font-weight: bold; line-height: 1; border-radius: 0.35em; vertical-align: middle; margin-left: 0.5rem\">ORGANIZATION</span>\n",
              "</mark>\n",
              " 様 に お 話 を 伺い ました 。 </div></span>"
            ]
          },
          "metadata": {}
        },
        {
          "output_type": "stream",
          "name": "stdout",
          "text": [
            "----------\n",
            "モデルの予測：\n"
          ]
        },
        {
          "output_type": "display_data",
          "data": {
            "text/plain": [
              "<IPython.core.display.HTML object>"
            ],
            "text/html": [
              "<span class=\"tex2jax_ignore\"><div class=\"entities\" style=\"line-height: 2.5; direction: ltr\">\n",
              "<mark class=\"entity\" style=\"background: #74b9ff; padding: 0.45em 0.6em; margin: 0 0.25em; line-height: 1; border-radius: 0.35em;\">\n",
              "    沖縄 中部\n",
              "    <span style=\"font-size: 0.8em; font-weight: bold; line-height: 1; border-radius: 0.35em; vertical-align: middle; margin-left: 0.5rem\">LOCATION</span>\n",
              "</mark>\n",
              " の \n",
              "<mark class=\"entity\" style=\"background: #74b9ff; padding: 0.45em 0.6em; margin: 0 0.25em; line-height: 1; border-radius: 0.35em;\">\n",
              "    読谷 村\n",
              "    <span style=\"font-size: 0.8em; font-weight: bold; line-height: 1; border-radius: 0.35em; vertical-align: middle; margin-left: 0.5rem\">LOCATION</span>\n",
              "</mark>\n",
              " に ある 「 \n",
              "<mark class=\"entity\" style=\"background: #55efc4; padding: 0.45em 0.6em; margin: 0 0.25em; line-height: 1; border-radius: 0.35em;\">\n",
              "    座喜味城\n",
              "    <span style=\"font-size: 0.8em; font-weight: bold; line-height: 1; border-radius: 0.35em; vertical-align: middle; margin-left: 0.5rem\">ARTIFACT</span>\n",
              "</mark>\n",
              " 」 は 、 世界 遺産 に 指定 さ れた \n",
              "<mark class=\"entity\" style=\"background: #74b9ff; padding: 0.45em 0.6em; margin: 0 0.25em; line-height: 1; border-radius: 0.35em;\">\n",
              "    琉球\n",
              "    <span style=\"font-size: 0.8em; font-weight: bold; line-height: 1; border-radius: 0.35em; vertical-align: middle; margin-left: 0.5rem\">LOCATION</span>\n",
              "</mark>\n",
              " の 城 の 一 つ です 。 </div></span>"
            ]
          },
          "metadata": {}
        },
        {
          "output_type": "stream",
          "name": "stdout",
          "text": [
            "正解：\n"
          ]
        },
        {
          "output_type": "display_data",
          "data": {
            "text/plain": [
              "<IPython.core.display.HTML object>"
            ],
            "text/html": [
              "<span class=\"tex2jax_ignore\"><div class=\"entities\" style=\"line-height: 2.5; direction: ltr\">\n",
              "<mark class=\"entity\" style=\"background: #74b9ff; padding: 0.45em 0.6em; margin: 0 0.25em; line-height: 1; border-radius: 0.35em;\">\n",
              "    沖縄\n",
              "    <span style=\"font-size: 0.8em; font-weight: bold; line-height: 1; border-radius: 0.35em; vertical-align: middle; margin-left: 0.5rem\">LOCATION</span>\n",
              "</mark>\n",
              " 中部 の \n",
              "<mark class=\"entity\" style=\"background: #74b9ff; padding: 0.45em 0.6em; margin: 0 0.25em; line-height: 1; border-radius: 0.35em;\">\n",
              "    読谷 村\n",
              "    <span style=\"font-size: 0.8em; font-weight: bold; line-height: 1; border-radius: 0.35em; vertical-align: middle; margin-left: 0.5rem\">LOCATION</span>\n",
              "</mark>\n",
              " に ある 「 \n",
              "<mark class=\"entity\" style=\"background: #55efc4; padding: 0.45em 0.6em; margin: 0 0.25em; line-height: 1; border-radius: 0.35em;\">\n",
              "    座喜味城\n",
              "    <span style=\"font-size: 0.8em; font-weight: bold; line-height: 1; border-radius: 0.35em; vertical-align: middle; margin-left: 0.5rem\">ARTIFACT</span>\n",
              "</mark>\n",
              " 」 は 、 世界 遺産 に 指定 さ れた \n",
              "<mark class=\"entity\" style=\"background: #74b9ff; padding: 0.45em 0.6em; margin: 0 0.25em; line-height: 1; border-radius: 0.35em;\">\n",
              "    琉球\n",
              "    <span style=\"font-size: 0.8em; font-weight: bold; line-height: 1; border-radius: 0.35em; vertical-align: middle; margin-left: 0.5rem\">LOCATION</span>\n",
              "</mark>\n",
              " の 城 の 一 つ です 。 </div></span>"
            ]
          },
          "metadata": {}
        },
        {
          "output_type": "stream",
          "name": "stdout",
          "text": [
            "----------\n",
            "モデルの予測：\n"
          ]
        },
        {
          "output_type": "display_data",
          "data": {
            "text/plain": [
              "<IPython.core.display.HTML object>"
            ],
            "text/html": [
              "<span class=\"tex2jax_ignore\"><div class=\"entities\" style=\"line-height: 2.5; direction: ltr\">\n",
              "<mark class=\"entity\" style=\"background: #dfe6e9; padding: 0.45em 0.6em; margin: 0 0.25em; line-height: 1; border-radius: 0.35em;\">\n",
              "    千葉 県下\n",
              "    <span style=\"font-size: 0.8em; font-weight: bold; line-height: 1; border-radius: 0.35em; vertical-align: middle; margin-left: 0.5rem\">ORGANIZATION</span>\n",
              "</mark>\n",
              " で ４０ 年 看板 製作 を 行って いる 会社 です 。 </div></span>"
            ]
          },
          "metadata": {}
        },
        {
          "output_type": "stream",
          "name": "stdout",
          "text": [
            "正解：\n"
          ]
        },
        {
          "output_type": "display_data",
          "data": {
            "text/plain": [
              "<IPython.core.display.HTML object>"
            ],
            "text/html": [
              "<span class=\"tex2jax_ignore\"><div class=\"entities\" style=\"line-height: 2.5; direction: ltr\">\n",
              "<mark class=\"entity\" style=\"background: #74b9ff; padding: 0.45em 0.6em; margin: 0 0.25em; line-height: 1; border-radius: 0.35em;\">\n",
              "    千葉\n",
              "    <span style=\"font-size: 0.8em; font-weight: bold; line-height: 1; border-radius: 0.35em; vertical-align: middle; margin-left: 0.5rem\">LOCATION</span>\n",
              "</mark>\n",
              " 県下 で ４０ 年 看板 製作 を 行って いる 会社 です 。 </div></span>"
            ]
          },
          "metadata": {}
        },
        {
          "output_type": "stream",
          "name": "stdout",
          "text": [
            "----------\n",
            "モデルの予測：\n"
          ]
        },
        {
          "output_type": "display_data",
          "data": {
            "text/plain": [
              "<IPython.core.display.HTML object>"
            ],
            "text/html": [
              "<span class=\"tex2jax_ignore\"><div class=\"entities\" style=\"line-height: 2.5; direction: ltr\">\n",
              "<mark class=\"entity\" style=\"background: #81ecec; padding: 0.45em 0.6em; margin: 0 0.25em; line-height: 1; border-radius: 0.35em;\">\n",
              "    去年\n",
              "    <span style=\"font-size: 0.8em; font-weight: bold; line-height: 1; border-radius: 0.35em; vertical-align: middle; margin-left: 0.5rem\">DATE</span>\n",
              "</mark>\n",
              " も 好評 だった ワンピース が \n",
              "<mark class=\"entity\" style=\"background: #81ecec; padding: 0.45em 0.6em; margin: 0 0.25em; line-height: 1; border-radius: 0.35em;\">\n",
              "    今年\n",
              "    <span style=\"font-size: 0.8em; font-weight: bold; line-height: 1; border-radius: 0.35em; vertical-align: middle; margin-left: 0.5rem\">DATE</span>\n",
              "</mark>\n",
              " は ペーズリー 柄 に なって 再 登場 です 。 </div></span>"
            ]
          },
          "metadata": {}
        },
        {
          "output_type": "stream",
          "name": "stdout",
          "text": [
            "正解：\n"
          ]
        },
        {
          "output_type": "display_data",
          "data": {
            "text/plain": [
              "<IPython.core.display.HTML object>"
            ],
            "text/html": [
              "<span class=\"tex2jax_ignore\"><div class=\"entities\" style=\"line-height: 2.5; direction: ltr\">去年 も 好評 だった ワンピース が \n",
              "<mark class=\"entity\" style=\"background: #81ecec; padding: 0.45em 0.6em; margin: 0 0.25em; line-height: 1; border-radius: 0.35em;\">\n",
              "    今年\n",
              "    <span style=\"font-size: 0.8em; font-weight: bold; line-height: 1; border-radius: 0.35em; vertical-align: middle; margin-left: 0.5rem\">DATE</span>\n",
              "</mark>\n",
              " は ペーズリー 柄 に なって 再 登場 です 。 </div></span>"
            ]
          },
          "metadata": {}
        },
        {
          "output_type": "stream",
          "name": "stdout",
          "text": [
            "----------\n",
            "モデルの予測：\n"
          ]
        },
        {
          "output_type": "display_data",
          "data": {
            "text/plain": [
              "<IPython.core.display.HTML object>"
            ],
            "text/html": [
              "<span class=\"tex2jax_ignore\"><div class=\"entities\" style=\"line-height: 2.5; direction: ltr\">ミニ 厨房 庵 ドール ハウス を 、 ご ゆっくり ご覧 下さい 。 </div></span>"
            ]
          },
          "metadata": {}
        },
        {
          "output_type": "stream",
          "name": "stdout",
          "text": [
            "正解：\n"
          ]
        },
        {
          "output_type": "display_data",
          "data": {
            "text/plain": [
              "<IPython.core.display.HTML object>"
            ],
            "text/html": [
              "<span class=\"tex2jax_ignore\"><div class=\"entities\" style=\"line-height: 2.5; direction: ltr\">\n",
              "<mark class=\"entity\" style=\"background: #55efc4; padding: 0.45em 0.6em; margin: 0 0.25em; line-height: 1; border-radius: 0.35em;\">\n",
              "    ミニ 厨房 庵 ドール ハウス\n",
              "    <span style=\"font-size: 0.8em; font-weight: bold; line-height: 1; border-radius: 0.35em; vertical-align: middle; margin-left: 0.5rem\">ARTIFACT</span>\n",
              "</mark>\n",
              " を 、 ご ゆっくり ご覧 下さい 。 </div></span>"
            ]
          },
          "metadata": {}
        },
        {
          "output_type": "stream",
          "name": "stdout",
          "text": [
            "----------\n",
            "モデルの予測：\n"
          ]
        },
        {
          "output_type": "display_data",
          "data": {
            "text/plain": [
              "<IPython.core.display.HTML object>"
            ],
            "text/html": [
              "<span class=\"tex2jax_ignore\"><div class=\"entities\" style=\"line-height: 2.5; direction: ltr\">\n",
              "<mark class=\"entity\" style=\"background: #81ecec; padding: 0.45em 0.6em; margin: 0 0.25em; line-height: 1; border-radius: 0.35em;\">\n",
              "    １１ 月 ２１ 日\n",
              "    <span style=\"font-size: 0.8em; font-weight: bold; line-height: 1; border-radius: 0.35em; vertical-align: middle; margin-left: 0.5rem\">DATE</span>\n",
              "</mark>\n",
              " 、 \n",
              "<mark class=\"entity\" style=\"background: #dfe6e9; padding: 0.45em 0.6em; margin: 0 0.25em; line-height: 1; border-radius: 0.35em;\">\n",
              "    玉津 公民 館\n",
              "    <span style=\"font-size: 0.8em; font-weight: bold; line-height: 1; border-radius: 0.35em; vertical-align: middle; margin-left: 0.5rem\">ORGANIZATION</span>\n",
              "</mark>\n",
              " と 玉津 小学校 で 玉津 校区 文化 祭 が 開催 さ れ ました 。 </div></span>"
            ]
          },
          "metadata": {}
        },
        {
          "output_type": "stream",
          "name": "stdout",
          "text": [
            "正解：\n"
          ]
        },
        {
          "output_type": "display_data",
          "data": {
            "text/plain": [
              "<IPython.core.display.HTML object>"
            ],
            "text/html": [
              "<span class=\"tex2jax_ignore\"><div class=\"entities\" style=\"line-height: 2.5; direction: ltr\">\n",
              "<mark class=\"entity\" style=\"background: #81ecec; padding: 0.45em 0.6em; margin: 0 0.25em; line-height: 1; border-radius: 0.35em;\">\n",
              "    １１ 月 ２１ 日\n",
              "    <span style=\"font-size: 0.8em; font-weight: bold; line-height: 1; border-radius: 0.35em; vertical-align: middle; margin-left: 0.5rem\">DATE</span>\n",
              "</mark>\n",
              " 、 \n",
              "<mark class=\"entity\" style=\"background: #74b9ff; padding: 0.45em 0.6em; margin: 0 0.25em; line-height: 1; border-radius: 0.35em;\">\n",
              "    玉津 公民 館\n",
              "    <span style=\"font-size: 0.8em; font-weight: bold; line-height: 1; border-radius: 0.35em; vertical-align: middle; margin-left: 0.5rem\">LOCATION</span>\n",
              "</mark>\n",
              " と \n",
              "<mark class=\"entity\" style=\"background: #74b9ff; padding: 0.45em 0.6em; margin: 0 0.25em; line-height: 1; border-radius: 0.35em;\">\n",
              "    玉津 小学校\n",
              "    <span style=\"font-size: 0.8em; font-weight: bold; line-height: 1; border-radius: 0.35em; vertical-align: middle; margin-left: 0.5rem\">LOCATION</span>\n",
              "</mark>\n",
              " で \n",
              "<mark class=\"entity\" style=\"background: #74b9ff; padding: 0.45em 0.6em; margin: 0 0.25em; line-height: 1; border-radius: 0.35em;\">\n",
              "    玉津 校区\n",
              "    <span style=\"font-size: 0.8em; font-weight: bold; line-height: 1; border-radius: 0.35em; vertical-align: middle; margin-left: 0.5rem\">LOCATION</span>\n",
              "</mark>\n",
              " 文化 祭 が 開催 さ れ ました 。 </div></span>"
            ]
          },
          "metadata": {}
        },
        {
          "output_type": "stream",
          "name": "stdout",
          "text": [
            "----------\n",
            "モデルの予測：\n"
          ]
        },
        {
          "output_type": "display_data",
          "data": {
            "text/plain": [
              "<IPython.core.display.HTML object>"
            ],
            "text/html": [
              "<span class=\"tex2jax_ignore\"><div class=\"entities\" style=\"line-height: 2.5; direction: ltr\">本校 の 音楽 部 は 玉津 公民 館 の 催し物 に 参加 し 、 合唱 の 発表 を 行い ました 。 </div></span>"
            ]
          },
          "metadata": {}
        },
        {
          "output_type": "stream",
          "name": "stdout",
          "text": [
            "正解：\n"
          ]
        },
        {
          "output_type": "display_data",
          "data": {
            "text/plain": [
              "<IPython.core.display.HTML object>"
            ],
            "text/html": [
              "<span class=\"tex2jax_ignore\"><div class=\"entities\" style=\"line-height: 2.5; direction: ltr\">本校 の 音楽 部 は \n",
              "<mark class=\"entity\" style=\"background: #74b9ff; padding: 0.45em 0.6em; margin: 0 0.25em; line-height: 1; border-radius: 0.35em;\">\n",
              "    玉津 公民 館\n",
              "    <span style=\"font-size: 0.8em; font-weight: bold; line-height: 1; border-radius: 0.35em; vertical-align: middle; margin-left: 0.5rem\">LOCATION</span>\n",
              "</mark>\n",
              " の 催し物 に 参加 し 、 合唱 の 発表 を 行い ました 。 </div></span>"
            ]
          },
          "metadata": {}
        },
        {
          "output_type": "stream",
          "name": "stdout",
          "text": [
            "----------\n",
            "モデルの予測：\n"
          ]
        },
        {
          "output_type": "display_data",
          "data": {
            "text/plain": [
              "<IPython.core.display.HTML object>"
            ],
            "text/html": [
              "<span class=\"tex2jax_ignore\"><div class=\"entities\" style=\"line-height: 2.5; direction: ltr\">この 公共 施設 予約 システム は 、 \n",
              "<mark class=\"entity\" style=\"background: #74b9ff; padding: 0.45em 0.6em; margin: 0 0.25em; line-height: 1; border-radius: 0.35em;\">\n",
              "    霧島\n",
              "    <span style=\"font-size: 0.8em; font-weight: bold; line-height: 1; border-radius: 0.35em; vertical-align: middle; margin-left: 0.5rem\">LOCATION</span>\n",
              "</mark>\n",
              " 総合 支所 管 内 の 施設 のみ 予約 でき ます 。 </div></span>"
            ]
          },
          "metadata": {}
        },
        {
          "output_type": "stream",
          "name": "stdout",
          "text": [
            "正解：\n"
          ]
        },
        {
          "output_type": "display_data",
          "data": {
            "text/plain": [
              "<IPython.core.display.HTML object>"
            ],
            "text/html": [
              "<span class=\"tex2jax_ignore\"><div class=\"entities\" style=\"line-height: 2.5; direction: ltr\">この 公共 施設 予約 システム は 、 \n",
              "<mark class=\"entity\" style=\"background: #dfe6e9; padding: 0.45em 0.6em; margin: 0 0.25em; line-height: 1; border-radius: 0.35em;\">\n",
              "    霧島 総合 支所\n",
              "    <span style=\"font-size: 0.8em; font-weight: bold; line-height: 1; border-radius: 0.35em; vertical-align: middle; margin-left: 0.5rem\">ORGANIZATION</span>\n",
              "</mark>\n",
              " 管 内 の 施設 のみ 予約 でき ます 。 </div></span>"
            ]
          },
          "metadata": {}
        },
        {
          "output_type": "stream",
          "name": "stdout",
          "text": [
            "----------\n",
            "モデルの予測：\n"
          ]
        },
        {
          "output_type": "display_data",
          "data": {
            "text/plain": [
              "<IPython.core.display.HTML object>"
            ],
            "text/html": [
              "<span class=\"tex2jax_ignore\"><div class=\"entities\" style=\"line-height: 2.5; direction: ltr\">\n",
              "<mark class=\"entity\" style=\"background: #74b9ff; padding: 0.45em 0.6em; margin: 0 0.25em; line-height: 1; border-radius: 0.35em;\">\n",
              "    霧島\n",
              "    <span style=\"font-size: 0.8em; font-weight: bold; line-height: 1; border-radius: 0.35em; vertical-align: middle; margin-left: 0.5rem\">LOCATION</span>\n",
              "</mark>\n",
              " 総合 支所 </div></span>"
            ]
          },
          "metadata": {}
        },
        {
          "output_type": "stream",
          "name": "stdout",
          "text": [
            "正解：\n"
          ]
        },
        {
          "output_type": "display_data",
          "data": {
            "text/plain": [
              "<IPython.core.display.HTML object>"
            ],
            "text/html": [
              "<span class=\"tex2jax_ignore\"><div class=\"entities\" style=\"line-height: 2.5; direction: ltr\">\n",
              "<mark class=\"entity\" style=\"background: #dfe6e9; padding: 0.45em 0.6em; margin: 0 0.25em; line-height: 1; border-radius: 0.35em;\">\n",
              "    霧島 総合 支所\n",
              "    <span style=\"font-size: 0.8em; font-weight: bold; line-height: 1; border-radius: 0.35em; vertical-align: middle; margin-left: 0.5rem\">ORGANIZATION</span>\n",
              "</mark>\n",
              " </div></span>"
            ]
          },
          "metadata": {}
        },
        {
          "output_type": "stream",
          "name": "stdout",
          "text": [
            "----------\n",
            "モデルの予測：\n"
          ]
        },
        {
          "output_type": "display_data",
          "data": {
            "text/plain": [
              "<IPython.core.display.HTML object>"
            ],
            "text/html": [
              "<span class=\"tex2jax_ignore\"><div class=\"entities\" style=\"line-height: 2.5; direction: ltr\">この 買収 は アルストム だけ で なく 、 シュナイダー エレクトリック も 関わって おり 、 送電 事業 を アルストム が 、 配電 事業 を シュナイダー エレクトリック が 引き継ぐ もの である 。 </div></span>"
            ]
          },
          "metadata": {}
        },
        {
          "output_type": "stream",
          "name": "stdout",
          "text": [
            "正解：\n"
          ]
        },
        {
          "output_type": "display_data",
          "data": {
            "text/plain": [
              "<IPython.core.display.HTML object>"
            ],
            "text/html": [
              "<span class=\"tex2jax_ignore\"><div class=\"entities\" style=\"line-height: 2.5; direction: ltr\">この 買収 は \n",
              "<mark class=\"entity\" style=\"background: #dfe6e9; padding: 0.45em 0.6em; margin: 0 0.25em; line-height: 1; border-radius: 0.35em;\">\n",
              "    アルストム\n",
              "    <span style=\"font-size: 0.8em; font-weight: bold; line-height: 1; border-radius: 0.35em; vertical-align: middle; margin-left: 0.5rem\">ORGANIZATION</span>\n",
              "</mark>\n",
              " だけ で なく 、 \n",
              "<mark class=\"entity\" style=\"background: #dfe6e9; padding: 0.45em 0.6em; margin: 0 0.25em; line-height: 1; border-radius: 0.35em;\">\n",
              "    シュナイダー エレクトリック\n",
              "    <span style=\"font-size: 0.8em; font-weight: bold; line-height: 1; border-radius: 0.35em; vertical-align: middle; margin-left: 0.5rem\">ORGANIZATION</span>\n",
              "</mark>\n",
              " も 関わって おり 、 送電 事業 を \n",
              "<mark class=\"entity\" style=\"background: #dfe6e9; padding: 0.45em 0.6em; margin: 0 0.25em; line-height: 1; border-radius: 0.35em;\">\n",
              "    アルストム\n",
              "    <span style=\"font-size: 0.8em; font-weight: bold; line-height: 1; border-radius: 0.35em; vertical-align: middle; margin-left: 0.5rem\">ORGANIZATION</span>\n",
              "</mark>\n",
              " が 、 配電 事業 を \n",
              "<mark class=\"entity\" style=\"background: #dfe6e9; padding: 0.45em 0.6em; margin: 0 0.25em; line-height: 1; border-radius: 0.35em;\">\n",
              "    シュナイダー エレクトリック\n",
              "    <span style=\"font-size: 0.8em; font-weight: bold; line-height: 1; border-radius: 0.35em; vertical-align: middle; margin-left: 0.5rem\">ORGANIZATION</span>\n",
              "</mark>\n",
              " が 引き継ぐ もの である 。 </div></span>"
            ]
          },
          "metadata": {}
        },
        {
          "output_type": "stream",
          "name": "stdout",
          "text": [
            "----------\n",
            "モデルの予測：\n"
          ]
        },
        {
          "output_type": "display_data",
          "data": {
            "text/plain": [
              "<IPython.core.display.HTML object>"
            ],
            "text/html": [
              "<span class=\"tex2jax_ignore\"><div class=\"entities\" style=\"line-height: 2.5; direction: ltr\">アルストム は \n",
              "<mark class=\"entity\" style=\"background: #81ecec; padding: 0.45em 0.6em; margin: 0 0.25em; line-height: 1; border-radius: 0.35em;\">\n",
              "    ２００４ 年\n",
              "    <span style=\"font-size: 0.8em; font-weight: bold; line-height: 1; border-radius: 0.35em; vertical-align: middle; margin-left: 0.5rem\">DATE</span>\n",
              "</mark>\n",
              " に アレヴァ に 送電 部門 を 売却 して おり 、 事実 上 の 買い戻し である 。 </div></span>"
            ]
          },
          "metadata": {}
        },
        {
          "output_type": "stream",
          "name": "stdout",
          "text": [
            "正解：\n"
          ]
        },
        {
          "output_type": "display_data",
          "data": {
            "text/plain": [
              "<IPython.core.display.HTML object>"
            ],
            "text/html": [
              "<span class=\"tex2jax_ignore\"><div class=\"entities\" style=\"line-height: 2.5; direction: ltr\">\n",
              "<mark class=\"entity\" style=\"background: #dfe6e9; padding: 0.45em 0.6em; margin: 0 0.25em; line-height: 1; border-radius: 0.35em;\">\n",
              "    アルストム\n",
              "    <span style=\"font-size: 0.8em; font-weight: bold; line-height: 1; border-radius: 0.35em; vertical-align: middle; margin-left: 0.5rem\">ORGANIZATION</span>\n",
              "</mark>\n",
              " は \n",
              "<mark class=\"entity\" style=\"background: #81ecec; padding: 0.45em 0.6em; margin: 0 0.25em; line-height: 1; border-radius: 0.35em;\">\n",
              "    ２００４ 年\n",
              "    <span style=\"font-size: 0.8em; font-weight: bold; line-height: 1; border-radius: 0.35em; vertical-align: middle; margin-left: 0.5rem\">DATE</span>\n",
              "</mark>\n",
              " に \n",
              "<mark class=\"entity\" style=\"background: #dfe6e9; padding: 0.45em 0.6em; margin: 0 0.25em; line-height: 1; border-radius: 0.35em;\">\n",
              "    アレヴァ\n",
              "    <span style=\"font-size: 0.8em; font-weight: bold; line-height: 1; border-radius: 0.35em; vertical-align: middle; margin-left: 0.5rem\">ORGANIZATION</span>\n",
              "</mark>\n",
              " に 送電 部門 を 売却 して おり 、 事実 上 の 買い戻し である 。 </div></span>"
            ]
          },
          "metadata": {}
        },
        {
          "output_type": "stream",
          "name": "stdout",
          "text": [
            "----------\n",
            "モデルの予測：\n"
          ]
        },
        {
          "output_type": "display_data",
          "data": {
            "text/plain": [
              "<IPython.core.display.HTML object>"
            ],
            "text/html": [
              "<span class=\"tex2jax_ignore\"><div class=\"entities\" style=\"line-height: 2.5; direction: ltr\">本社 は \n",
              "<mark class=\"entity\" style=\"background: #74b9ff; padding: 0.45em 0.6em; margin: 0 0.25em; line-height: 1; border-radius: 0.35em;\">\n",
              "    フランス\n",
              "    <span style=\"font-size: 0.8em; font-weight: bold; line-height: 1; border-radius: 0.35em; vertical-align: middle; margin-left: 0.5rem\">LOCATION</span>\n",
              "</mark>\n",
              " ・ \n",
              "<mark class=\"entity\" style=\"background: #74b9ff; padding: 0.45em 0.6em; margin: 0 0.25em; line-height: 1; border-radius: 0.35em;\">\n",
              "    パリ\n",
              "    <span style=\"font-size: 0.8em; font-weight: bold; line-height: 1; border-radius: 0.35em; vertical-align: middle; margin-left: 0.5rem\">LOCATION</span>\n",
              "</mark>\n",
              " 近郊 の ラ ・ デファンス 。 </div></span>"
            ]
          },
          "metadata": {}
        },
        {
          "output_type": "stream",
          "name": "stdout",
          "text": [
            "正解：\n"
          ]
        },
        {
          "output_type": "display_data",
          "data": {
            "text/plain": [
              "<IPython.core.display.HTML object>"
            ],
            "text/html": [
              "<span class=\"tex2jax_ignore\"><div class=\"entities\" style=\"line-height: 2.5; direction: ltr\">本社 は \n",
              "<mark class=\"entity\" style=\"background: #74b9ff; padding: 0.45em 0.6em; margin: 0 0.25em; line-height: 1; border-radius: 0.35em;\">\n",
              "    フランス\n",
              "    <span style=\"font-size: 0.8em; font-weight: bold; line-height: 1; border-radius: 0.35em; vertical-align: middle; margin-left: 0.5rem\">LOCATION</span>\n",
              "</mark>\n",
              " ・ \n",
              "<mark class=\"entity\" style=\"background: #74b9ff; padding: 0.45em 0.6em; margin: 0 0.25em; line-height: 1; border-radius: 0.35em;\">\n",
              "    パリ\n",
              "    <span style=\"font-size: 0.8em; font-weight: bold; line-height: 1; border-radius: 0.35em; vertical-align: middle; margin-left: 0.5rem\">LOCATION</span>\n",
              "</mark>\n",
              " 近郊 の \n",
              "<mark class=\"entity\" style=\"background: #74b9ff; padding: 0.45em 0.6em; margin: 0 0.25em; line-height: 1; border-radius: 0.35em;\">\n",
              "    ラ ・ デファンス\n",
              "    <span style=\"font-size: 0.8em; font-weight: bold; line-height: 1; border-radius: 0.35em; vertical-align: middle; margin-left: 0.5rem\">LOCATION</span>\n",
              "</mark>\n",
              " 。 </div></span>"
            ]
          },
          "metadata": {}
        },
        {
          "output_type": "stream",
          "name": "stdout",
          "text": [
            "----------\n",
            "モデルの予測：\n"
          ]
        },
        {
          "output_type": "display_data",
          "data": {
            "text/plain": [
              "<IPython.core.display.HTML object>"
            ],
            "text/html": [
              "<span class=\"tex2jax_ignore\"><div class=\"entities\" style=\"line-height: 2.5; direction: ltr\">\n",
              "<mark class=\"entity\" style=\"background: #74b9ff; padding: 0.45em 0.6em; margin: 0 0.25em; line-height: 1; border-radius: 0.35em;\">\n",
              "    郡 市\n",
              "    <span style=\"font-size: 0.8em; font-weight: bold; line-height: 1; border-radius: 0.35em; vertical-align: middle; margin-left: 0.5rem\">LOCATION</span>\n",
              "</mark>\n",
              " 代表 １６ チーム が 熱戦 を 展開 し ます 。 </div></span>"
            ]
          },
          "metadata": {}
        },
        {
          "output_type": "stream",
          "name": "stdout",
          "text": [
            "正解：\n"
          ]
        },
        {
          "output_type": "display_data",
          "data": {
            "text/plain": [
              "<IPython.core.display.HTML object>"
            ],
            "text/html": [
              "<span class=\"tex2jax_ignore\"><div class=\"entities\" style=\"line-height: 2.5; direction: ltr\">郡 市 代表 １６ チーム が 熱戦 を 展開 し ます 。 </div></span>"
            ]
          },
          "metadata": {}
        },
        {
          "output_type": "stream",
          "name": "stdout",
          "text": [
            "----------\n",
            "モデルの予測：\n"
          ]
        },
        {
          "output_type": "display_data",
          "data": {
            "text/plain": [
              "<IPython.core.display.HTML object>"
            ],
            "text/html": [
              "<span class=\"tex2jax_ignore\"><div class=\"entities\" style=\"line-height: 2.5; direction: ltr\">特典 を 求めて 、 ゲーマーズ と \n",
              "<mark class=\"entity\" style=\"background: #fab1a0; padding: 0.45em 0.6em; margin: 0 0.25em; line-height: 1; border-radius: 0.35em;\">\n",
              "    とら\n",
              "    <span style=\"font-size: 0.8em; font-weight: bold; line-height: 1; border-radius: 0.35em; vertical-align: middle; margin-left: 0.5rem\">PERSON</span>\n",
              "</mark>\n",
              " の あな に 買い に 行く 。 </div></span>"
            ]
          },
          "metadata": {}
        },
        {
          "output_type": "stream",
          "name": "stdout",
          "text": [
            "正解：\n"
          ]
        },
        {
          "output_type": "display_data",
          "data": {
            "text/plain": [
              "<IPython.core.display.HTML object>"
            ],
            "text/html": [
              "<span class=\"tex2jax_ignore\"><div class=\"entities\" style=\"line-height: 2.5; direction: ltr\">特典 を 求めて 、 \n",
              "<mark class=\"entity\" style=\"background: #74b9ff; padding: 0.45em 0.6em; margin: 0 0.25em; line-height: 1; border-radius: 0.35em;\">\n",
              "    ゲーマーズ\n",
              "    <span style=\"font-size: 0.8em; font-weight: bold; line-height: 1; border-radius: 0.35em; vertical-align: middle; margin-left: 0.5rem\">LOCATION</span>\n",
              "</mark>\n",
              " と \n",
              "<mark class=\"entity\" style=\"background: #74b9ff; padding: 0.45em 0.6em; margin: 0 0.25em; line-height: 1; border-radius: 0.35em;\">\n",
              "    とら の あな\n",
              "    <span style=\"font-size: 0.8em; font-weight: bold; line-height: 1; border-radius: 0.35em; vertical-align: middle; margin-left: 0.5rem\">LOCATION</span>\n",
              "</mark>\n",
              " に 買い に 行く 。 </div></span>"
            ]
          },
          "metadata": {}
        },
        {
          "output_type": "stream",
          "name": "stdout",
          "text": [
            "----------\n",
            "モデルの予測：\n"
          ]
        },
        {
          "output_type": "display_data",
          "data": {
            "text/plain": [
              "<IPython.core.display.HTML object>"
            ],
            "text/html": [
              "<span class=\"tex2jax_ignore\"><div class=\"entities\" style=\"line-height: 2.5; direction: ltr\">色んな 感情 が 湧いて き ます が 、 けいおん の 最終 回 らしい 良い 話 だった と 思い ます 。 </div></span>"
            ]
          },
          "metadata": {}
        },
        {
          "output_type": "stream",
          "name": "stdout",
          "text": [
            "正解：\n"
          ]
        },
        {
          "output_type": "display_data",
          "data": {
            "text/plain": [
              "<IPython.core.display.HTML object>"
            ],
            "text/html": [
              "<span class=\"tex2jax_ignore\"><div class=\"entities\" style=\"line-height: 2.5; direction: ltr\">色んな 感情 が 湧いて き ます が 、 \n",
              "<mark class=\"entity\" style=\"background: #55efc4; padding: 0.45em 0.6em; margin: 0 0.25em; line-height: 1; border-radius: 0.35em;\">\n",
              "    けいおん\n",
              "    <span style=\"font-size: 0.8em; font-weight: bold; line-height: 1; border-radius: 0.35em; vertical-align: middle; margin-left: 0.5rem\">ARTIFACT</span>\n",
              "</mark>\n",
              " の 最終 回 らしい 良い 話 だった と 思い ます 。 </div></span>"
            ]
          },
          "metadata": {}
        },
        {
          "output_type": "stream",
          "name": "stdout",
          "text": [
            "----------\n"
          ]
        },
        {
          "output_type": "display_data",
          "data": {
            "text/plain": [
              "<IPython.core.display.HTML object>"
            ],
            "text/html": [
              "<span class=\"tex2jax_ignore\"><div class=\"entities\" style=\"line-height: 2.5; direction: ltr\">\n",
              "<mark class=\"entity\" style=\"background: #81ecec; padding: 0.45em 0.6em; margin: 0 0.25em; line-height: 1; border-radius: 0.35em;\">\n",
              "    平成 ２１ 年度\n",
              "    <span style=\"font-size: 0.8em; font-weight: bold; line-height: 1; border-radius: 0.35em; vertical-align: middle; margin-left: 0.5rem\">DATE</span>\n",
              "</mark>\n",
              " の 修了 式 、 卒業 式 も 終わり ました 。 </div></span>"
            ]
          },
          "metadata": {}
        },
        {
          "output_type": "stream",
          "name": "stdout",
          "text": [
            "----------\n",
            "モデルの予測：\n"
          ]
        },
        {
          "output_type": "display_data",
          "data": {
            "text/plain": [
              "<IPython.core.display.HTML object>"
            ],
            "text/html": [
              "<span class=\"tex2jax_ignore\"><div class=\"entities\" style=\"line-height: 2.5; direction: ltr\">\n",
              "<mark class=\"entity\" style=\"background: #81ecec; padding: 0.45em 0.6em; margin: 0 0.25em; line-height: 1; border-radius: 0.35em;\">\n",
              "    ４ 月\n",
              "    <span style=\"font-size: 0.8em; font-weight: bold; line-height: 1; border-radius: 0.35em; vertical-align: middle; margin-left: 0.5rem\">DATE</span>\n",
              "</mark>\n",
              " から 新 \n",
              "<mark class=\"entity\" style=\"background: #81ecec; padding: 0.45em 0.6em; margin: 0 0.25em; line-height: 1; border-radius: 0.35em;\">\n",
              "    学期\n",
              "    <span style=\"font-size: 0.8em; font-weight: bold; line-height: 1; border-radius: 0.35em; vertical-align: middle; margin-left: 0.5rem\">DATE</span>\n",
              "</mark>\n",
              " が 始まり ます 。 </div></span>"
            ]
          },
          "metadata": {}
        },
        {
          "output_type": "stream",
          "name": "stdout",
          "text": [
            "正解：\n"
          ]
        },
        {
          "output_type": "display_data",
          "data": {
            "text/plain": [
              "<IPython.core.display.HTML object>"
            ],
            "text/html": [
              "<span class=\"tex2jax_ignore\"><div class=\"entities\" style=\"line-height: 2.5; direction: ltr\">\n",
              "<mark class=\"entity\" style=\"background: #81ecec; padding: 0.45em 0.6em; margin: 0 0.25em; line-height: 1; border-radius: 0.35em;\">\n",
              "    ４ 月\n",
              "    <span style=\"font-size: 0.8em; font-weight: bold; line-height: 1; border-radius: 0.35em; vertical-align: middle; margin-left: 0.5rem\">DATE</span>\n",
              "</mark>\n",
              " から 新 学期 が 始まり ます 。 </div></span>"
            ]
          },
          "metadata": {}
        },
        {
          "output_type": "stream",
          "name": "stdout",
          "text": [
            "----------\n",
            "モデルの予測：\n"
          ]
        },
        {
          "output_type": "display_data",
          "data": {
            "text/plain": [
              "<IPython.core.display.HTML object>"
            ],
            "text/html": [
              "<span class=\"tex2jax_ignore\"><div class=\"entities\" style=\"line-height: 2.5; direction: ltr\">修了 式 、 卒業 式 の 様子 は 学校 日記 に 掲載 して あり ます 。 </div></span>"
            ]
          },
          "metadata": {}
        },
        {
          "output_type": "stream",
          "name": "stdout",
          "text": [
            "正解：\n"
          ]
        },
        {
          "output_type": "display_data",
          "data": {
            "text/plain": [
              "<IPython.core.display.HTML object>"
            ],
            "text/html": [
              "<span class=\"tex2jax_ignore\"><div class=\"entities\" style=\"line-height: 2.5; direction: ltr\">修了 式 、 卒業 式 の 様子 は \n",
              "<mark class=\"entity\" style=\"background: #55efc4; padding: 0.45em 0.6em; margin: 0 0.25em; line-height: 1; border-radius: 0.35em;\">\n",
              "    学校 日記\n",
              "    <span style=\"font-size: 0.8em; font-weight: bold; line-height: 1; border-radius: 0.35em; vertical-align: middle; margin-left: 0.5rem\">ARTIFACT</span>\n",
              "</mark>\n",
              " に 掲載 して あり ます 。 </div></span>"
            ]
          },
          "metadata": {}
        },
        {
          "output_type": "stream",
          "name": "stdout",
          "text": [
            "----------\n",
            "モデルの予測：\n"
          ]
        },
        {
          "output_type": "display_data",
          "data": {
            "text/plain": [
              "<IPython.core.display.HTML object>"
            ],
            "text/html": [
              "<span class=\"tex2jax_ignore\"><div class=\"entities\" style=\"line-height: 2.5; direction: ltr\">へぐぉぉっ 横山 光輝 先生 が 亡くなら れて しまう と は 。 </div></span>"
            ]
          },
          "metadata": {}
        },
        {
          "output_type": "stream",
          "name": "stdout",
          "text": [
            "正解：\n"
          ]
        },
        {
          "output_type": "display_data",
          "data": {
            "text/plain": [
              "<IPython.core.display.HTML object>"
            ],
            "text/html": [
              "<span class=\"tex2jax_ignore\"><div class=\"entities\" style=\"line-height: 2.5; direction: ltr\">へぐぉぉっ \n",
              "<mark class=\"entity\" style=\"background: #fab1a0; padding: 0.45em 0.6em; margin: 0 0.25em; line-height: 1; border-radius: 0.35em;\">\n",
              "    横山 光輝\n",
              "    <span style=\"font-size: 0.8em; font-weight: bold; line-height: 1; border-radius: 0.35em; vertical-align: middle; margin-left: 0.5rem\">PERSON</span>\n",
              "</mark>\n",
              " 先生 が 亡くなら れて しまう と は 。 </div></span>"
            ]
          },
          "metadata": {}
        },
        {
          "output_type": "stream",
          "name": "stdout",
          "text": [
            "----------\n"
          ]
        },
        {
          "output_type": "display_data",
          "data": {
            "text/plain": [
              "<IPython.core.display.HTML object>"
            ],
            "text/html": [
              "<span class=\"tex2jax_ignore\"><div class=\"entities\" style=\"line-height: 2.5; direction: ltr\">父 が 持って いた 「 \n",
              "<mark class=\"entity\" style=\"background: #55efc4; padding: 0.45em 0.6em; margin: 0 0.25em; line-height: 1; border-radius: 0.35em;\">\n",
              "    伊賀 の 影丸\n",
              "    <span style=\"font-size: 0.8em; font-weight: bold; line-height: 1; border-radius: 0.35em; vertical-align: middle; margin-left: 0.5rem\">ARTIFACT</span>\n",
              "</mark>\n",
              " 」 が 大好きで 、 小学校 時代 は 毎日 の ように 読み 返して ました 。 </div></span>"
            ]
          },
          "metadata": {}
        },
        {
          "output_type": "stream",
          "name": "stdout",
          "text": [
            "----------\n"
          ]
        }
      ],
      "source": [
        "import warnings\n",
        "\n",
        "# 与えられた文にエンティティがない場合にdisplaCyが表示する警告を無効化\n",
        "warnings.simplefilter(\"ignore\")\n",
        "\n",
        "# エンティティの型に設定する色\n",
        "ENTITY_COLORS = {\n",
        "    \"ARTIFACT\": \"#55efc4\",\n",
        "    \"DATE\": \"#81ecec\",\n",
        "    \"LOCATION\": \"#74b9ff\",\n",
        "    \"MONEY\": \"#a29bfe\",\n",
        "    \"ORGANIZATION\": \"#dfe6e9\",\n",
        "    \"PERCENT\": \"#ffeaa7\",\n",
        "    \"PERSON\": \"#fab1a0\",\n",
        "    \"TIME\": \"#fd79a8\",\n",
        "}\n",
        "\n",
        "# 検証データセットの最初から300件の文を順に処理\n",
        "for output_doc, gold_doc in zip(output_docs[:300], gold_docs[:300]):\n",
        "    # モデルの予測と正解データのどちらにもエンティティがない場合は飛ばす\n",
        "    if not output_doc.ents and not gold_doc.ents:\n",
        "        continue\n",
        "\n",
        "    # モデルの予測と正解データのラベル列が一致していない場合は双方を表示する\n",
        "    if output_doc.user_data[\"labels\"] != gold_doc.user_data[\"labels\"]:\n",
        "        print(\"モデルの予測：\")\n",
        "        displacy.render(output_doc, style=\"ent\", jupyter=True, options={\"colors\": ENTITY_COLORS})\n",
        "        print(\"正解：\")\n",
        "        displacy.render(gold_doc, style=\"ent\", jupyter=True, options={\"colors\": ENTITY_COLORS})\n",
        "    else:\n",
        "        displacy.render(output_doc, style=\"ent\", jupyter=True, options={\"colors\": ENTITY_COLORS})\n",
        "    print(\"----------\")"
      ]
    }
  ],
  "metadata": {
    "accelerator": "GPU",
    "colab": {
      "provenance": []
    },
    "kernelspec": {
      "display_name": "Python 3",
      "name": "python3"
    }
  },
  "nbformat": 4,
  "nbformat_minor": 0
}